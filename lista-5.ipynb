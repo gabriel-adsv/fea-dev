{
 "cells": [
  {
   "cell_type": "markdown",
   "id": "3eb1954c",
   "metadata": {
    "id": "3eb1954c"
   },
   "source": [
    "### Fala devs, blz?\n",
    "\n",
    "Temos a honra de apresentar nossa 5ᵃ lista de exercícios do Curso de Python 2024 ! 🥳\n",
    "\n",
    "Dessa vez o tema será o módulo 5, que retrata sobre importações de bibliotecas e sobre a biblioteca _Numpy_ - muito importante para realização de códigos matemáticos e melhora de desempenho das operações.\n",
    "\n",
    "Esperamos que seja um estudo produtivo e que se divirtam aprendendo!"
   ]
  },
  {
   "cell_type": "markdown",
   "id": "2accc8ad",
   "metadata": {
    "id": "2accc8ad"
   },
   "source": [
    "---\n",
    "### INSTRUÇÕES:\n",
    "\n",
    "A realização da lista deve ser feita através no Jupyter Notebook.\n",
    "\n",
    "É primordial enviar as listas para praticar todo o conhecimento adquirido durante o curso.\n",
    "\n",
    "Este DESAFIO foi elaborado para quebrar a cabeça. Por isso, não desista de tentar e de continuar com o curso. Ao longo das listas, você perceberá que terá cada vez mais ferramentas para completá-las.\n",
    "\n",
    "Se surgirem dúvidas sobre a lista, assista as monitorias para entender melhor. Se o problema não for resolvido, envie uma mensagem para o formulário de dúvidas.\n",
    "\n",
    "---"
   ]
  },
  {
   "cell_type": "code",
   "execution_count": 2,
   "id": "d083b755",
   "metadata": {
    "executionInfo": {
     "elapsed": 460,
     "status": "ok",
     "timestamp": 1728655509818,
     "user": {
      "displayName": "FEA dev",
      "userId": "13103045966764146615"
     },
     "user_tz": 180
    },
    "id": "d083b755"
   },
   "outputs": [],
   "source": [
    "# Vamos começar importando algumas bibliotecas importantes para os exercícios. ps: Escolham o método que desejarem para resolução.\n",
    "import math\n",
    "import numpy as np\n",
    "import random as rd\n",
    "import datetime"
   ]
  },
  {
   "cell_type": "markdown",
   "id": "2c3bcf6b",
   "metadata": {
    "id": "2c3bcf6b"
   },
   "source": [
    "## Questão 0\n",
    "### Dr. Keynes"
   ]
  },
  {
   "cell_type": "markdown",
   "id": "8cd66634",
   "metadata": {
    "id": "8cd66634"
   },
   "source": [
    "No início do século XX, o economista John Maynard Keynes revolucionou o pensamento econômico ao destacar a importância do Produto Interno Bruto (PIB) como uma medida essencial para entender a saúde de uma economia. O PIB é a soma de todos os bens e serviços finais produzidos em uma economia durante um determinado período. Para calculá-lo, basta multiplicar o valor de cada item pelo número de unidades vendidas.\n",
    "\n",
    "Sua missão é ajudar o governo das Ilhas Cayman a calcular o PIB do país neste ano, baseado nos dados fornecidos de três setores da economia: turismo, exportação de frutas tropicais, venda de acessórios, entrada de dinheiro estrangeiro e até a venda de valiosas pinturas.\n",
    "\n",
    "Crie duas matrizes usando o NumPy:\n",
    "\n",
    "A primeira matriz representa o valor unitário dos itens de cada setor.\n",
    "\n",
    "A segunda matriz representa a quantidade vendida de cada item.\n",
    "\n",
    "\n",
    "Sua missão é calcular o PIB das Ilhas Cayman com base com estes dados fictícios. Multiplique as duas matrizes para descobrir o PIB das Ilhas Cayman e exiba o resultado total e printar a seguinte mensagem:\n",
    "\"Com base nos cálculos, o Produto Interno Bruto (PIB) das Ilhas Cayman alcança X bilhões de dólares! Graças ao turismo, à arte, às frutas tropicais e à entrada de dinheiro estrangeiro.\""
   ]
  },
  {
   "cell_type": "markdown",
   "id": "052d04c2",
   "metadata": {
    "id": "052d04c2"
   },
   "source": [
    "![image.png](attachment:image.png)"
   ]
  },
  {
   "cell_type": "code",
   "execution_count": 6,
   "id": "19842b22",
   "metadata": {
    "id": "19842b22"
   },
   "outputs": [
    {
     "name": "stdout",
     "output_type": "stream",
     "text": [
      "Com base nos cálculos, o Produto Interno Bruto (PIB) das ilhas Cayman alcança 1805.0 bilhões de dólares! Graças ao turismo, à arte, às frutas e à entrada de dinheiro estrangeiro\n"
     ]
    }
   ],
   "source": [
    "import numpy as np\n",
    "\n",
    "# Faça a multiplicação de matrizes e o print aqui\n",
    "valor_unitario = np.array([\n",
    "  [1.5, 0.8, 0.3, 2.0, 5.0]\n",
    "])\n",
    "\n",
    "quantidade_vendida = np.array([\n",
    "  [500, 700, 300, 200, 1]\n",
    "])\n",
    "\n",
    "pib = (valor_unitario * quantidade_vendida).sum()\n",
    "\n",
    "print('Com base nos cálculos, o Produto Interno Bruto (PIB) das ilhas Cayman alcança {} bilhões de dólares! Graças ao turismo, à arte, às frutas e à entrada de dinheiro estrangeiro'.format(pib))"
   ]
  },
  {
   "cell_type": "markdown",
   "id": "b21fc197",
   "metadata": {
    "id": "b21fc197"
   },
   "source": [
    "## Questão 1\n",
    "\n",
    "a) Filtrando notas abaixo de 7 Um professor quer saber quais alunos tiraram notas abaixo de 7 em uma turma de 100 alunos. Dado um array com as notas de cada aluno, filtre e exiba apenas as notas menores que 7, para que o professor possa ver quais alunos precisam de ajuda.\n",
    "Escreva um código para criar o array de notas e realizar o filtro das notas abaixo de 7."
   ]
  },
  {
   "cell_type": "code",
   "execution_count": 4,
   "id": "42c7e7a2",
   "metadata": {
    "id": "42c7e7a2",
    "outputId": "a791c50b-077a-4dee-95b3-9616bc3b2a05"
   },
   "outputs": [
    {
     "data": {
      "text/plain": [
       "array([5.97172632, 7.80852168, 4.01303723, 4.36429663, 6.00027762,\n",
       "       2.45690956, 3.25895787, 3.36813512, 1.35642945, 9.60554068,\n",
       "       3.85397474, 9.98033321, 1.71231584, 6.28218517, 3.02493785,\n",
       "       4.53316194, 3.27287433, 4.19381261, 9.67482379, 5.45591333,\n",
       "       9.09093313, 5.69400201, 5.47396486, 8.59182019, 7.36910296,\n",
       "       6.20483441, 1.06748426, 8.17706145, 2.19445802, 2.09775133,\n",
       "       1.87324928, 5.6423581 , 6.36733493, 4.12483778, 7.01549378,\n",
       "       9.28590876, 4.80647675, 7.44983449, 0.83805681, 8.59095647,\n",
       "       8.02933765, 0.51451224, 4.19936607, 9.96138578, 4.33770833,\n",
       "       1.42735086, 3.80647278, 5.41673727, 6.04892372, 7.84034305,\n",
       "       8.20863118, 3.75957523, 2.48670172, 8.53310099, 7.73982734,\n",
       "       7.61735301, 9.54251941, 8.69014661, 5.10729216, 9.58383404,\n",
       "       1.86825376, 4.27154908, 0.95148956, 1.6184086 , 6.97164564,\n",
       "       3.510044  , 4.49441861, 5.94019653, 2.676475  , 8.92740245,\n",
       "       2.43978535, 9.01121749, 9.96016784, 0.25862439, 6.18616862,\n",
       "       0.58556526, 5.99044475, 6.47425627, 2.07033175, 1.78484455,\n",
       "       1.25020941, 3.07791381, 8.97084163, 6.94900785, 1.05481979,\n",
       "       8.03691593, 5.47041857, 8.82539694, 1.3745769 , 6.01259404,\n",
       "       8.46523269, 5.22460597, 1.79769711, 9.64268747, 3.98957904,\n",
       "       5.12382912, 5.91157668, 4.81441097, 8.36960111, 6.88896919])"
      ]
     },
     "execution_count": 4,
     "metadata": {},
     "output_type": "execute_result"
    }
   ],
   "source": [
    "notas = np.random.uniform(0, 10, size = 100)\n",
    "notas"
   ]
  },
  {
   "cell_type": "code",
   "execution_count": 10,
   "id": "e1caa05f",
   "metadata": {
    "id": "e1caa05f"
   },
   "outputs": [
    {
     "ename": "NameError",
     "evalue": "name 'notas' is not defined",
     "output_type": "error",
     "traceback": [
      "\u001b[1;31m---------------------------------------------------------------------------\u001b[0m",
      "\u001b[1;31mNameError\u001b[0m                                 Traceback (most recent call last)",
      "Cell \u001b[1;32mIn[10], line 2\u001b[0m\n\u001b[0;32m      1\u001b[0m \u001b[38;5;66;03m#Escreva aqui o seu código\u001b[39;00m\n\u001b[1;32m----> 2\u001b[0m notas_menores \u001b[38;5;241m=\u001b[39m \u001b[43mnotas\u001b[49m \u001b[38;5;241m<\u001b[39m \u001b[38;5;241m7\u001b[39m\n\u001b[0;32m      4\u001b[0m notas_reprovadas \u001b[38;5;241m=\u001b[39m notas[notas_menores]\n\u001b[0;32m      6\u001b[0m notas_reprovadas\n",
      "\u001b[1;31mNameError\u001b[0m: name 'notas' is not defined"
     ]
    }
   ],
   "source": [
    "#Escreva aqui o seu código\n",
    "notas_menores = notas < 7\n",
    "\n",
    "notas_reprovadas = notas[notas_menores]\n",
    "\n",
    "notas_reprovadas"
   ]
  },
  {
   "cell_type": "markdown",
   "id": "c922a69d",
   "metadata": {
    "id": "c922a69d"
   },
   "source": [
    "b) Enviando uma lista de itens para a loja\n",
    "\n",
    "Você foi ao mercado e anotou uma lista de itens, mas percebeu que alguns deles estavam repetidos. Agora você quer enviar para a loja apenas os itens únicos. Dado um array com sua lista de compras (com repetições), crie um código que mostre a lista final sem itens duplicados."
   ]
  },
  {
   "cell_type": "code",
   "execution_count": 13,
   "id": "b58b54bf",
   "metadata": {
    "id": "b58b54bf",
    "outputId": "086c4804-114f-4b1f-a201-c6c73a91bd61"
   },
   "outputs": [
    {
     "name": "stdout",
     "output_type": "stream",
     "text": [
      "['arroz' 'carne' 'feijão' 'iogurte' 'leite' 'queijo' 'queijoarroz' 'suco']\n"
     ]
    }
   ],
   "source": [
    "import numpy as np\n",
    "\n",
    "lista_itens = np.array(['leite', 'queijo' 'arroz', 'feijão', 'carne', 'iogurte', 'suco', 'queijo', 'leite', 'arroz'])\n",
    "\n",
    "valores_unicos = np.unique(lista_itens)\n",
    "\n",
    "print(valores_unicos)"
   ]
  },
  {
   "cell_type": "markdown",
   "id": "5c89226e",
   "metadata": {
    "id": "5c89226e"
   },
   "source": [
    "c) Você é um explorador de planetas e precisa registrar a temperatura em 9 pontos de uma lua que você está investigando. Esses pontos estão organizados em uma grade 3x3. Crie uma matriz 3x3 para representar essas temperaturas, preenchida com números inteiros entre 100°C e 150°C, e exiba a matriz. Por fim, localize a temperatura registrada na segunda linha e terceira coluna."
   ]
  },
  {
   "cell_type": "code",
   "execution_count": 14,
   "id": "9de124ef",
   "metadata": {
    "id": "9de124ef"
   },
   "outputs": [
    {
     "data": {
      "text/plain": [
       "np.str_('129°c')"
      ]
     },
     "execution_count": 14,
     "metadata": {},
     "output_type": "execute_result"
    }
   ],
   "source": [
    "import numpy as np\n",
    "\n",
    "lista_temperatura = ['100°c', '120°c', '150°c', '138°c', '112°c', '129°c', '144°c', '110°c', '105°c']\n",
    "\n",
    "temperatura = np.array(lista_temperatura).reshape(3, 3)\n",
    "\n",
    "temperatura[1, 2]"
   ]
  },
  {
   "cell_type": "markdown",
   "id": "9e0dec8a",
   "metadata": {},
   "source": [
    "## Questão 2 - Exercício Cancelado - Não é necessário realizar a questão 2\n",
    "\n",
    "Não será necessário realizar a Questão 2.\n",
    "\n",
    "O conteúdo exigido não foi abordado em aula e está mais relacionado à biblioteca datetime do que a Numpy. Para aqueles que tiverem interesse em aprender mais sobre datetime, recomendamos acessar a documentação oficial do Python e tentar resolver o exercício como um desafio adicional. No entanto, esse conteúdo não será cobrado.\n",
    "\n",
    "Pedimos desculpas pelo inconveniente!\n",
    "\n",
    "<div style='color: red'>Você é um famoso consultor financeiro internacional, constantemente viajando entre diferentes países e lidando com fusos horários variados. Como você é muito ocupado, precisa de um sistema que te ajude a organizar compromissos importantes automaticamente no horário local de cada país.\n",
    "\n",
    "Sua missão é criar um código que, ao receber a data e hora de um compromisso em um fuso horário (GMT), seja capaz de converter essa data e hora para o fuso horário local de outros três países: Brasil (GMT-3), Japão (GMT+9) e Estados Unidos (Nova York, GMT-4).\n",
    "\n",
    "Receba a data e hora de um compromisso (em GMT) e converta para os fusos horários locais do Brasil, Japão e Nova York.\n",
    "Exiba uma mensagem para o usuário indicando os horários em cada país, facilitando a organização da agenda.\n",
    "\n",
    "Saída Esperada:\n",
    "\n",
    "\"Seu compromisso será às 12:00 no Brasil, às 00:00 no Japão (do dia seguinte), e às 11:00 em Nova York.\"</div>"
   ]
  },
  {
   "cell_type": "code",
   "execution_count": 1,
   "id": "967482fd",
   "metadata": {},
   "outputs": [],
   "source": [
    "compromisso_gmt = '2024-10-10 15:00:00'"
   ]
  },
  {
   "cell_type": "markdown",
   "id": "2aa99bcb",
   "metadata": {
    "id": "2aa99bcb"
   },
   "source": [
    "## Questão 3\n",
    "\n",
    "Uma loja de eletrônicos está fazendo uma análise dos preços de seus produtos e quer saber quais itens estão acima do preço médio. Dado um array com os preços de 17 produtos, calcule o preço médio e o desvio padrão e exiba apenas os produtos que custam mais do que a média.\n",
    "\n",
    "![image.png](attachment:image.png)\n",
    "\n",
    "Escreva um código para calcular o preço médio e filtrar os produtos acima desse valor."
   ]
  },
  {
   "cell_type": "code",
   "execution_count": 16,
   "id": "0f567fac",
   "metadata": {
    "id": "0f567fac",
    "outputId": "6e93c78d-779e-46f4-897a-ae5f089cee83"
   },
   "outputs": [
    {
     "name": "stdout",
     "output_type": "stream",
     "text": [
      "[23.1396193   0.62255848 19.00944705 22.46411648 14.95521037  6.74389937\n",
      "  5.94188594 22.81592137  5.0733251   2.65019443 20.56079455 28.60180039\n",
      "  0.11844799 15.3657679  24.37862885 18.375782   21.65265952]\n",
      "O preço médio dos produtos é de R$14.85, com um desvio padrão de R$9.04.\n",
      "\n",
      "Os produtos com preço acima da média são: \n",
      "[23.1396193  19.00944705 22.46411648 14.95521037 22.81592137 20.56079455\n",
      " 28.60180039 15.3657679  24.37862885 18.375782   21.65265952]\n"
     ]
    }
   ],
   "source": [
    "import numpy as np\n",
    "\n",
    "np.random.seed(10)\n",
    "\n",
    "preco_produtos = np.random.uniform(0, 30, 17)\n",
    "\n",
    "print(preco_produtos)\n",
    "\n",
    "# Escreva aqui o seu código\n",
    "preco_medio = np.mean(preco_produtos)\n",
    "desvpad = np.std(preco_produtos)\n",
    "\n",
    "acima_media = preco_produtos[preco_produtos > preco_medio]\n",
    "\n",
    "print('O preço médio dos produtos é de R${:.2f}, com um desvio padrão de R${:.2f}.\\n'.format(preco_medio, desvpad))\n",
    "\n",
    "print('Os produtos com preço acima da média são: \\n{}'.format(acima_media))"
   ]
  },
  {
   "cell_type": "code",
   "execution_count": 10,
   "id": "caac3eb3",
   "metadata": {
    "id": "caac3eb3"
   },
   "outputs": [],
   "source": []
  },
  {
   "cell_type": "markdown",
   "id": "90b9450c",
   "metadata": {
    "id": "90b9450c"
   },
   "source": [
    "#\n",
    "Agora, utilize dos métodos .mean() e .std() para calcular a média e o desvio padrão do array anterior"
   ]
  },
  {
   "cell_type": "code",
   "execution_count": null,
   "id": "36f4ea70",
   "metadata": {
    "id": "36f4ea70",
    "outputId": "07d7c5f1-e9f8-4497-a100-0a9a04f69c32"
   },
   "outputs": [],
   "source": []
  },
  {
   "cell_type": "markdown",
   "id": "02190760",
   "metadata": {
    "id": "02190760"
   },
   "source": [
    "## Desafio (Opcional)\n",
    "\n",
    "Uma grande cidade está implementando um novo sistema de transporte público e precisa que você analise os dados de tráfego para otimizar a distribuição de veículos em diferentes rotas. Eles te forneceram uma matriz tridimensional que representa a quantidade de passageiros transportados em 5 linhas de ônibus, durante 7 dias da semana, em 4 diferentes horários de pico (manhã, meio-dia, tarde e noite).\n",
    "\n",
    "Cada dimensão da matriz tem o seguinte significado:\n",
    "\n",
    "Eixo 0: Representa as 5 linhas de ônibus.\n",
    "Eixo 1: Representa os 7 dias da semana.\n",
    "Eixo 2: Representa os 4 horários de pico.\n",
    "\n",
    "Sua missão é ajudar a cidade a otimizar o sistema, resolvendo os seguintes desafios:\n",
    "\n",
    "\n",
    "Média de passageiros por linha: Calcule a média de passageiros transportados em cada uma das 5 linhas de ônibus ao longo da semana.\n",
    "\n",
    "Dia mais movimentado: Encontre qual dia da semana (entre os 7 dias) teve o maior número total de passageiros transportados em todas as linhas e horários de pico.\n",
    "\n",
    "Horário de pico mais movimentado: Identifique qual dos 4 horários de pico (manhã, meio-dia, tarde ou noite) transporta o maior número médio de passageiros.\n",
    "\n",
    "Redistribuição de veículos: A cidade está considerando mover veículos de linhas menos utilizadas para as mais movimentadas. Encontre as duas linhas de ônibus que têm a maior diferença no número total de passageiros ao longo da semana e proponha uma redistribuição onde 10% dos veículos da linha mais tranquila serão movidos para a linha mais movimentada.\n",
    "\n",
    "Pico de operação: Encontre as combinações de linha, dia e horário onde o número de passageiros excede 90% do valor máximo observado em toda a matriz. Estes representam momentos de pico extremo.\n",
    "\n",
    "\n",
    "Utilize operações de agregação do NumPy (como mean, sum, etc.) para resolver cada um dos desafios.\n",
    "Para o último desafio, utilize a técnica de indexação booleana para encontrar as posições que atendem à condição de pico de operação."
   ]
  },
  {
   "cell_type": "code",
   "execution_count": 11,
   "id": "90c91b22",
   "metadata": {
    "id": "90c91b22",
    "outputId": "10fd6acd-facb-41be-99a5-505a182111f4"
   },
   "outputs": [
    {
     "data": {
      "text/plain": [
       "array([[[149, 256, 289, 239],\n",
       "        [280, 168, 194, 123],\n",
       "        [ 58, 278, 281, 240],\n",
       "        [205, 162, 208, 258],\n",
       "        [ 57, 254, 193, 163],\n",
       "        [231, 281, 130,  77],\n",
       "        [ 94, 255, 253, 115]],\n",
       "\n",
       "       [[225,  80, 262, 136],\n",
       "        [175, 196, 171, 187],\n",
       "        [156,  91, 283, 240],\n",
       "        [179, 260, 153, 194],\n",
       "        [256,  55, 108,  50],\n",
       "        [258, 182, 160, 214],\n",
       "        [155, 229,  77,  81]],\n",
       "\n",
       "       [[ 52, 118,  88, 155],\n",
       "        [261, 197,  68, 163],\n",
       "        [295, 185, 150, 158],\n",
       "        [159, 208, 240,  61],\n",
       "        [285, 117, 174, 243],\n",
       "        [233, 181, 141, 128],\n",
       "        [205, 207,  83, 267]],\n",
       "\n",
       "       [[135, 185,  66, 144],\n",
       "        [ 64, 268,  81,  59],\n",
       "        [ 88,  97, 194, 183],\n",
       "        [212, 223, 237, 202],\n",
       "        [191, 168, 285, 282],\n",
       "        [ 81,  82, 126, 222],\n",
       "        [183, 192, 225, 144]],\n",
       "\n",
       "       [[132, 178, 281, 185],\n",
       "        [264,  66, 114,  58],\n",
       "        [268,  94, 176, 215],\n",
       "        [144, 253, 183, 283],\n",
       "        [200, 230, 119, 260],\n",
       "        [238, 141,  79, 266],\n",
       "        [170, 275, 270, 257]]])"
      ]
     },
     "execution_count": 11,
     "metadata": {},
     "output_type": "execute_result"
    }
   ],
   "source": [
    "np.random.seed(5)\n",
    "passageiros = np.random.randint(50, 300, size=(5, 7, 4))\n",
    "passageiros"
   ]
  },
  {
   "cell_type": "code",
   "execution_count": null,
   "id": "a3e21930",
   "metadata": {
    "id": "a3e21930"
   },
   "outputs": [],
   "source": []
  }
 ],
 "metadata": {
  "colab": {
   "provenance": []
  },
  "kernelspec": {
   "display_name": "Python 3",
   "language": "python",
   "name": "python3"
  },
  "language_info": {
   "codemirror_mode": {
    "name": "ipython",
    "version": 3
   },
   "file_extension": ".py",
   "mimetype": "text/x-python",
   "name": "python",
   "nbconvert_exporter": "python",
   "pygments_lexer": "ipython3",
   "version": "3.13.0"
  }
 },
 "nbformat": 4,
 "nbformat_minor": 5
}
