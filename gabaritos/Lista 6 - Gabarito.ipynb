{
 "cells": [
  {
   "cell_type": "markdown",
   "metadata": {},
   "source": [
    "## **Lista de Exercício 6 - Pandas I**\n",
    "### Fala devs, blz? \n",
    "\n",
    "Essa é a nossa 6ª lista de exercícios, parabéns por ter chegado até aqui! 🚀\n",
    "\n",
    "Dessa vez, iremos fixar os conceitos aprendidos na primeira aula da biblioteca Pandas! É essencial saber utilizar essa ferramenta, pois é uma das bibliotecas mais utilizadas para análise de dados em Python. \n",
    "\n",
    "Lembrando, **o desafio no final é opcional**, mas é possível fazê-lo com os conhecimentos adquiridos nas últimas semanas! Bons estudos!\n",
    "\n",
    "Base de dados utilizada pode ser baixada nesse link: https://drive.google.com/drive/u/1/folders/1wqPs51_YzMEL1zU8uNGV5C5zC5iHnzJn"
   ]
  },
  {
   "cell_type": "markdown",
   "metadata": {},
   "source": [
    "---"
   ]
  },
  {
   "cell_type": "markdown",
   "metadata": {},
   "source": [
    "### **Questão 1**\n",
    "\n",
    "Você está analisando uma base de dados com informações financeiras de diversas lojas de uma empresa. Inicialmente, você deseja obter informações básicas sobre a base."
   ]
  },
  {
   "cell_type": "code",
   "execution_count": null,
   "metadata": {},
   "outputs": [],
   "source": [
    "#Lendo a base de dados\n",
    "import pandas as pd \n",
    "\n",
    "df = pd.read_csv(\"dados_lojas.csv\", index_col=0)\n",
    "df"
   ]
  },
  {
   "cell_type": "markdown",
   "metadata": {},
   "source": [
    "a) Obtenha a quantidade de colunas e linhas. "
   ]
  },
  {
   "cell_type": "code",
   "execution_count": null,
   "metadata": {},
   "outputs": [],
   "source": [
    "#Escreva aqui o seu código\n",
    "df.shape"
   ]
  },
  {
   "cell_type": "markdown",
   "metadata": {},
   "source": [
    "b) Verifique as informações gerais do dataframe."
   ]
  },
  {
   "cell_type": "code",
   "execution_count": null,
   "metadata": {},
   "outputs": [],
   "source": [
    "#Escreva aqui o seu código\n",
    "df.info()"
   ]
  },
  {
   "cell_type": "markdown",
   "metadata": {},
   "source": [
    "c) Verifique as estatísticas descritivas do dataframe"
   ]
  },
  {
   "cell_type": "code",
   "execution_count": null,
   "metadata": {},
   "outputs": [],
   "source": [
    "#Escreva aqui o seu código\n",
    "df.describe()"
   ]
  },
  {
   "cell_type": "markdown",
   "metadata": {},
   "source": [
    "d) Verifique se o dataframe possui valores nulos. Delete todos os valores nulos (Use inplace = True)."
   ]
  },
  {
   "cell_type": "code",
   "execution_count": null,
   "metadata": {},
   "outputs": [],
   "source": [
    "#Escreva aqui o seu código para verificar se há valores nulos \n",
    "df.isna().sum()"
   ]
  },
  {
   "cell_type": "code",
   "execution_count": null,
   "metadata": {},
   "outputs": [],
   "source": [
    "#Escreva aqui o seu código para alterar valores nulos.\n",
    "df.dropna(inplace = True)\n",
    "df\n",
    "#Veja que o número de linhas diminuiu."
   ]
  },
  {
   "cell_type": "markdown",
   "metadata": {},
   "source": [
    "---"
   ]
  },
  {
   "cell_type": "markdown",
   "metadata": {},
   "source": [
    "### **Questão 2**\n",
    "\n",
    "Agora que realizou a exploração inicial dos dados, queremos realizar algumas modificações. "
   ]
  },
  {
   "cell_type": "markdown",
   "metadata": {},
   "source": [
    "a) Altere o nome da coluna \"num_fun\" para \"funcionarios\" e \"custo_folha\" para \"custo_funcionarios\""
   ]
  },
  {
   "cell_type": "code",
   "execution_count": null,
   "metadata": {},
   "outputs": [],
   "source": [
    "#Escreva aqui o seu código\n",
    "df = df.rename(columns={'num_fun':'funcionarios', 'custo_folha':'custo_funcionarios'})\n",
    "df"
   ]
  },
  {
   "cell_type": "markdown",
   "metadata": {},
   "source": [
    "b) Remova a coluna \"uf\""
   ]
  },
  {
   "cell_type": "code",
   "execution_count": null,
   "metadata": {},
   "outputs": [],
   "source": [
    "#Escreva aqui o seu código\n",
    "df = df.drop(['uf'], axis = 1)\n",
    "df"
   ]
  },
  {
   "cell_type": "markdown",
   "metadata": {},
   "source": [
    "c) Crie uma coluna \"lucro\", que consiste do faturamento menos as baixas no estoque, o custo de manutenção e o custo de funcionários."
   ]
  },
  {
   "cell_type": "code",
   "execution_count": null,
   "metadata": {},
   "outputs": [],
   "source": [
    "#Escreva aqui o seu código\n",
    "df['lucro'] = df['faturamento'] - df['baixa_estoque'] - df['custo_manut'] - df['custo_funcionarios']\n",
    "df"
   ]
  },
  {
   "cell_type": "markdown",
   "metadata": {},
   "source": [
    "d) Mostre o lucro médio, dando a esse valor o nome \"lucro_medio\". "
   ]
  },
  {
   "cell_type": "code",
   "execution_count": null,
   "metadata": {},
   "outputs": [],
   "source": [
    "#Escreva aqui o seu código\n",
    "lucro_medio = df['lucro'].mean()\n",
    "\n",
    "print(lucro_medio)"
   ]
  },
  {
   "cell_type": "markdown",
   "metadata": {},
   "source": [
    "---"
   ]
  },
  {
   "cell_type": "markdown",
   "metadata": {},
   "source": [
    "### **Questão 3**\n",
    "\n",
    "Você deseja analisar a performance das lojas. Para isso, vamos aplicar filtros nos parâmetros de interesse. "
   ]
  },
  {
   "cell_type": "markdown",
   "metadata": {},
   "source": [
    "a) Mostre as lojas que tiveram lucro abaixo da média (Mostre em forma de lista)."
   ]
  },
  {
   "cell_type": "code",
   "execution_count": null,
   "metadata": {},
   "outputs": [],
   "source": [
    "#Escreva aqui o seu código \n",
    "\n",
    "#Filtro dos valores\n",
    "df2 = df[df['lucro'] < lucro_medio]\n",
    "\n",
    "#Transformamos a coluna em lista\n",
    "list(df2['cod_loja'])\n"
   ]
  },
  {
   "cell_type": "markdown",
   "metadata": {},
   "source": [
    "b) Verifique as lojas que tiveram lucro abaixo da média e faturamento menor que 200 mil reais."
   ]
  },
  {
   "cell_type": "code",
   "execution_count": null,
   "metadata": {},
   "outputs": [],
   "source": [
    "#Escreva aqui o seu código\n",
    "#Mostrar as linhas que cumprem as duas condições \n",
    "df[(df['lucro'] < lucro_medio) & (df['faturamento'] < 200000)]\n"
   ]
  },
  {
   "cell_type": "markdown",
   "metadata": {},
   "source": [
    "c) Mostre as lojas das cidades de Curitiba e Brasília."
   ]
  },
  {
   "cell_type": "code",
   "execution_count": null,
   "metadata": {},
   "outputs": [],
   "source": [
    "#Escreva aqui o seu código\n",
    "#Mostrar as linhas onde cidade é diferente de Curitiba ou Brasília\n",
    "df[(df['cidade'] == \"Curitiba\") | (df['cidade'] == \"Brasília\")]"
   ]
  },
  {
   "cell_type": "markdown",
   "metadata": {},
   "source": [
    "d) Mostre as linhas das lojas com código entre LJ-250 e LJ-260 (inclusive). "
   ]
  },
  {
   "cell_type": "code",
   "execution_count": null,
   "metadata": {},
   "outputs": [],
   "source": [
    "#Escreva aqui o seu código\n",
    "\n",
    "#Criamos uma lista com os códigos\n",
    "lista = [f\"LJ-{numero}\" for numero in range(250,261)] \n",
    "\n",
    "#OU\n",
    "#lista = []\n",
    "#for numero in intervalo:\n",
    "#    lista.append(f\"LJ-{numero}\")\n",
    "\n",
    "#Filtramos para mostrar apenas os códigos que estão incluídos na lista\n",
    "df[df['cod_loja'].isin(lista)]"
   ]
  },
  {
   "cell_type": "markdown",
   "metadata": {},
   "source": [
    "---"
   ]
  },
  {
   "cell_type": "markdown",
   "metadata": {},
   "source": [
    "## **DESAFIO** 🚀\n",
    "\n",
    "Agora, crie uma nova coluna \"flag_satisfacao\" onde o valor é \"Satisfatório\" quando as seguintes condições são cumpridas:\n",
    "\n",
    "• Faturamento maior que a média\n",
    "\n",
    "• Baixa no estoque menor 15000\n",
    "\n",
    "• Número de funcionários entre 15 e 40\n",
    "\n",
    "• Não fechou com prejuízo\n",
    "\n",
    "E \"Insatisfatório\" caso essas condições não sejam cumpridas. Por fim, filtre pelas lojas com performance satisfatória. "
   ]
  },
  {
   "cell_type": "code",
   "execution_count": null,
   "metadata": {},
   "outputs": [],
   "source": [
    "#Escreva aqui o seu código\n",
    "#Definindo lista com intervalo\n",
    "import numpy as np\n",
    "\n",
    "#Lista com range de funcionários ideal.\n",
    "num_fun = [i for i in range(15,41)]\n",
    "\n",
    "#Filtro com numpy\n",
    "df['flag_satisfacao'] = np.where(\n",
    "    (df['faturamento'] > df['faturamento'].mean()) & (df['funcionarios'].isin(num_fun)) & (df['baixa_estoque'] < 15000) & (df['lucro'] > 0),\n",
    "    'Satisfatório',\n",
    "    'Insatisfatório')\n",
    "\n",
    "#Vendo quais lojas possuem boa performance.\n",
    "df[df['flag_satisfacao'] == \"Satisfatório\"]"
   ]
  }
 ],
 "metadata": {
  "kernelspec": {
   "display_name": "Python 3",
   "language": "python",
   "name": "python3"
  },
  "language_info": {
   "codemirror_mode": {
    "name": "ipython",
    "version": 3
   },
   "file_extension": ".py",
   "mimetype": "text/x-python",
   "name": "python",
   "nbconvert_exporter": "python",
   "pygments_lexer": "ipython3",
   "version": "3.10.11"
  }
 },
 "nbformat": 4,
 "nbformat_minor": 2
}
