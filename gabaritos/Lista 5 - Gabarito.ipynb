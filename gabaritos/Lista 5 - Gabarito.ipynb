{
 "cells": [
  {
   "cell_type": "markdown",
   "id": "3eb1954c",
   "metadata": {
    "id": "3eb1954c"
   },
   "source": [
    "### Fala devs, blz?\n",
    "\n",
    "Temos a honra de apresentar nossa 5ᵃ lista de exercícios do Curso de Python 2024 ! 🥳\n",
    "\n",
    "Dessa vez o tema será o módulo 5, que retrata sobre importações de bibliotecas e sobre a biblioteca _Numpy_ - muito importante para realização de códigos matemáticos e melhora de desempenho das operações.\n",
    "\n",
    "Esperamos que seja um estudo produtivo e que se divirtam aprendendo!"
   ]
  },
  {
   "cell_type": "markdown",
   "id": "2accc8ad",
   "metadata": {
    "id": "2accc8ad"
   },
   "source": [
    "---\n",
    "### INSTRUÇÕES:\n",
    "\n",
    "A realização da lista deve ser feita através no Jupyter Notebook.\n",
    "\n",
    "É primordial enviar as listas para praticar todo o conhecimento adquirido durante o curso.\n",
    "\n",
    "Este DESAFIO foi elaborado para quebrar a cabeça. Por isso, não desista de tentar e de continuar com o curso. Ao longo das listas, você perceberá que terá cada vez mais ferramentas para completá-las.\n",
    "\n",
    "Se surgirem dúvidas sobre a lista, assista as monitorias para entender melhor. Se o problema não for resolvido, envie uma mensagem para o formulário de dúvidas.\n",
    "\n",
    "---"
   ]
  },
  {
   "cell_type": "code",
   "execution_count": 116,
   "id": "d083b755",
   "metadata": {
    "executionInfo": {
     "elapsed": 460,
     "status": "ok",
     "timestamp": 1728655509818,
     "user": {
      "displayName": "FEA dev",
      "userId": "13103045966764146615"
     },
     "user_tz": 180
    },
    "id": "d083b755"
   },
   "outputs": [],
   "source": [
    "# Vamos começar importando algumas bibliotecas importantes para os exercícios. ps: Escolham o método que desejarem para resolução.\n",
    "import math\n",
    "import numpy as np\n",
    "import random as rd\n",
    "import datetime"
   ]
  },
  {
   "cell_type": "markdown",
   "id": "2c3bcf6b",
   "metadata": {
    "id": "2c3bcf6b"
   },
   "source": [
    "## Questão 0\n",
    "### Dr. Keynes"
   ]
  },
  {
   "cell_type": "markdown",
   "id": "8cd66634",
   "metadata": {
    "id": "8cd66634"
   },
   "source": [
    "No início do século XX, o economista John Maynard Keynes revolucionou o pensamento econômico ao destacar a importância do Produto Interno Bruto (PIB) como uma medida essencial para entender a saúde de uma economia. O PIB é a soma de todos os bens e serviços finais produzidos em uma economia durante um determinado período. Para calculá-lo, basta multiplicar o valor de cada item pelo número de unidades vendidas.\n",
    "\n",
    "Sua missão é ajudar o governo das Ilhas Cayman a calcular o PIB do país neste ano, baseado nos dados fornecidos de três setores da economia: turismo, exportação de frutas tropicais, venda de acessórios, entrada de dinheiro estrangeiro e até a venda de valiosas pinturas.\n",
    "\n",
    "Crie duas matrizes usando o NumPy:\n",
    "\n",
    "A primeira matriz representa o valor unitário dos itens de cada setor.\n",
    "\n",
    "A segunda matriz representa a quantidade vendida de cada item.\n",
    "\n",
    "\n",
    "Sua missão é calcular o PIB das Ilhas Cayman com base com estes dados fictícios. Multiplique as duas matrizes para descobrir o PIB das Ilhas Cayman e exiba o resultado total e printar a seguinte mensagem:\n",
    "\"Com base nos cálculos, o Produto Interno Bruto (PIB) das Ilhas Cayman alcança X bilhões de dólares! Graças ao turismo, à arte, às frutas tropicais e à entrada de dinheiro estrangeiro.\""
   ]
  },
  {
   "cell_type": "markdown",
   "id": "052d04c2",
   "metadata": {
    "id": "052d04c2"
   },
   "source": [
    "![image.png](attachment:image.png)"
   ]
  },
  {
   "cell_type": "code",
   "execution_count": 117,
   "id": "19842b22",
   "metadata": {
    "id": "19842b22"
   },
   "outputs": [
    {
     "name": "stdout",
     "output_type": "stream",
     "text": [
      "Com base nos cálculos, o Produto Interno Bruto (PIB) das Ilhas Cayman alcança 1805.00 bilhões de dólares! Graças ao turismo, à arte, às frutas tropicais e à entrada de dinheiro estrangeiro.\n"
     ]
    }
   ],
   "source": [
    "# Matriz representando o valor unitário dos itens de cada setor (em bilhões de dólares)\n",
    "valores_unitarios = np.array([\n",
    "    [1.5, 0.8, 0.3, 2.0, 5.0]  # Turismo, frutas, acessórios, dinheiro estrangeiro, arte\n",
    "])\n",
    "\n",
    "# Matriz representando a quantidade vendida de cada item\n",
    "quantidades_vendidas = np.array([\n",
    "    [500, 700, 300, 200, 1]  # Quantidade vendida de cada item (fictício)\n",
    "])\n",
    "\n",
    "# Calculando o PIB como o produto das duas matrizes\n",
    "pib = (valores_unitarios * quantidades_vendidas).sum()\n",
    "\n",
    "print(f\"Com base nos cálculos, o Produto Interno Bruto (PIB) das Ilhas Cayman alcança {pib:.2f} bilhões de dólares! Graças ao turismo, à arte, às frutas tropicais e à entrada de dinheiro estrangeiro.\")"
   ]
  },
  {
   "cell_type": "markdown",
   "id": "b21fc197",
   "metadata": {
    "id": "b21fc197"
   },
   "source": [
    "## Questão 1\n",
    "\n",
    "a) Filtrando notas abaixo de 7 Um professor quer saber quais alunos tiraram notas abaixo de 7 em uma turma de 100 alunos. Dado um array com as notas de cada aluno, filtre e exiba apenas as notas menores que 7, para que o professor possa ver quais alunos precisam de ajuda.\n",
    "Escreva um código para criar o array de notas e realizar o filtro das notas abaixo de 7."
   ]
  },
  {
   "cell_type": "code",
   "execution_count": 118,
   "id": "42c7e7a2",
   "metadata": {
    "id": "42c7e7a2",
    "outputId": "a791c50b-077a-4dee-95b3-9616bc3b2a05"
   },
   "outputs": [
    {
     "data": {
      "text/plain": [
       "array([1.88667736, 3.65477768, 2.44290867, 7.95087473, 3.52094936,\n",
       "       6.38877682, 4.93415052, 5.83499744, 9.39299352, 9.43540082,\n",
       "       1.11692427, 8.43554966, 3.46028152, 1.00827273, 3.83409066,\n",
       "       5.10354797, 9.61103082, 3.71512615, 0.12369412, 8.59706887,\n",
       "       1.1111075 , 4.78339044, 8.49980032, 5.14737967, 4.46607828,\n",
       "       8.00476421, 0.20391378, 5.72618649, 4.11383616, 9.85136798,\n",
       "       8.0140153 , 0.53962102, 1.90477773, 4.52418846, 7.02942077,\n",
       "       3.3204815 , 3.59983195, 9.21470566, 9.53630506, 4.07685729,\n",
       "       8.98571155, 3.30253252, 0.82738569, 5.26717565, 6.60844391,\n",
       "       8.92984294, 9.65157547, 7.69932677, 7.59099118, 7.10049047,\n",
       "       7.01552833, 7.67331381, 9.74349479, 3.73714517, 0.83054443,\n",
       "       2.3964044 , 2.2148276 , 3.63599797, 8.10314232, 0.6009617 ,\n",
       "       4.49743558, 8.13170527, 2.64238375, 0.63400982, 2.42107672,\n",
       "       0.85070462, 8.07777435, 1.70250076, 1.95344626, 8.14642012,\n",
       "       8.10285529, 5.89373878, 9.1473434 , 0.59821637, 9.6499664 ,\n",
       "       5.70975217, 3.02518113, 8.25705826, 6.5941728 , 9.86501441,\n",
       "       1.07489534, 5.80918528, 4.72828155, 6.52270786, 2.41859054,\n",
       "       0.31130063, 5.44232353, 3.64710179, 8.92333275, 4.59345595,\n",
       "       4.186541  , 6.32905541, 5.27178833, 9.6121114 , 7.89010115,\n",
       "       4.96695509, 2.11141001, 6.03984141, 7.48575811, 7.55863831])"
      ]
     },
     "execution_count": 118,
     "metadata": {},
     "output_type": "execute_result"
    }
   ],
   "source": [
    "notas = np.random.uniform(0, 10, size = 100)\n",
    "notas"
   ]
  },
  {
   "cell_type": "code",
   "execution_count": 1,
   "id": "e1caa05f",
   "metadata": {
    "id": "e1caa05f"
   },
   "outputs": [
    {
     "ename": "NameError",
     "evalue": "name 'notas' is not defined",
     "output_type": "error",
     "traceback": [
      "\u001b[1;31m---------------------------------------------------------------------------\u001b[0m",
      "\u001b[1;31mNameError\u001b[0m                                 Traceback (most recent call last)",
      "Cell \u001b[1;32mIn[1], line 4\u001b[0m\n\u001b[0;32m      1\u001b[0m \u001b[38;5;66;03m#Escreva aqui o seu código\u001b[39;00m\n\u001b[0;32m      2\u001b[0m \u001b[38;5;28;01mimport\u001b[39;00m \u001b[38;5;21;01mrandom\u001b[39;00m \u001b[38;5;28;01mas\u001b[39;00m \u001b[38;5;21;01mrd\u001b[39;00m\n\u001b[1;32m----> 4\u001b[0m filtro \u001b[38;5;241m=\u001b[39m \u001b[43mnotas\u001b[49m \u001b[38;5;241m<\u001b[39m \u001b[38;5;241m7\u001b[39m\n\u001b[0;32m      6\u001b[0m notas_reprovadas \u001b[38;5;241m=\u001b[39m notas[filtro]\n\u001b[0;32m      8\u001b[0m notas_reprovadas\n",
      "\u001b[1;31mNameError\u001b[0m: name 'notas' is not defined"
     ]
    }
   ],
   "source": [
    "#Escreva aqui o seu código\n",
    "import random as rd\n",
    "\n",
    "filtro = notas < 7\n",
    "\n",
    "notas_reprovadas = notas[filtro]\n",
    "\n",
    "notas_reprovadas"
   ]
  },
  {
   "cell_type": "markdown",
   "id": "c922a69d",
   "metadata": {
    "id": "c922a69d"
   },
   "source": [
    "b) Enviando uma lista de itens para a loja\n",
    "\n",
    "Você foi ao mercado e anotou uma lista de itens, mas percebeu que alguns deles estavam repetidos. Agora você quer enviar para a loja apenas os itens únicos. Dado um array com sua lista de compras (com repetições), crie um código que mostre a lista final sem itens duplicados."
   ]
  },
  {
   "cell_type": "code",
   "execution_count": 2,
   "id": "b58b54bf",
   "metadata": {
    "id": "b58b54bf",
    "outputId": "086c4804-114f-4b1f-a201-c6c73a91bd61"
   },
   "outputs": [
    {
     "ename": "NameError",
     "evalue": "name 'np' is not defined",
     "output_type": "error",
     "traceback": [
      "\u001b[1;31m---------------------------------------------------------------------------\u001b[0m",
      "\u001b[1;31mNameError\u001b[0m                                 Traceback (most recent call last)",
      "Cell \u001b[1;32mIn[2], line 3\u001b[0m\n\u001b[0;32m      1\u001b[0m \u001b[38;5;66;03m# Dica: Se não souber uma função, procure a documentação oficial do numpy!\u001b[39;00m\n\u001b[1;32m----> 3\u001b[0m lista_itens \u001b[38;5;241m=\u001b[39m \u001b[43mnp\u001b[49m\u001b[38;5;241m.\u001b[39marray([\u001b[38;5;124m'\u001b[39m\u001b[38;5;124mmacarrão\u001b[39m\u001b[38;5;124m'\u001b[39m, \u001b[38;5;124m'\u001b[39m\u001b[38;5;124mpicanha\u001b[39m\u001b[38;5;124m'\u001b[39m \u001b[38;5;124m'\u001b[39m\u001b[38;5;124mfeijão\u001b[39m\u001b[38;5;124m'\u001b[39m, \u001b[38;5;124m'\u001b[39m\u001b[38;5;124mbanana\u001b[39m\u001b[38;5;124m'\u001b[39m, \u001b[38;5;124m'\u001b[39m\u001b[38;5;124mmorango\u001b[39m\u001b[38;5;124m'\u001b[39m, \u001b[38;5;124m'\u001b[39m\u001b[38;5;124mpicacnha\u001b[39m\u001b[38;5;124m'\u001b[39m, \u001b[38;5;124m'\u001b[39m\u001b[38;5;124mcerveja\u001b[39m\u001b[38;5;124m'\u001b[39m, \u001b[38;5;124m'\u001b[39m\u001b[38;5;124mmacarrão\u001b[39m\u001b[38;5;124m'\u001b[39m, \u001b[38;5;124m'\u001b[39m\u001b[38;5;124mcerveja\u001b[39m\u001b[38;5;124m'\u001b[39m, \u001b[38;5;124m'\u001b[39m\u001b[38;5;124mbanana\u001b[39m\u001b[38;5;124m'\u001b[39m])\n\u001b[0;32m      5\u001b[0m valores_unicos \u001b[38;5;241m=\u001b[39m np\u001b[38;5;241m.\u001b[39munique(lista_itens)\n",
      "\u001b[1;31mNameError\u001b[0m: name 'np' is not defined"
     ]
    }
   ],
   "source": [
    "# Dica: Se não souber uma função, procure a documentação oficial do numpy!\n",
    "\n",
    "lista_itens = np.array(['macarrão', 'picanha' 'feijão', 'banana', 'morango', 'picacnha', 'cerveja', 'macarrão', 'cerveja', 'banana'])\n",
    "\n",
    "valores_unicos = np.unique(lista_itens)"
   ]
  },
  {
   "cell_type": "markdown",
   "id": "5c89226e",
   "metadata": {
    "id": "5c89226e"
   },
   "source": [
    "c) Você é um explorador de planetas e precisa registrar a temperatura em 9 pontos de uma lua que você está investigando. Esses pontos estão organizados em uma grade 3x3. Crie uma matriz 3x3 para representar essas temperaturas, preenchida com números inteiros entre 100°C e 150°C, e exiba a matriz. Por fim, localize a temperatura registrada na segunda linha e terceira coluna."
   ]
  },
  {
   "cell_type": "code",
   "execution_count": 121,
   "id": "d3cdf331",
   "metadata": {},
   "outputs": [],
   "source": [
    "import numpy as np"
   ]
  },
  {
   "cell_type": "code",
   "execution_count": null,
   "id": "9de124ef",
   "metadata": {
    "id": "9de124ef"
   },
   "outputs": [
    {
     "ename": "NameError",
     "evalue": "name 'np' is not defined",
     "output_type": "error",
     "traceback": [
      "\u001b[1;31m---------------------------------------------------------------------------\u001b[0m",
      "\u001b[1;31mNameError\u001b[0m                                 Traceback (most recent call last)",
      "Cell \u001b[1;32mIn[3], line 4\u001b[0m\n\u001b[0;32m      1\u001b[0m \u001b[38;5;66;03m# Erro na lista: Havia 10 elementos antes, assim não era possível transformar em matriz 3x3. Já corrigido eliminando o último elemento da lista.\u001b[39;00m\n\u001b[0;32m      2\u001b[0m lista_temperatura \u001b[38;5;241m=\u001b[39m [\u001b[38;5;124m'\u001b[39m\u001b[38;5;124m100°c\u001b[39m\u001b[38;5;124m'\u001b[39m, \u001b[38;5;124m'\u001b[39m\u001b[38;5;124m120°c\u001b[39m\u001b[38;5;124m'\u001b[39m, \u001b[38;5;124m'\u001b[39m\u001b[38;5;124m150°c\u001b[39m\u001b[38;5;124m'\u001b[39m, \u001b[38;5;124m'\u001b[39m\u001b[38;5;124m138°c\u001b[39m\u001b[38;5;124m'\u001b[39m, \u001b[38;5;124m'\u001b[39m\u001b[38;5;124m112°c\u001b[39m\u001b[38;5;124m'\u001b[39m, \u001b[38;5;124m'\u001b[39m\u001b[38;5;124m129°c\u001b[39m\u001b[38;5;124m'\u001b[39m, \u001b[38;5;124m'\u001b[39m\u001b[38;5;124m144°c\u001b[39m\u001b[38;5;124m'\u001b[39m, \u001b[38;5;124m'\u001b[39m\u001b[38;5;124m110°c\u001b[39m\u001b[38;5;124m'\u001b[39m, \u001b[38;5;124m'\u001b[39m\u001b[38;5;124m105°c\u001b[39m\u001b[38;5;124m'\u001b[39m]\n\u001b[1;32m----> 4\u001b[0m temperatura \u001b[38;5;241m=\u001b[39m \u001b[43mnp\u001b[49m\u001b[38;5;241m.\u001b[39marray(lista_temperatura)\u001b[38;5;241m.\u001b[39mreshape(\u001b[38;5;241m3\u001b[39m, \u001b[38;5;241m3\u001b[39m)\n\u001b[0;32m      6\u001b[0m temperatura[\u001b[38;5;241m1\u001b[39m, \u001b[38;5;241m2\u001b[39m]\n",
      "\u001b[1;31mNameError\u001b[0m: name 'np' is not defined"
     ]
    }
   ],
   "source": [
    "import numpy as np\n",
    "\n",
    "# Erro na lista: Havia 10 elementos antes, assim não era possível transformar em matriz 3x3. Já corrigido eliminando o último elemento da lista.\n",
    "lista_temperatura = ['100°c', '120°c', '150°c', '138°c', '112°c', '129°c', '144°c', '110°c', '105°c']\n",
    "\n",
    "temperatura = np.array(lista_temperatura).reshape(3, 3)\n",
    "\n",
    "temperatura[1, 2]"
   ]
  },
  {
   "cell_type": "markdown",
   "id": "0a8614a0",
   "metadata": {
    "id": "0a8614a0"
   },
   "source": [
    "## Questão 2 - Exercício Cancelado - Não é necessário realizar a questão 2\n",
    "\n",
    "Não será necessário realizar a Questão 2.\n",
    "\n",
    "O conteúdo exigido não foi abordado em aula e está mais relacionado à biblioteca datetime do que a Numpy. Para aqueles que tiverem interesse em aprender mais sobre datetime, recomendamos acessar a documentação oficial do Python e tentar resolver o exercício como um desafio adicional. No entanto, esse conteúdo não será cobrado.\n",
    "\n",
    "Pedimos desculpas pelo inconveniente!\n",
    "\n",
    "<div style='color: red'>Você é um famoso consultor financeiro internacional, constantemente viajando entre diferentes países e lidando com fusos horários variados. Como você é muito ocupado, precisa de um sistema que te ajude a organizar compromissos importantes automaticamente no horário local de cada país.\n",
    "\n",
    "Sua missão é criar um código que, ao receber a data e hora de um compromisso em um fuso horário (GMT), seja capaz de converter essa data e hora para o fuso horário local de outros três países: Brasil (GMT-3), Japão (GMT+9) e Estados Unidos (Nova York, GMT-4).\n",
    "\n",
    "Receba a data e hora de um compromisso (em GMT) e converta para os fusos horários locais do Brasil, Japão e Nova York.\n",
    "Exiba uma mensagem para o usuário indicando os horários em cada país, facilitando a organização da agenda.\n",
    "\n",
    "Saída Esperada:\n",
    "\n",
    "\"Seu compromisso será às 12:00 no Brasil, às 00:00 no Japão (do dia seguinte), e às 11:00 em Nova York.\"</div>"
   ]
  },
  {
   "cell_type": "code",
   "execution_count": 123,
   "id": "dde5b5e2",
   "metadata": {
    "id": "dde5b5e2"
   },
   "outputs": [],
   "source": [
    "compromisso_gmt = '2024-10-10 15:00:00'"
   ]
  },
  {
   "cell_type": "markdown",
   "id": "2aa99bcb",
   "metadata": {
    "id": "2aa99bcb"
   },
   "source": [
    "## Questão 3\n",
    "Uma loja de eletrônicos está fazendo uma análise dos preços de seus produtos e quer saber quais itens estão acima do preço médio. Dado um array com os preços de 17 produtos, calcule o preço médio e o desvio padrão e exiba apenas os produtos que custam mais do que a média.\n",
    "\n",
    "![image.png](attachment:image.png)\n",
    "\n",
    "Escreva um código para calcular o preço médio e filtrar os produtos acima desse valor."
   ]
  },
  {
   "cell_type": "code",
   "execution_count": 124,
   "id": "0f567fac",
   "metadata": {
    "id": "0f567fac",
    "outputId": "6e93c78d-779e-46f4-897a-ae5f089cee83"
   },
   "outputs": [
    {
     "name": "stdout",
     "output_type": "stream",
     "text": [
      "[23.1396193   0.62255848 19.00944705 22.46411648 14.95521037  6.74389937\n",
      "  5.94188594 22.81592137  5.0733251   2.65019443 20.56079455 28.60180039\n",
      "  0.11844799 15.3657679  24.37862885 18.375782   21.65265952]\n"
     ]
    }
   ],
   "source": [
    "np.random.seed(10)\n",
    "\n",
    "preco_produtos = np.random.uniform(0, 30, 17)\n",
    "\n",
    "print(preco_produtos)"
   ]
  },
  {
   "cell_type": "code",
   "execution_count": 125,
   "id": "caac3eb3",
   "metadata": {
    "id": "caac3eb3"
   },
   "outputs": [
    {
     "name": "stdout",
     "output_type": "stream",
     "text": [
      "O preço médio dos produtos é de R$14.85, com um desvio padrão de R$9.04.\n",
      "\n",
      "Os produtos com preço acima da média são: \n",
      "[23.1396193  19.00944705 22.46411648 14.95521037 22.81592137 20.56079455\n",
      " 28.60180039 15.3657679  24.37862885 18.375782   21.65265952]\n"
     ]
    }
   ],
   "source": [
    "# Escreva aqui o seu código\n",
    "\n",
    "preco_medio = np.mean(preco_produtos)\n",
    "desvpad = np.std(preco_produtos)\n",
    "\n",
    "acima_media = preco_produtos[preco_produtos > preco_medio]\n",
    "\n",
    "print(f\"O preço médio dos produtos é de R${preco_medio:.2f}, com um desvio padrão de R${desvpad:.2f}.\\n\")\n",
    "\n",
    "print(f\"Os produtos com preço acima da média são: \\n{acima_media}\")"
   ]
  },
  {
   "cell_type": "markdown",
   "id": "90b9450c",
   "metadata": {
    "id": "90b9450c"
   },
   "source": [
    "#\n",
    "Agora, utilize dos métodos .mean() e .std() para calcular a média e o desvio padrão do array anterior"
   ]
  },
  {
   "cell_type": "code",
   "execution_count": 126,
   "id": "36f4ea70",
   "metadata": {
    "id": "36f4ea70",
    "outputId": "07d7c5f1-e9f8-4497-a100-0a9a04f69c32"
   },
   "outputs": [
    {
     "name": "stdout",
     "output_type": "stream",
     "text": [
      "O preço médio dos produtos acima da média é de R$21.03, com um desvio padrão de R$3.80.\n",
      "\n"
     ]
    }
   ],
   "source": [
    "print(f\"O preço médio dos produtos acima da média é de R${acima_media.mean():.2f}, com um desvio padrão de R${acima_media.std():.2f}.\\n\")"
   ]
  },
  {
   "cell_type": "markdown",
   "id": "02190760",
   "metadata": {
    "id": "02190760"
   },
   "source": [
    "## Desafio (Opcional)\n",
    "\n",
    "Uma grande cidade está implementando um novo sistema de transporte público e precisa que você analise os dados de tráfego para otimizar a distribuição de veículos em diferentes rotas. Eles te forneceram uma matriz tridimensional que representa a quantidade de passageiros transportados em 5 linhas de ônibus, durante 7 dias da semana, em 4 diferentes horários de pico (manhã, meio-dia, tarde e noite).\n",
    "\n",
    "Cada dimensão da matriz tem o seguinte significado:\n",
    "\n",
    "Eixo 0: Representa as 5 linhas de ônibus.\n",
    "Eixo 1: Representa os 7 dias da semana.\n",
    "Eixo 2: Representa os 4 horários de pico.\n",
    "\n",
    "Sua missão é ajudar a cidade a otimizar o sistema, resolvendo os seguintes desafios:\n",
    "\n",
    "\n",
    "Média de passageiros por linha: Calcule a média de passageiros transportados em cada uma das 5 linhas de ônibus ao longo da semana.\n",
    "\n",
    "Dia mais movimentado: Encontre qual dia da semana (entre os 7 dias) teve o maior número total de passageiros transportados em todas as linhas e horários de pico.\n",
    "\n",
    "Horário de pico mais movimentado: Identifique qual dos 4 horários de pico (manhã, meio-dia, tarde ou noite) transporta o maior número médio de passageiros.\n",
    "\n",
    "Redistribuição de veículos: A cidade está considerando mover veículos de linhas menos utilizadas para as mais movimentadas. Encontre as duas linhas de ônibus que têm a maior diferença no número total de passageiros ao longo da semana e proponha uma redistribuição onde 10% dos veículos da linha mais tranquila serão movidos para a linha mais movimentada.\n",
    "\n",
    "Pico de operação: Encontre as combinações de linha, dia e horário onde o número de passageiros excede 90% do valor máximo observado em toda a matriz. Estes representam momentos de pico extremo.\n",
    "\n",
    "\n",
    "Utilize operações de agregação do NumPy (como mean, sum, etc.) para resolver cada um dos desafios.\n",
    "Para o último desafio, utilize a técnica de indexação booleana para encontrar as posições que atendem à condição de pico de operação."
   ]
  },
  {
   "cell_type": "code",
   "execution_count": 127,
   "id": "90c91b22",
   "metadata": {
    "id": "90c91b22",
    "outputId": "10fd6acd-facb-41be-99a5-505a182111f4"
   },
   "outputs": [
    {
     "data": {
      "text/plain": [
       "array([[[149, 256, 289, 239],\n",
       "        [280, 168, 194, 123],\n",
       "        [ 58, 278, 281, 240],\n",
       "        [205, 162, 208, 258],\n",
       "        [ 57, 254, 193, 163],\n",
       "        [231, 281, 130,  77],\n",
       "        [ 94, 255, 253, 115]],\n",
       "\n",
       "       [[225,  80, 262, 136],\n",
       "        [175, 196, 171, 187],\n",
       "        [156,  91, 283, 240],\n",
       "        [179, 260, 153, 194],\n",
       "        [256,  55, 108,  50],\n",
       "        [258, 182, 160, 214],\n",
       "        [155, 229,  77,  81]],\n",
       "\n",
       "       [[ 52, 118,  88, 155],\n",
       "        [261, 197,  68, 163],\n",
       "        [295, 185, 150, 158],\n",
       "        [159, 208, 240,  61],\n",
       "        [285, 117, 174, 243],\n",
       "        [233, 181, 141, 128],\n",
       "        [205, 207,  83, 267]],\n",
       "\n",
       "       [[135, 185,  66, 144],\n",
       "        [ 64, 268,  81,  59],\n",
       "        [ 88,  97, 194, 183],\n",
       "        [212, 223, 237, 202],\n",
       "        [191, 168, 285, 282],\n",
       "        [ 81,  82, 126, 222],\n",
       "        [183, 192, 225, 144]],\n",
       "\n",
       "       [[132, 178, 281, 185],\n",
       "        [264,  66, 114,  58],\n",
       "        [268,  94, 176, 215],\n",
       "        [144, 253, 183, 283],\n",
       "        [200, 230, 119, 260],\n",
       "        [238, 141,  79, 266],\n",
       "        [170, 275, 270, 257]]])"
      ]
     },
     "execution_count": 127,
     "metadata": {},
     "output_type": "execute_result"
    }
   ],
   "source": [
    "np.random.seed(5)\n",
    "passageiros = np.random.randint(50, 300, size=(5, 7, 4))\n",
    "passageiros"
   ]
  },
  {
   "cell_type": "code",
   "execution_count": 128,
   "id": "a3e21930",
   "metadata": {
    "id": "a3e21930"
   },
   "outputs": [
    {
     "name": "stdout",
     "output_type": "stream",
     "text": [
      "A média de passageiros por linha é: \n"
     ]
    },
    {
     "data": {
      "text/plain": [
       "(196.10714285714286,\n",
       " 171.89285714285714,\n",
       " 172.21428571428572,\n",
       " 164.96428571428572,\n",
       " 192.82142857142858)"
      ]
     },
     "execution_count": 128,
     "metadata": {},
     "output_type": "execute_result"
    }
   ],
   "source": [
    "media_por_linha = np.mean(passageiros, axis=(1, 2))\n",
    "\n",
    "print(f\"A média de passageiros por linha é: \")\n",
    "*media_por_linha,"
   ]
  },
  {
   "cell_type": "code",
   "execution_count": 129,
   "id": "7b75ce79",
   "metadata": {},
   "outputs": [
    {
     "name": "stdout",
     "output_type": "stream",
     "text": [
      "Dia mais movimentado:  Quinta\n"
     ]
    }
   ],
   "source": [
    "passageiros_por_dia = np.sum(passageiros, axis=(0, 2))\n",
    "\n",
    "dia_mais_movimentado = np.argmax(passageiros_por_dia)\n",
    "\n",
    "dias_da_semana = {\n",
    "    0: \"Segunda\",\n",
    "    1: \"Terça\",\n",
    "    2: \"Quarta\",\n",
    "    3: \"Quinta\",\n",
    "    4: \"Sexta\",\n",
    "    5: \"Sábado\",\n",
    "    6: \"Domingo\"\n",
    "}\n",
    "\n",
    "print(\"Dia mais movimentado: \", dias_da_semana[dia_mais_movimentado])"
   ]
  },
  {
   "cell_type": "code",
   "execution_count": 130,
   "id": "a4618546",
   "metadata": {},
   "outputs": [
    {
     "name": "stdout",
     "output_type": "stream",
     "text": [
      "Horário mais movimentado:  Meio-dia\n"
     ]
    }
   ],
   "source": [
    "media_por_horario = np.mean(passageiros, axis=(0, 1))\n",
    "\n",
    "horario_mais_movimentado = np.argmax(media_por_horario)\n",
    "\n",
    "horarios = {\n",
    "    0: \"Manhã\",\n",
    "    1: \"Meio-dia\",\n",
    "    2: \"Tarde\",\n",
    "    3: \"Noite\",\n",
    "}\n",
    "\n",
    "print(\"Horário mais movimentado: \", horarios[horario_mais_movimentado])"
   ]
  },
  {
   "cell_type": "code",
   "execution_count": 131,
   "id": "e374e845",
   "metadata": {},
   "outputs": [
    {
     "name": "stdout",
     "output_type": "stream",
     "text": [
      "Linha mais movimentada:  1\n",
      "Linha menos movimentada:  4\n",
      "Mover 549 passageiros da linha mais movimentada para a menos movimentada\n",
      "Valor final de cada linha:\n",
      "\tMenos movimentada: 5168\n",
      "\tMais movimentada: 4942\n"
     ]
    }
   ],
   "source": [
    "total_por_linha = np.sum(passageiros, axis=(1, 2))\n",
    "linha_mais_movimentada = np.argmax(total_por_linha)\n",
    "linha_menos_movimentada = np.argmin(total_por_linha)\n",
    "\n",
    "print(\"Linha mais movimentada: \", linha_mais_movimentada + 1)\n",
    "print(\"Linha menos movimentada: \", linha_menos_movimentada + 1)\n",
    "\n",
    "print(f\"Mover {total_por_linha[linha_mais_movimentada] * 0.1:.0f} passageiros da linha mais movimentada para a menos movimentada\")\n",
    "\n",
    "print(f\"Valor final de cada linha:\\n\\tMenos movimentada: {total_por_linha[linha_menos_movimentada] + total_por_linha[linha_mais_movimentada] * 0.1:.0f}\\n\\tMais movimentada: {total_por_linha[linha_mais_movimentada] * 0.9:.0f}\")"
   ]
  },
  {
   "cell_type": "code",
   "execution_count": 132,
   "id": "d5ed4b1a",
   "metadata": {},
   "outputs": [
    {
     "name": "stdout",
     "output_type": "stream",
     "text": [
      "O limite de passageiros para o horário de pico é de 266 passageiros\n",
      "Momentos de pico extremo (linha, dia, horário):\n",
      " [['1' 'Segunda' 'Tarde']\n",
      " ['1' 'Terça' 'Manhã']\n",
      " ['1' 'Quarta' 'Meio-dia']\n",
      " ['1' 'Quarta' 'Tarde']\n",
      " ['1' 'Sábado' 'Meio-dia']\n",
      " ['2' 'Quarta' 'Tarde']\n",
      " ['3' 'Quarta' 'Manhã']\n",
      " ['3' 'Sexta' 'Manhã']\n",
      " ['3' 'Domingo' 'Noite']\n",
      " ['4' 'Terça' 'Meio-dia']\n",
      " ['4' 'Sexta' 'Tarde']\n",
      " ['4' 'Sexta' 'Noite']\n",
      " ['5' 'Segunda' 'Tarde']\n",
      " ['5' 'Quarta' 'Manhã']\n",
      " ['5' 'Quinta' 'Noite']\n",
      " ['5' 'Sábado' 'Noite']\n",
      " ['5' 'Domingo' 'Meio-dia']\n",
      " ['5' 'Domingo' 'Tarde']]\n"
     ]
    }
   ],
   "source": [
    "max_passageiros = np.max(passageiros)\n",
    "limite_pico = max_passageiros * 0.9\n",
    "\n",
    "print(f\"O limite de passageiros para o horário de pico é de {limite_pico:.0f} passageiros\")\n",
    "\n",
    "# Se não souber com argwhere, pode usar a indexação booleana\n",
    "picos_de_operacao = np.argwhere(passageiros > limite_pico)\n",
    "\n",
    "# Não precisa fazer isso, apenas para melhorar a visualização\n",
    "picos_de_operacao = np.array([(linha + 1, dias_da_semana[dia], horarios[horario]) for linha, dia, horario in picos_de_operacao])\n",
    "\n",
    "print(\"Momentos de pico extremo (linha, dia, horário):\\n\", picos_de_operacao)"
   ]
  }
 ],
 "metadata": {
  "colab": {
   "provenance": []
  },
  "kernelspec": {
   "display_name": "Python 3",
   "language": "python",
   "name": "python3"
  },
  "language_info": {
   "codemirror_mode": {
    "name": "ipython",
    "version": 3
   },
   "file_extension": ".py",
   "mimetype": "text/x-python",
   "name": "python",
   "nbconvert_exporter": "python",
   "pygments_lexer": "ipython3",
   "version": "3.13.0"
  }
 },
 "nbformat": 4,
 "nbformat_minor": 5
}
