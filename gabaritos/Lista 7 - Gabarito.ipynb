{
 "cells": [
  {
   "cell_type": "markdown",
   "id": "2c1a9e76",
   "metadata": {},
   "source": [
    "![dev1.jpg](imgs/dev1.jpg)"
   ]
  },
  {
   "cell_type": "markdown",
   "id": "f0a2209a",
   "metadata": {},
   "source": [
    "# **Exercícios de Pandas 🐼✨**"
   ]
  },
  {
   "cell_type": "markdown",
   "id": "b43b13ea",
   "metadata": {},
   "source": [
    "## **Lista de Exercício 7 - Pandas II**\n",
    "### Fala devs, blz? \n",
    "\n",
    "Essa é a nossa 7ª lista de exercícios, parabéns por ter chegado até aqui! 🚀\n",
    "\n",
    "Dessa vez, iremos fixar os conceitos aprendidos na segunda aula da biblioteca Pandas! Os exercícios a seguir abordam funções como `apply`, trabalhar com datas, agrupamentos e combinações de tabelas. Bora lá?\n"
   ]
  },
  {
   "cell_type": "markdown",
   "id": "fe1b07dd",
   "metadata": {},
   "source": [
    "## 🚀 Exercício 1: Trabalhando com `apply` e `apply(lambda)`"
   ]
  },
  {
   "cell_type": "markdown",
   "id": "a9c0e041",
   "metadata": {},
   "source": [
    "### O que você vai fazer:\n",
    "1. Crie um DataFrame com as seguintes colunas: Nome, Idade, Cidade e Salário.\n",
    "   ```plaintext\n",
    "   Nome: Antonio, Bernardo, Carolina, Diego\n",
    "   Idade: 25, 30, 35, 28\n",
    "   Cidade: São Paulo, Rio de Janeiro, Belo Horizonte, São Paulo\n",
    "   Salário: 3500, 4200, 3700, 3100\n",
    "   ```\n",
    "2. Adicione uma nova coluna **\"Faixa_Etaria\"**:\n",
    "   * Se a idade for menor que 30, escreva \"Jovem\".\n",
    "   * Se estiver entre 30 e 40 (inclusive), escreva \"Adulto\".\n",
    "   * Use ```apply``` ou ```apply(lambda)``` para fazer isso!\n",
    "\n",
    "3. Aplique um aumento de 10% no salário e atualize os valores da coluna ```Salário```\n",
    "\n",
    "Dica: dá pra usar ```apply(lamda)``` pra isso também!"
   ]
  },
  {
   "cell_type": "code",
   "execution_count": 26,
   "id": "944ea25b",
   "metadata": {},
   "outputs": [],
   "source": [
    "import pandas as pd"
   ]
  },
  {
   "cell_type": "code",
   "execution_count": 27,
   "id": "431e4f6f",
   "metadata": {},
   "outputs": [],
   "source": [
    "# --- Exercício 1 ---\n",
    "# Criando o DataFrame inicial\n",
    "df = pd.DataFrame({\n",
    "    'Nome': ['João', 'Maria', 'Pedro', 'Ana'],\n",
    "    'Idade': [25, 30, 35, 28],\n",
    "    'Cidade': ['São Paulo', 'Rio de Janeiro', 'Belo Horizonte', 'São Paulo'],\n",
    "    'Salário': [3500, 4200, 3700, 3100]\n",
    "})\n",
    "\n",
    "# 1. Criando a coluna Faixa_Etária\n",
    "df['Faixa_Etária'] = df['Idade'].apply(lambda x: 'Jovem' if x < 30 else 'Adulto')\n",
    "\n",
    "# 2. Aumentando os salários em 10%\n",
    "df['Salário'] = df['Salário'].apply(lambda x: x * 1.1)\n"
   ]
  },
  {
   "cell_type": "code",
   "execution_count": 28,
   "id": "2d60867d",
   "metadata": {},
   "outputs": [
    {
     "data": {
      "text/html": [
       "<div>\n",
       "<style scoped>\n",
       "    .dataframe tbody tr th:only-of-type {\n",
       "        vertical-align: middle;\n",
       "    }\n",
       "\n",
       "    .dataframe tbody tr th {\n",
       "        vertical-align: top;\n",
       "    }\n",
       "\n",
       "    .dataframe thead th {\n",
       "        text-align: right;\n",
       "    }\n",
       "</style>\n",
       "<table border=\"1\" class=\"dataframe\">\n",
       "  <thead>\n",
       "    <tr style=\"text-align: right;\">\n",
       "      <th></th>\n",
       "      <th>Nome</th>\n",
       "      <th>Idade</th>\n",
       "      <th>Cidade</th>\n",
       "      <th>Salário</th>\n",
       "      <th>Faixa_Etária</th>\n",
       "    </tr>\n",
       "  </thead>\n",
       "  <tbody>\n",
       "    <tr>\n",
       "      <th>0</th>\n",
       "      <td>João</td>\n",
       "      <td>25</td>\n",
       "      <td>São Paulo</td>\n",
       "      <td>3850.0</td>\n",
       "      <td>Jovem</td>\n",
       "    </tr>\n",
       "    <tr>\n",
       "      <th>1</th>\n",
       "      <td>Maria</td>\n",
       "      <td>30</td>\n",
       "      <td>Rio de Janeiro</td>\n",
       "      <td>4620.0</td>\n",
       "      <td>Adulto</td>\n",
       "    </tr>\n",
       "    <tr>\n",
       "      <th>2</th>\n",
       "      <td>Pedro</td>\n",
       "      <td>35</td>\n",
       "      <td>Belo Horizonte</td>\n",
       "      <td>4070.0</td>\n",
       "      <td>Adulto</td>\n",
       "    </tr>\n",
       "    <tr>\n",
       "      <th>3</th>\n",
       "      <td>Ana</td>\n",
       "      <td>28</td>\n",
       "      <td>São Paulo</td>\n",
       "      <td>3410.0</td>\n",
       "      <td>Jovem</td>\n",
       "    </tr>\n",
       "  </tbody>\n",
       "</table>\n",
       "</div>"
      ],
      "text/plain": [
       "    Nome  Idade          Cidade  Salário Faixa_Etária\n",
       "0   João     25       São Paulo   3850.0        Jovem\n",
       "1  Maria     30  Rio de Janeiro   4620.0       Adulto\n",
       "2  Pedro     35  Belo Horizonte   4070.0       Adulto\n",
       "3    Ana     28       São Paulo   3410.0        Jovem"
      ]
     },
     "execution_count": 28,
     "metadata": {},
     "output_type": "execute_result"
    }
   ],
   "source": [
    "df"
   ]
  },
  {
   "cell_type": "markdown",
   "id": "0b91f96b",
   "metadata": {},
   "source": [
    "## 🗓️ **Exercício 2: Datas no Pandas**"
   ]
  },
  {
   "cell_type": "markdown",
   "id": "3bc78eb2",
   "metadata": {},
   "source": [
    "### O que você vai fazer:\n",
    "1. Crie um DataFrame com duas colunas: Nome e Data_Nascimento.\n",
    "   ```plaintext\n",
    "   Nome: Antonio, Bernardo, Carolina, Diego\n",
    "   Data_Nascimento: 1998-06-15, 1993-09-21, 1988-11-03, 1995-03-12\n",
    "   ```\n",
    "2. Converta a coluna `Data_Nascimento` para o formato de **datas do Pandas** usando `pd.to_datetime`.  \n",
    "3. Extraia o **ano de nascimento** e crie uma nova coluna chamada `Ano_Nascimento`.  \n",
    "4. Crie mais uma coluna chamada `Mes_Dia` que contenha apenas o mês e o dia, no formato `MM-DD`.  \n",
    "\n",
    "Dica: Para formatar datas, você pode usar `.strftime`."
   ]
  },
  {
   "cell_type": "code",
   "execution_count": 29,
   "id": "d0f7ef3d",
   "metadata": {},
   "outputs": [],
   "source": [
    "# --- Exercício 2 ---\n",
    "# Criando o DataFrame inicial\n",
    "df_datas = pd.DataFrame({\n",
    "    'Nome': ['João', 'Maria', 'Pedro', 'Ana'],\n",
    "    'Data_Nascimento': ['1998-06-15', '1993-09-21', '1988-11-03', '1995-03-12']\n",
    "})\n",
    "\n",
    "# 1. Convertendo a coluna Data_Nascimento para datetime\n",
    "df_datas['Data_Nascimento'] = pd.to_datetime(df_datas['Data_Nascimento'])\n",
    "\n",
    "# 2. Criando a coluna Ano_Nascimento\n",
    "df_datas['Ano_Nascimento'] = df_datas['Data_Nascimento'].dt.year\n",
    "\n",
    "# 3. Criando a coluna Mes_Dia com formato MM-DD\n",
    "df_datas['Mes_Dia'] = df_datas['Data_Nascimento'].dt.strftime('%m-%d')"
   ]
  },
  {
   "cell_type": "code",
   "execution_count": 30,
   "id": "3f99a792",
   "metadata": {},
   "outputs": [
    {
     "data": {
      "text/html": [
       "<div>\n",
       "<style scoped>\n",
       "    .dataframe tbody tr th:only-of-type {\n",
       "        vertical-align: middle;\n",
       "    }\n",
       "\n",
       "    .dataframe tbody tr th {\n",
       "        vertical-align: top;\n",
       "    }\n",
       "\n",
       "    .dataframe thead th {\n",
       "        text-align: right;\n",
       "    }\n",
       "</style>\n",
       "<table border=\"1\" class=\"dataframe\">\n",
       "  <thead>\n",
       "    <tr style=\"text-align: right;\">\n",
       "      <th></th>\n",
       "      <th>Nome</th>\n",
       "      <th>Data_Nascimento</th>\n",
       "      <th>Ano_Nascimento</th>\n",
       "      <th>Mes_Dia</th>\n",
       "    </tr>\n",
       "  </thead>\n",
       "  <tbody>\n",
       "    <tr>\n",
       "      <th>0</th>\n",
       "      <td>João</td>\n",
       "      <td>1998-06-15</td>\n",
       "      <td>1998</td>\n",
       "      <td>06-15</td>\n",
       "    </tr>\n",
       "    <tr>\n",
       "      <th>1</th>\n",
       "      <td>Maria</td>\n",
       "      <td>1993-09-21</td>\n",
       "      <td>1993</td>\n",
       "      <td>09-21</td>\n",
       "    </tr>\n",
       "    <tr>\n",
       "      <th>2</th>\n",
       "      <td>Pedro</td>\n",
       "      <td>1988-11-03</td>\n",
       "      <td>1988</td>\n",
       "      <td>11-03</td>\n",
       "    </tr>\n",
       "    <tr>\n",
       "      <th>3</th>\n",
       "      <td>Ana</td>\n",
       "      <td>1995-03-12</td>\n",
       "      <td>1995</td>\n",
       "      <td>03-12</td>\n",
       "    </tr>\n",
       "  </tbody>\n",
       "</table>\n",
       "</div>"
      ],
      "text/plain": [
       "    Nome Data_Nascimento  Ano_Nascimento Mes_Dia\n",
       "0   João      1998-06-15            1998   06-15\n",
       "1  Maria      1993-09-21            1993   09-21\n",
       "2  Pedro      1988-11-03            1988   11-03\n",
       "3    Ana      1995-03-12            1995   03-12"
      ]
     },
     "execution_count": 30,
     "metadata": {},
     "output_type": "execute_result"
    }
   ],
   "source": [
    "df_datas"
   ]
  },
  {
   "cell_type": "markdown",
   "id": "9dc54907",
   "metadata": {},
   "source": [
    "## 📊 **Exercício 3: Agrupamentos e Pivot Tables**"
   ]
  },
  {
   "cell_type": "markdown",
   "id": "4f51c322",
   "metadata": {},
   "source": [
    "### O que você vai fazer:\n",
    "1. Crie um DataFrame com dados de vendas:\n",
    "   ```plaintext\n",
    "   Produto: Produto1, Produto2, Produto3, Produto4, Produto5, Produto6\n",
    "   Categoria: A, B, A, B, A, B\n",
    "   Valor: 500, 700, 200, 400, 800, 300\n",
    "   Vendedor: Antonio, Bernardo, Antonio, Diego, Carolina, Bernardo\n",
    "   Mês: Janeiro, Janeiro, Fevereiro, Fevereiro, Janeiro, Fevereiro\n",
    "   ```\n",
    "2. Use o `groupby` para somar os valores (`Valor`) por **Categoria**.\n",
    "3. Crie uma tabela dinâmica (usando `pivot_table`) que mostre as vendas totais por **Mês** e **Vendedor**.\n",
    "\n",
    "Dica: Não se preocupe com valores faltantes, o `pivot_table` pode lidar com isso facilmente usando `fill_value=0`."
   ]
  },
  {
   "cell_type": "code",
   "execution_count": 31,
   "id": "d2868f56",
   "metadata": {},
   "outputs": [],
   "source": [
    "# --- Exercício 3 ---\n",
    "# Criando o DataFrame inicial\n",
    "vendas = pd.DataFrame({\n",
    "    'Produto': ['Produto1', 'Produto2', 'Produto3', 'Produto4', 'Produto5', 'Produto6'],\n",
    "    'Categoria': ['A', 'B', 'A', 'B', 'A', 'B'],\n",
    "    'Valor': [500, 700, 200, 400, 800, 300],\n",
    "    'Vendedor': ['João', 'Maria', 'João', 'Ana', 'Pedro', 'Maria'],\n",
    "    'Mês': ['Janeiro', 'Janeiro', 'Fevereiro', 'Fevereiro', 'Janeiro', 'Fevereiro']\n",
    "})\n",
    "\n",
    "# 1. Total de vendas por Categoria usando groupby\n",
    "vendas_por_categoria = vendas.groupby('Categoria')['Valor'].sum()\n",
    "\n",
    "# 2. Tabela dinâmica com total de vendas por Mês e Vendedor\n",
    "pivot_vendas = vendas.pivot_table(values='Valor', index='Mês', columns='Vendedor', aggfunc='sum', fill_value=0)"
   ]
  },
  {
   "cell_type": "code",
   "execution_count": 32,
   "id": "0f6c73ed",
   "metadata": {},
   "outputs": [
    {
     "data": {
      "text/html": [
       "<div>\n",
       "<style scoped>\n",
       "    .dataframe tbody tr th:only-of-type {\n",
       "        vertical-align: middle;\n",
       "    }\n",
       "\n",
       "    .dataframe tbody tr th {\n",
       "        vertical-align: top;\n",
       "    }\n",
       "\n",
       "    .dataframe thead th {\n",
       "        text-align: right;\n",
       "    }\n",
       "</style>\n",
       "<table border=\"1\" class=\"dataframe\">\n",
       "  <thead>\n",
       "    <tr style=\"text-align: right;\">\n",
       "      <th>Vendedor</th>\n",
       "      <th>Ana</th>\n",
       "      <th>João</th>\n",
       "      <th>Maria</th>\n",
       "      <th>Pedro</th>\n",
       "    </tr>\n",
       "    <tr>\n",
       "      <th>Mês</th>\n",
       "      <th></th>\n",
       "      <th></th>\n",
       "      <th></th>\n",
       "      <th></th>\n",
       "    </tr>\n",
       "  </thead>\n",
       "  <tbody>\n",
       "    <tr>\n",
       "      <th>Fevereiro</th>\n",
       "      <td>400</td>\n",
       "      <td>200</td>\n",
       "      <td>300</td>\n",
       "      <td>0</td>\n",
       "    </tr>\n",
       "    <tr>\n",
       "      <th>Janeiro</th>\n",
       "      <td>0</td>\n",
       "      <td>500</td>\n",
       "      <td>700</td>\n",
       "      <td>800</td>\n",
       "    </tr>\n",
       "  </tbody>\n",
       "</table>\n",
       "</div>"
      ],
      "text/plain": [
       "Vendedor   Ana  João  Maria  Pedro\n",
       "Mês                               \n",
       "Fevereiro  400   200    300      0\n",
       "Janeiro      0   500    700    800"
      ]
     },
     "execution_count": 32,
     "metadata": {},
     "output_type": "execute_result"
    }
   ],
   "source": [
    "pivot_vendas"
   ]
  },
  {
   "cell_type": "markdown",
   "id": "c7346ac7",
   "metadata": {},
   "source": [
    "## 🔗 **Exercício 4: Juntando tabelas com `merge`**"
   ]
  },
  {
   "cell_type": "markdown",
   "id": "a9c30d8b",
   "metadata": {},
   "source": [
    "### O que você vai fazer:\n",
    "1. Crie dois DataFrames:\n",
    "   - **Clientes**:\n",
    "     ```plaintext\n",
    "     ClienteID: 1, 2, 3\n",
    "     Nome: Antonio, Bernardo, Diego\n",
    "     Cidade: São Paulo, Rio de Janeiro, Belo Horizonte\n",
    "     ```\n",
    "   - **Compras**:\n",
    "     ```plaintext\n",
    "     CompraID: 101, 102, 103, 104\n",
    "     ClienteID: 1, 2, 3, 1\n",
    "     Produto: Produto1, Produto2, Produto3, Produto4\n",
    "     Valor: 500, 700, 300, 400\n",
    "     ```\n",
    "2. Combine essas tabelas usando `merge` para ligar os clientes às suas compras, com base no campo `ClienteID`.\n",
    "3. Calcule o total gasto por cada cliente e crie uma tabela com o nome do cliente e o valor total."
   ]
  },
  {
   "cell_type": "code",
   "execution_count": 35,
   "id": "c1f7f205",
   "metadata": {},
   "outputs": [
    {
     "data": {
      "text/html": [
       "<div>\n",
       "<style scoped>\n",
       "    .dataframe tbody tr th:only-of-type {\n",
       "        vertical-align: middle;\n",
       "    }\n",
       "\n",
       "    .dataframe tbody tr th {\n",
       "        vertical-align: top;\n",
       "    }\n",
       "\n",
       "    .dataframe thead th {\n",
       "        text-align: right;\n",
       "    }\n",
       "</style>\n",
       "<table border=\"1\" class=\"dataframe\">\n",
       "  <thead>\n",
       "    <tr style=\"text-align: right;\">\n",
       "      <th></th>\n",
       "      <th>Nome</th>\n",
       "      <th>Idade</th>\n",
       "      <th>Cidade</th>\n",
       "      <th>Salário</th>\n",
       "      <th>Faixa_Etária</th>\n",
       "    </tr>\n",
       "  </thead>\n",
       "  <tbody>\n",
       "    <tr>\n",
       "      <th>0</th>\n",
       "      <td>João</td>\n",
       "      <td>25</td>\n",
       "      <td>São Paulo</td>\n",
       "      <td>3850.0</td>\n",
       "      <td>Jovem</td>\n",
       "    </tr>\n",
       "    <tr>\n",
       "      <th>1</th>\n",
       "      <td>Maria</td>\n",
       "      <td>30</td>\n",
       "      <td>Rio de Janeiro</td>\n",
       "      <td>4620.0</td>\n",
       "      <td>Adulto</td>\n",
       "    </tr>\n",
       "    <tr>\n",
       "      <th>2</th>\n",
       "      <td>Pedro</td>\n",
       "      <td>35</td>\n",
       "      <td>Belo Horizonte</td>\n",
       "      <td>4070.0</td>\n",
       "      <td>Adulto</td>\n",
       "    </tr>\n",
       "    <tr>\n",
       "      <th>3</th>\n",
       "      <td>Ana</td>\n",
       "      <td>28</td>\n",
       "      <td>São Paulo</td>\n",
       "      <td>3410.0</td>\n",
       "      <td>Jovem</td>\n",
       "    </tr>\n",
       "  </tbody>\n",
       "</table>\n",
       "</div>"
      ],
      "text/plain": [
       "    Nome  Idade          Cidade  Salário Faixa_Etária\n",
       "0   João     25       São Paulo   3850.0        Jovem\n",
       "1  Maria     30  Rio de Janeiro   4620.0       Adulto\n",
       "2  Pedro     35  Belo Horizonte   4070.0       Adulto\n",
       "3    Ana     28       São Paulo   3410.0        Jovem"
      ]
     },
     "metadata": {},
     "output_type": "display_data"
    },
    {
     "data": {
      "text/html": [
       "<div>\n",
       "<style scoped>\n",
       "    .dataframe tbody tr th:only-of-type {\n",
       "        vertical-align: middle;\n",
       "    }\n",
       "\n",
       "    .dataframe tbody tr th {\n",
       "        vertical-align: top;\n",
       "    }\n",
       "\n",
       "    .dataframe thead th {\n",
       "        text-align: right;\n",
       "    }\n",
       "</style>\n",
       "<table border=\"1\" class=\"dataframe\">\n",
       "  <thead>\n",
       "    <tr style=\"text-align: right;\">\n",
       "      <th></th>\n",
       "      <th>Nome</th>\n",
       "      <th>Data_Nascimento</th>\n",
       "      <th>Ano_Nascimento</th>\n",
       "      <th>Mes_Dia</th>\n",
       "    </tr>\n",
       "  </thead>\n",
       "  <tbody>\n",
       "    <tr>\n",
       "      <th>0</th>\n",
       "      <td>João</td>\n",
       "      <td>1998-06-15</td>\n",
       "      <td>1998</td>\n",
       "      <td>06-15</td>\n",
       "    </tr>\n",
       "    <tr>\n",
       "      <th>1</th>\n",
       "      <td>Maria</td>\n",
       "      <td>1993-09-21</td>\n",
       "      <td>1993</td>\n",
       "      <td>09-21</td>\n",
       "    </tr>\n",
       "    <tr>\n",
       "      <th>2</th>\n",
       "      <td>Pedro</td>\n",
       "      <td>1988-11-03</td>\n",
       "      <td>1988</td>\n",
       "      <td>11-03</td>\n",
       "    </tr>\n",
       "    <tr>\n",
       "      <th>3</th>\n",
       "      <td>Ana</td>\n",
       "      <td>1995-03-12</td>\n",
       "      <td>1995</td>\n",
       "      <td>03-12</td>\n",
       "    </tr>\n",
       "  </tbody>\n",
       "</table>\n",
       "</div>"
      ],
      "text/plain": [
       "    Nome Data_Nascimento  Ano_Nascimento Mes_Dia\n",
       "0   João      1998-06-15            1998   06-15\n",
       "1  Maria      1993-09-21            1993   09-21\n",
       "2  Pedro      1988-11-03            1988   11-03\n",
       "3    Ana      1995-03-12            1995   03-12"
      ]
     },
     "metadata": {},
     "output_type": "display_data"
    },
    {
     "data": {
      "text/plain": [
       "Categoria\n",
       "A    1500\n",
       "B    1400\n",
       "Name: Valor, dtype: int64"
      ]
     },
     "metadata": {},
     "output_type": "display_data"
    },
    {
     "data": {
      "text/html": [
       "<div>\n",
       "<style scoped>\n",
       "    .dataframe tbody tr th:only-of-type {\n",
       "        vertical-align: middle;\n",
       "    }\n",
       "\n",
       "    .dataframe tbody tr th {\n",
       "        vertical-align: top;\n",
       "    }\n",
       "\n",
       "    .dataframe thead th {\n",
       "        text-align: right;\n",
       "    }\n",
       "</style>\n",
       "<table border=\"1\" class=\"dataframe\">\n",
       "  <thead>\n",
       "    <tr style=\"text-align: right;\">\n",
       "      <th>Vendedor</th>\n",
       "      <th>Ana</th>\n",
       "      <th>João</th>\n",
       "      <th>Maria</th>\n",
       "      <th>Pedro</th>\n",
       "    </tr>\n",
       "    <tr>\n",
       "      <th>Mês</th>\n",
       "      <th></th>\n",
       "      <th></th>\n",
       "      <th></th>\n",
       "      <th></th>\n",
       "    </tr>\n",
       "  </thead>\n",
       "  <tbody>\n",
       "    <tr>\n",
       "      <th>Fevereiro</th>\n",
       "      <td>400</td>\n",
       "      <td>200</td>\n",
       "      <td>300</td>\n",
       "      <td>0</td>\n",
       "    </tr>\n",
       "    <tr>\n",
       "      <th>Janeiro</th>\n",
       "      <td>0</td>\n",
       "      <td>500</td>\n",
       "      <td>700</td>\n",
       "      <td>800</td>\n",
       "    </tr>\n",
       "  </tbody>\n",
       "</table>\n",
       "</div>"
      ],
      "text/plain": [
       "Vendedor   Ana  João  Maria  Pedro\n",
       "Mês                               \n",
       "Fevereiro  400   200    300      0\n",
       "Janeiro      0   500    700    800"
      ]
     },
     "metadata": {},
     "output_type": "display_data"
    },
    {
     "data": {
      "text/html": [
       "<div>\n",
       "<style scoped>\n",
       "    .dataframe tbody tr th:only-of-type {\n",
       "        vertical-align: middle;\n",
       "    }\n",
       "\n",
       "    .dataframe tbody tr th {\n",
       "        vertical-align: top;\n",
       "    }\n",
       "\n",
       "    .dataframe thead th {\n",
       "        text-align: right;\n",
       "    }\n",
       "</style>\n",
       "<table border=\"1\" class=\"dataframe\">\n",
       "  <thead>\n",
       "    <tr style=\"text-align: right;\">\n",
       "      <th></th>\n",
       "      <th>ClienteID</th>\n",
       "      <th>Nome</th>\n",
       "      <th>Cidade</th>\n",
       "      <th>CompraID</th>\n",
       "      <th>Produto</th>\n",
       "      <th>Valor</th>\n",
       "    </tr>\n",
       "  </thead>\n",
       "  <tbody>\n",
       "    <tr>\n",
       "      <th>0</th>\n",
       "      <td>1</td>\n",
       "      <td>João</td>\n",
       "      <td>São Paulo</td>\n",
       "      <td>101</td>\n",
       "      <td>Produto1</td>\n",
       "      <td>500</td>\n",
       "    </tr>\n",
       "    <tr>\n",
       "      <th>1</th>\n",
       "      <td>1</td>\n",
       "      <td>João</td>\n",
       "      <td>São Paulo</td>\n",
       "      <td>104</td>\n",
       "      <td>Produto4</td>\n",
       "      <td>400</td>\n",
       "    </tr>\n",
       "    <tr>\n",
       "      <th>2</th>\n",
       "      <td>2</td>\n",
       "      <td>Maria</td>\n",
       "      <td>Rio de Janeiro</td>\n",
       "      <td>102</td>\n",
       "      <td>Produto2</td>\n",
       "      <td>700</td>\n",
       "    </tr>\n",
       "    <tr>\n",
       "      <th>3</th>\n",
       "      <td>3</td>\n",
       "      <td>Ana</td>\n",
       "      <td>Belo Horizonte</td>\n",
       "      <td>103</td>\n",
       "      <td>Produto3</td>\n",
       "      <td>300</td>\n",
       "    </tr>\n",
       "  </tbody>\n",
       "</table>\n",
       "</div>"
      ],
      "text/plain": [
       "   ClienteID   Nome          Cidade  CompraID   Produto  Valor\n",
       "0          1   João       São Paulo       101  Produto1    500\n",
       "1          1   João       São Paulo       104  Produto4    400\n",
       "2          2  Maria  Rio de Janeiro       102  Produto2    700\n",
       "3          3    Ana  Belo Horizonte       103  Produto3    300"
      ]
     },
     "metadata": {},
     "output_type": "display_data"
    },
    {
     "data": {
      "text/plain": [
       "Nome\n",
       "Ana      300\n",
       "João     900\n",
       "Maria    700\n",
       "Name: Valor, dtype: int64"
      ]
     },
     "metadata": {},
     "output_type": "display_data"
    }
   ],
   "source": [
    "# --- Exercício 4 ---\n",
    "# Criando os DataFrames iniciais\n",
    "clientes = pd.DataFrame({\n",
    "    'ClienteID': [1, 2, 3],\n",
    "    'Nome': ['João', 'Maria', 'Ana'],\n",
    "    'Cidade': ['São Paulo', 'Rio de Janeiro', 'Belo Horizonte']\n",
    "})\n",
    "\n",
    "compras = pd.DataFrame({\n",
    "    'CompraID': [101, 102, 103, 104],\n",
    "    'ClienteID': [1, 2, 3, 1],\n",
    "    'Produto': ['Produto1', 'Produto2', 'Produto3', 'Produto4'],\n",
    "    'Valor': [500, 700, 300, 400]\n",
    "})\n",
    "\n",
    "# 1. Juntando os DataFrames com base em ClienteID\n",
    "clientes_compras = pd.merge(clientes, compras, on='ClienteID', how='inner')\n",
    "\n",
    "# 2. Calculando o total gasto por cliente\n",
    "total_gasto_por_cliente = clientes_compras.groupby('Nome')['Valor'].sum()\n",
    "\n",
    "display(df, df_datas, vendas_por_categoria, pivot_vendas, clientes_compras, total_gasto_por_cliente)\n",
    "# observação: o display() é utilizado para exibir múltiplos DataFrames em uma única célula, mas não é necessário para o código funcionar"
   ]
  },
  {
   "cell_type": "markdown",
   "id": "81221080",
   "metadata": {},
   "source": [
    "# **Desafio: 🔒 Gerador de Senhas Personalizadas**\n"
   ]
  },
  {
   "cell_type": "markdown",
   "id": "114e03d5",
   "metadata": {},
   "source": [
    "Você está criando um sistema que gera senhas personalizadas para os usuários com base em suas informações pessoais. As senhas precisam ser únicas e seguras, mas também fáceis de lembrar.\n",
    "\n",
    "1. **Crie um programa que peça ao usuário seu nome e uma data**. O programa deve gerar uma senha usando a seguinte lógica:\n",
    "   - As 3 primeiras letras do nome.\n",
    "   - Os dois primeiros dígitos do ano.\n",
    "   - O número de caracteres do nome completo (incluindo espaços).\n",
    "\n",
    "   **Exemplo**: Para um usuário chamado \"Diego Beatriz Costa\" e \"15/08/1990\", a senha seria: `Diego19 18`.\n",
    "\n",
    "2. **Modifique o programa para transformar as letras da senha gerada em letras maiúsculas e adicionar um caractere especial \"!\" no final da senha**.\n",
    "\n",
    "   **Exemplo modificado**: A senha final seria: `Diego19 18!`.\n"
   ]
  },
  {
   "cell_type": "code",
   "execution_count": 34,
   "id": "18c5c878",
   "metadata": {},
   "outputs": [
    {
     "data": {
      "text/plain": [
       "'0!'"
      ]
     },
     "execution_count": 34,
     "metadata": {},
     "output_type": "execute_result"
    }
   ],
   "source": [
    "# --- Desafio ---\n",
    "# Função para criar a senha personalizada\n",
    "def gerar_senha():\n",
    "    # Solicitar as informações do usuário\n",
    "    nome = input(\"Digite seu nome completo: \")\n",
    "    data = input(\"Digite uma data no formato DD/MM/AAAA: \")\n",
    "    \n",
    "    # Processar as informações\n",
    "    tres_letras = nome[:3]  # As 3 primeiras letras do nome\n",
    "    ano = data.split(\"/\")[-1]  # Extrair o ano da data\n",
    "    dois_digitos_ano = ano[:2]  # Pegar os dois primeiros dígitos do ano\n",
    "    num_caracteres = len(nome)  # Número de caracteres no nome completo (incluindo espaços)\n",
    "    \n",
    "    # Montar a senha inicial\n",
    "    senha_inicial = f\"{tres_letras}{dois_digitos_ano}{num_caracteres}\"\n",
    "    \n",
    "    # Transformar em maiúsculas e adicionar caractere especial\n",
    "    senha_final = senha_inicial.upper() + \"!\"\n",
    "    \n",
    "    return senha_final\n",
    "\n",
    "# Testando a função\n",
    "senha_gerada = gerar_senha()\n",
    "senha_gerada\n"
   ]
  }
 ],
 "metadata": {
  "kernelspec": {
   "display_name": "Python 3",
   "language": "python",
   "name": "python3"
  },
  "language_info": {
   "codemirror_mode": {
    "name": "ipython",
    "version": 3
   },
   "file_extension": ".py",
   "mimetype": "text/x-python",
   "name": "python",
   "nbconvert_exporter": "python",
   "pygments_lexer": "ipython3",
   "version": "3.12.7"
  }
 },
 "nbformat": 4,
 "nbformat_minor": 5
}
