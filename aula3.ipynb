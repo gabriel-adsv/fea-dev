{
 "cells": [
  {
   "cell_type": "markdown",
   "metadata": {},
   "source": [
    "# 🐍 Aula: Estruturas de Dados em Python\n",
    "\n",
    "Vamos explorar juntos as estruturas de dados em Python: listas, tuplas, sets e dicionários. Esses elementos são como caixinhas mágicas 🧙‍♂️ que nos ajudam a organizar e manipular informações no nosso dia a dia de programador.\n",
    "\n",
    "Imagine que você está fazendo uma lista de compras 🛒 (como essa da imagem!). Em Python, podemos usar diferentes estruturas para organizá-la:\n",
    "\n",
    "- Listas: para adicionar, remover ou mudar itens, super flexíveis! 📋\n",
    "- Tuplas: para guardar dados que não mudam (tipo categorias fixas). 🔒\n",
    "- Sets: para garantir que não temos itens duplicados. 🚫\n",
    "- Dicionários: para associar um item ao seu valor, como produto e quantidade. 📝\n",
    "\n",
    "Vamos juntos descobrir como tudo isso funciona?"
   ]
  },
  {
   "cell_type": "code",
   "execution_count": null,
   "metadata": {},
   "outputs": [],
   "source": [
    "# Listas = [] -> ordenada e mutável. Duplicados são permitidos\n",
    "\n",
    "frutas = ['abacaxi', 'laranja', 'banana', 'manga']\n",
    "\n",
    "# len(frutas)\n",
    "# \"laranja\" in frutas\n",
    "# 'melancia' not in frutas\n",
    "\n",
    "# frutas[3] = 'melancia'\n",
    "\n",
    "# frutas.append(\"melancia\")\n",
    "# frutas.remove(\"abacaxi\")\n",
    "# frutas.insert(0, \"melancia\")\n",
    "# frutas.sort()\n",
    "# frutas.reverse()\n",
    "# frutas.pop(0)\n",
    "# print(frutas.index(\"manga\"))\n",
    "# print(frutas.count('abacaxi'))\n",
    "\n",
    "\n",
    "print(frutas)"
   ]
  },
  {
   "cell_type": "code",
   "execution_count": null,
   "metadata": {},
   "outputs": [],
   "source": [
    "# Tuplas = () -> ordenada e imutável. Duplicados são permitidos. MAIS RÁPIDA QUE LISTA\n",
    "\n",
    "frutas = ('abacaxi', 'laranja', 'banana', 'manga', 'abacaxi')\n",
    "\n",
    "# len(frutas)\n",
    "# in, not in\n",
    "# frutas.index()\n",
    "# frutas.count()\n",
    "\n",
    "print(frutas)"
   ]
  },
  {
   "cell_type": "code",
   "execution_count": 2,
   "metadata": {},
   "outputs": [
    {
     "name": "stdout",
     "output_type": "stream",
     "text": [
      "dict_values([{'preço': 25, 'quant': 5}, 40])\n",
      "dict_keys(['camisetas', 'bonés'])\n",
      "dict_items([('camisetas', {'preço': 25, 'quant': 5}), ('bonés', 40)])\n"
     ]
    }
   ],
   "source": [
    "# Dict = {} -> Chave-valor. ordenado e valores mutáveis. Chaves duplicadas não são permitidas\n",
    "\n",
    "estruturas_dados = {\n",
    "    'camisetas': {\n",
    "        'preço': 25,\n",
    "        'quant': 5\n",
    "    },\n",
    "    'bonés': 40,\n",
    "}\n",
    "\n",
    "# print(estruturas_dados['bonés'])\n",
    "# print(estruturas_dados['camisetas']['quant'])\n",
    "\n",
    "# print('camisetas' in estruturas_dados)\n",
    "# print(40 in estruturas_dados)\n",
    "\n",
    "print(estruturas_dados.values())\n",
    "print(estruturas_dados.keys())\n",
    "print(estruturas_dados.items())"
   ]
  },
  {
   "cell_type": "code",
   "execution_count": null,
   "metadata": {},
   "outputs": [],
   "source": [
    "# Sets = set() -> não ordenado, não indexado e imutável. Permite Adicionar e Remover. Não permite duplicados\n",
    "\n",
    "frutas = {'abacaxi', 'laranja', 'abacaxi'}\n",
    "\n",
    "frutas2 = {'abacaxi', 'banana'}\n",
    "\n",
    "# frutas.add('abacaxi')\n",
    "# frutas.add('laranja')\n",
    "# frutas.remove('abacaxi')\n",
    "\n",
    "frutas.intersection(frutas2)"
   ]
  },
  {
   "cell_type": "markdown",
   "metadata": {},
   "source": [
    "# Loops | For"
   ]
  },
  {
   "cell_type": "markdown",
   "metadata": {},
   "source": [
    "For também é uma estrutura de loops, mas mais utilizada em contextos em que sabemos o número de vezes que vamos repetir determinada ação no código"
   ]
  },
  {
   "cell_type": "markdown",
   "metadata": {},
   "source": [
    "## Exemplos do While"
   ]
  },
  {
   "cell_type": "code",
   "execution_count": 60,
   "metadata": {},
   "outputs": [
    {
     "name": "stdout",
     "output_type": "stream",
     "text": [
      "Que ótimo\n"
     ]
    }
   ],
   "source": [
    "while True:\n",
    "    resposta = input(\"Você está gostando do curso?\").lower()\n",
    "\n",
    "    if resposta in [\"sim\", \"s\"]:\n",
    "        print(\"Que ótimo\")\n",
    "        break\n",
    "    \n",
    "    elif resposta in [\"não\", \"n\", \"nao\"]:\n",
    "        print(\"Que pena\")\n",
    "        break"
   ]
  },
  {
   "cell_type": "code",
   "execution_count": 61,
   "metadata": {},
   "outputs": [
    {
     "name": "stdout",
     "output_type": "stream",
     "text": [
      "Mais alto do que 50\n",
      "Mais alto do que 55\n",
      "Mais alto do que 80\n",
      "Mais baixo do que 90\n",
      "Parabéns, você acertou! Era 85\n"
     ]
    }
   ],
   "source": [
    "import random\n",
    "\n",
    "aleatorio = random.randint(1, 100)\n",
    "\n",
    "while True:\n",
    "    resposta = int(input(\"Qual o número? \"))\n",
    "\n",
    "    if resposta < aleatorio:\n",
    "        print(f\"Mais alto do que {resposta}\")\n",
    "\n",
    "    elif resposta > aleatorio:\n",
    "        print(f\"Mais baixo do que {resposta}\")\n",
    "\n",
    "    elif resposta == aleatorio:\n",
    "        print(f\"Parabéns, você acertou! Era {resposta}\")\n",
    "        break"
   ]
  },
  {
   "cell_type": "markdown",
   "metadata": {},
   "source": [
    "## Usos do For"
   ]
  },
  {
   "cell_type": "markdown",
   "metadata": {},
   "source": [
    "Para funcionar, o For precisa de uma variável em que os valores do loop vão ficar armazenados, e um iterador, ou seja, uma estrutura para percorrermos cada um dos elementos"
   ]
  },
  {
   "cell_type": "code",
   "execution_count": 62,
   "metadata": {},
   "outputs": [],
   "source": [
    "num = [0, 1, 2, 3, 4, 5]"
   ]
  },
  {
   "cell_type": "code",
   "execution_count": 63,
   "metadata": {},
   "outputs": [
    {
     "name": "stdout",
     "output_type": "stream",
     "text": [
      "0\n",
      "1\n",
      "2\n",
      "3\n",
      "4\n",
      "5\n"
     ]
    }
   ],
   "source": [
    "for numero in num:\n",
    "    print(numero)"
   ]
  },
  {
   "cell_type": "code",
   "execution_count": 64,
   "metadata": {},
   "outputs": [
    {
     "name": "stdout",
     "output_type": "stream",
     "text": [
      "0\n",
      "1\n",
      "2\n",
      "3\n",
      "4\n",
      "5\n"
     ]
    }
   ],
   "source": [
    "for numero in [0, 1, 2, 3, 4, 5]:\n",
    "    print(numero)"
   ]
  },
  {
   "cell_type": "code",
   "execution_count": 65,
   "metadata": {},
   "outputs": [
    {
     "name": "stdout",
     "output_type": "stream",
     "text": [
      "0\n",
      "1\n",
      "2\n",
      "3\n",
      "4\n",
      "5\n"
     ]
    }
   ],
   "source": [
    "for numero in range(6):\n",
    "    print(numero)"
   ]
  },
  {
   "cell_type": "code",
   "execution_count": 66,
   "metadata": {},
   "outputs": [
    {
     "name": "stdout",
     "output_type": "stream",
     "text": [
      "0\n",
      "2\n",
      "4\n"
     ]
    }
   ],
   "source": [
    "for numero in range(6):\n",
    "    if numero % 2 == 0:\n",
    "        print(numero)"
   ]
  },
  {
   "cell_type": "code",
   "execution_count": 67,
   "metadata": {},
   "outputs": [
    {
     "name": "stdout",
     "output_type": "stream",
     "text": [
      "0\n",
      "2\n",
      "4\n"
     ]
    }
   ],
   "source": [
    "for numero in range(0, 6, 2):\n",
    "    print(numero)"
   ]
  },
  {
   "cell_type": "markdown",
   "metadata": {},
   "source": [
    "## Outros métodos importantes"
   ]
  },
  {
   "cell_type": "code",
   "execution_count": 68,
   "metadata": {},
   "outputs": [],
   "source": [
    "nomes = [\"Daniel\", \"Gabriel\", \"Samuel\"]\n",
    "idades = [25, 30, 35]"
   ]
  },
  {
   "cell_type": "markdown",
   "metadata": {},
   "source": [
    "### zip()"
   ]
  },
  {
   "cell_type": "markdown",
   "metadata": {},
   "source": [
    "Usado para iterar sobre dois ou mais conjuntos de dados, desde que eles tenham o mesmo comprimento "
   ]
  },
  {
   "cell_type": "code",
   "execution_count": 69,
   "metadata": {},
   "outputs": [
    {
     "name": "stdout",
     "output_type": "stream",
     "text": [
      "Meu nome é Daniel e tenho 25 anos\n",
      "Meu nome é Gabriel e tenho 30 anos\n",
      "Meu nome é Samuel e tenho 35 anos\n"
     ]
    }
   ],
   "source": [
    "for nome, idade in zip(nomes, idades):\n",
    "    print(f\"Meu nome é {nome} e tenho {idade} anos\")"
   ]
  },
  {
   "cell_type": "code",
   "execution_count": 70,
   "metadata": {},
   "outputs": [],
   "source": [
    "pessoas = dict(zip(nomes, idades))"
   ]
  },
  {
   "cell_type": "markdown",
   "metadata": {},
   "source": [
    "### keys()"
   ]
  },
  {
   "cell_type": "code",
   "execution_count": 71,
   "metadata": {},
   "outputs": [
    {
     "name": "stdout",
     "output_type": "stream",
     "text": [
      "Meu nome é Daniel\n",
      "Meu nome é Gabriel\n",
      "Meu nome é Samuel\n"
     ]
    }
   ],
   "source": [
    "for chave in pessoas.keys():\n",
    "    print(f\"Meu nome é {chave}\")"
   ]
  },
  {
   "cell_type": "markdown",
   "metadata": {},
   "source": [
    "### values()"
   ]
  },
  {
   "cell_type": "code",
   "execution_count": 72,
   "metadata": {},
   "outputs": [
    {
     "name": "stdout",
     "output_type": "stream",
     "text": [
      "Tenho 25 anos\n",
      "Tenho 30 anos\n",
      "Tenho 35 anos\n"
     ]
    }
   ],
   "source": [
    "for valor in pessoas.values():\n",
    "    print(f\"Tenho {valor} anos\")"
   ]
  },
  {
   "cell_type": "markdown",
   "metadata": {},
   "source": [
    "### items()"
   ]
  },
  {
   "cell_type": "markdown",
   "metadata": {},
   "source": [
    "Usado para iterar sobre chaves e valores de um dicionário ao mesmo tempo"
   ]
  },
  {
   "cell_type": "code",
   "execution_count": 73,
   "metadata": {},
   "outputs": [
    {
     "name": "stdout",
     "output_type": "stream",
     "text": [
      "Meu nome é Daniel e tenho 25 anos\n",
      "Meu nome é Gabriel e tenho 30 anos\n",
      "Meu nome é Samuel e tenho 35 anos\n"
     ]
    }
   ],
   "source": [
    "for chave, valor in pessoas.items():\n",
    "    print(f\"Meu nome é {chave} e tenho {valor} anos\")"
   ]
  },
  {
   "cell_type": "markdown",
   "metadata": {},
   "source": [
    "### enumerate()"
   ]
  },
  {
   "cell_type": "markdown",
   "metadata": {},
   "source": [
    "Retorna tuplas relacionando cada um dos itens a seu índice"
   ]
  },
  {
   "cell_type": "code",
   "execution_count": 74,
   "metadata": {},
   "outputs": [],
   "source": [
    "frutas = [\"maçã\", \"banana\", \"laranja\"]"
   ]
  },
  {
   "cell_type": "code",
   "execution_count": 75,
   "metadata": {},
   "outputs": [
    {
     "name": "stdout",
     "output_type": "stream",
     "text": [
      "O indice é 0 e a fruta é maçã\n",
      "O indice é 1 e a fruta é banana\n",
      "O indice é 2 e a fruta é laranja\n"
     ]
    }
   ],
   "source": [
    "for indice, fruta in enumerate(frutas):\n",
    "    print(f\"O indice é {indice} e a fruta é {fruta}\")"
   ]
  },
  {
   "cell_type": "markdown",
   "metadata": {},
   "source": [
    "### set()"
   ]
  },
  {
   "cell_type": "markdown",
   "metadata": {},
   "source": [
    "Evita valores repetidos"
   ]
  },
  {
   "cell_type": "code",
   "execution_count": 76,
   "metadata": {},
   "outputs": [],
   "source": [
    "nums = [0, 1, 2, 2, 3,3, 3, 4, 5, 5]"
   ]
  },
  {
   "cell_type": "code",
   "execution_count": 77,
   "metadata": {},
   "outputs": [
    {
     "name": "stdout",
     "output_type": "stream",
     "text": [
      "0\n",
      "1\n",
      "2\n",
      "3\n",
      "4\n",
      "5\n"
     ]
    }
   ],
   "source": [
    "for numero in set(nums):\n",
    "    print(numero)"
   ]
  },
  {
   "cell_type": "code",
   "execution_count": 78,
   "metadata": {},
   "outputs": [],
   "source": [
    "set_nums = {0, 1, 2, 3, 4, 5}"
   ]
  },
  {
   "cell_type": "markdown",
   "metadata": {},
   "source": [
    "## List Comprehension"
   ]
  },
  {
   "cell_type": "markdown",
   "metadata": {},
   "source": [
    "Forma eficiente de criar listas inteiras com dados que atendam a determinado critério"
   ]
  },
  {
   "cell_type": "code",
   "execution_count": 79,
   "metadata": {},
   "outputs": [],
   "source": [
    "numeros = [0, 1, 2, 3, 4, 5, 6, 7, 8, 9, 10, 11, 12, 13, 14, 15, 16, 17, 18, 19, 20]"
   ]
  },
  {
   "cell_type": "code",
   "execution_count": 80,
   "metadata": {},
   "outputs": [
    {
     "name": "stdout",
     "output_type": "stream",
     "text": [
      "[0, 1, 4, 9, 16, 25, 36, 49, 64, 81, 100, 121, 144, 169, 196, 225, 256, 289, 324, 361, 400]\n"
     ]
    }
   ],
   "source": [
    "quadrados_perfeitos = [x ** 2 for x in numeros]\n",
    "print(quadrados_perfeitos)"
   ]
  },
  {
   "cell_type": "code",
   "execution_count": 81,
   "metadata": {},
   "outputs": [
    {
     "name": "stdout",
     "output_type": "stream",
     "text": [
      "[0, 4, 16, 36, 64, 100, 144, 196, 256, 324, 400]\n"
     ]
    }
   ],
   "source": [
    "quadrados_pares = [x ** 2 for x in numeros if x % 2 == 0]\n",
    "print(quadrados_pares)"
   ]
  }
 ],
 "metadata": {
  "kernelspec": {
   "display_name": "Python 3",
   "language": "python",
   "name": "python3"
  },
  "language_info": {
   "codemirror_mode": {
    "name": "ipython",
    "version": 3
   },
   "file_extension": ".py",
   "mimetype": "text/x-python",
   "name": "python",
   "nbconvert_exporter": "python",
   "pygments_lexer": "ipython3",
   "version": "3.12.0"
  }
 },
 "nbformat": 4,
 "nbformat_minor": 2
}
