{
 "cells": [
  {
   "cell_type": "markdown",
   "id": "2c1a9e76",
   "metadata": {},
   "source": [
    "![dev1.jpg](imgs/dev1.jpg)"
   ]
  },
  {
   "cell_type": "markdown",
   "id": "f0a2209a",
   "metadata": {},
   "source": [
    "# **Exercícios de Pandas 🐼✨**"
   ]
  },
  {
   "cell_type": "markdown",
   "id": "b43b13ea",
   "metadata": {},
   "source": [
    "## **Lista de Exercício 7 - Pandas II**\n",
    "### Fala devs, blz? \n",
    "\n",
    "Essa é a nossa 7ª lista de exercícios, parabéns por ter chegado até aqui! 🚀\n",
    "\n",
    "Dessa vez, iremos fixar os conceitos aprendidos na segunda aula da biblioteca Pandas! Os exercícios a seguir abordam funções como `apply`, trabalhar com datas, agrupamentos e combinações de tabelas. Bora lá?\n"
   ]
  },
  {
   "cell_type": "markdown",
   "id": "fe1b07dd",
   "metadata": {},
   "source": [
    "## 🚀 Exercício 1: Trabalhando com `apply` e `apply(lambda)`"
   ]
  },
  {
   "cell_type": "markdown",
   "id": "a9c0e041",
   "metadata": {},
   "source": [
    "### O que você vai fazer:\n",
    "1. Crie um DataFrame com as seguintes colunas: Nome, Idade, Cidade e Salário.\n",
    "   ```plaintext\n",
    "   Nome: Antonio, Bernardo, Carolina, Diego\n",
    "   Idade: 25, 30, 35, 28\n",
    "   Cidade: São Paulo, Rio de Janeiro, Belo Horizonte, São Paulo\n",
    "   Salário: 3500, 4200, 3700, 3100\n",
    "   ```\n",
    "2. Adicione uma nova coluna **\"Faixa_Etaria\"**:\n",
    "   * Se a idade for menor que 30, escreva \"Jovem\".\n",
    "   * Se estiver entre 30 e 40 (inclusive), escreva \"Adulto\".\n",
    "   * Use ```apply``` ou ```apply(lambda)``` para fazer isso!\n",
    "\n",
    "3. Aplique um aumento de 10% no salário e atualize os valores da coluna ```Salário```\n",
    "\n",
    "Dica: dá pra usar ```apply(lamda)``` pra isso também!"
   ]
  },
  {
   "cell_type": "code",
   "execution_count": 1,
   "id": "ecf9b235",
   "metadata": {},
   "outputs": [],
   "source": [
    "import pandas as pd\n",
    "\n",
    "df = pd.DataFrame({\n",
    "    'Nome': ['João', 'Maria', 'Pedro', 'Ana'],\n",
    "    'Idade': [25, 30, 35, 28],\n",
    "    'Cidade': ['São Paulo', 'Rio de Janeiro', 'Belo Horizonte', 'São Paulo'],\n",
    "    'Salário': [3500, 4200, 3700, 3100]\n",
    "})\n",
    "\n",
    "df['Faixa_Etária'] = df['Idade'].apply(lambda x: 'Jovem' if x < 30 else 'Adulto')\n",
    "\n",
    "df['Salário'] = df['Salário'].apply(lambda x: x * 1.1)"
   ]
  },
  {
   "cell_type": "markdown",
   "id": "0b91f96b",
   "metadata": {},
   "source": [
    "## 🗓️ **Exercício 2: Datas no Pandas**"
   ]
  },
  {
   "cell_type": "markdown",
   "id": "3bc78eb2",
   "metadata": {},
   "source": [
    "### O que você vai fazer:\n",
    "1. Crie um DataFrame com duas colunas: Nome e Data_Nascimento.\n",
    "   ```plaintext\n",
    "   Nome: Antonio, Bernardo, Carolina, Diego\n",
    "   Data_Nascimento: 1998-06-15, 1993-09-21, 1988-11-03, 1995-03-12\n",
    "   ```\n",
    "2. Converta a coluna `Data_Nascimento` para o formato de **datas do Pandas** usando `pd.to_datetime`.  \n",
    "3. Extraia o **ano de nascimento** e crie uma nova coluna chamada `Ano_Nascimento`.  \n",
    "4. Crie mais uma coluna chamada `Mes_Dia` que contenha apenas o mês e o dia, no formato `MM-DD`.  \n",
    "\n",
    "Dica: Para formatar datas, você pode usar `.strftime`."
   ]
  },
  {
   "cell_type": "code",
   "execution_count": null,
   "id": "85d65e47",
   "metadata": {},
   "outputs": [],
   "source": [
    "df_datas = pd.DataFrame({\n",
    "  'Nome': ['João', 'Maria', 'Pedro', 'Ana'],\n",
    "  'Data_Nascimento': ['1998-06-15', '1993-09-21', '1988-11-03', '1995-03-12']\n",
    "})\n",
    "\n",
    "df_datas['Data_Nascimento'] = pd.to_datetime(df_datas['Data_Nascimento'])\n",
    "\n",
    "df_datas['Ano_Nascimento'] = df_datas['Data_Nascimento'].dt.year\n",
    "\n",
    "df_datas['Mes_Dia'] = df_datas['Data_Nascimento'].dt.strftime('%m-%d')"
   ]
  },
  {
   "cell_type": "markdown",
   "id": "9dc54907",
   "metadata": {},
   "source": [
    "## 📊 **Exercício 3: Agrupamentos e Pivot Tables**"
   ]
  },
  {
   "cell_type": "markdown",
   "id": "4f51c322",
   "metadata": {},
   "source": [
    "### O que você vai fazer:\n",
    "1. Crie um DataFrame com dados de vendas:\n",
    "   ```plaintext\n",
    "   Produto: Produto1, Produto2, Produto3, Produto4, Produto5, Produto6\n",
    "   Categoria: A, B, A, B, A, B\n",
    "   Valor: 500, 700, 200, 400, 800, 300\n",
    "   Vendedor: Antonio, Bernardo, Antonio, Diego, Carolina, Bernardo\n",
    "   Mês: Janeiro, Janeiro, Fevereiro, Fevereiro, Janeiro, Fevereiro\n",
    "   ```\n",
    "2. Use o `groupby` para somar os valores (`Valor`) por **Categoria**.\n",
    "3. Crie uma tabela dinâmica (usando `pivot_table`) que mostre as vendas totais por **Mês** e **Vendedor**.\n",
    "\n",
    "Dica: Não se preocupe com valores faltantes, o `pivot_table` pode lidar com isso facilmente usando `fill_value=0`."
   ]
  },
  {
   "cell_type": "code",
   "execution_count": null,
   "id": "67b32ccf",
   "metadata": {},
   "outputs": [],
   "source": [
    "vendas = pd.DataFrame({\n",
    "    'Produto': ['Produto1', 'Produto2', 'Produto3', 'Produto4', 'Produto5', 'Produto6'],\n",
    "    'Categoria': ['A', 'B', 'A', 'B', 'A', 'B'],\n",
    "    'Valor': [500, 700, 200, 400, 800, 300],\n",
    "    'Vendedor': ['João', 'Maria', 'João', 'Ana', 'Pedro', 'Maria'],\n",
    "    'Mês': ['Janeiro', 'Janeiro', 'Fevereiro', 'Fevereiro', 'Janeiro', 'Fevereiro']\n",
    "})\n",
    "\n",
    "vendas_por_categoria = vendas.groupby('Categoria')['Valor'].sum()\n",
    "\n",
    "pivot_vendas = vendas.pivot_table(values='Valor', index='Mês', columns='Vendedor', aggfunc='sum', fill_value=0)\n",
    "\n",
    "pivot_vendas"
   ]
  },
  {
   "cell_type": "markdown",
   "id": "c7346ac7",
   "metadata": {},
   "source": [
    "## 🔗 **Exercício 4: Juntando tabelas com `merge`**"
   ]
  },
  {
   "cell_type": "markdown",
   "id": "a9c30d8b",
   "metadata": {},
   "source": [
    "### O que você vai fazer:\n",
    "1. Crie dois DataFrames:\n",
    "   - **Clientes**:\n",
    "     ```plaintext\n",
    "     ClienteID: 1, 2, 3\n",
    "     Nome: Antonio, Bernardo, Diego\n",
    "     Cidade: São Paulo, Rio de Janeiro, Belo Horizonte\n",
    "     ```\n",
    "   - **Compras**:\n",
    "     ```plaintext\n",
    "     CompraID: 101, 102, 103, 104\n",
    "     ClienteID: 1, 2, 3, 1\n",
    "     Produto: Produto1, Produto2, Produto3, Produto4\n",
    "     Valor: 500, 700, 300, 400\n",
    "     ```\n",
    "2. Combine essas tabelas usando `merge` para ligar os clientes às suas compras, com base no campo `ClienteID`.\n",
    "3. Calcule o total gasto por cada cliente e crie uma tabela com o nome do cliente e o valor total."
   ]
  },
  {
   "cell_type": "code",
   "execution_count": null,
   "id": "5d090d5e",
   "metadata": {},
   "outputs": [],
   "source": [
    "clientes = pd.DataFrame({\n",
    "    'ClienteID': [1, 2, 3],\n",
    "    'Nome': ['João', 'Maria', 'Ana'],\n",
    "    'Cidade': ['São Paulo', 'Rio de Janeiro', 'Belo Horizonte']\n",
    "})\n",
    "\n",
    "compras = pd.DataFrame({\n",
    "    'CompraID': [101, 102, 103, 104],\n",
    "    'ClienteID': [1, 2, 3, 1],\n",
    "    'Produto': ['Produto1', 'Produto2', 'Produto3', 'Produto4'],\n",
    "    'Valor': [500, 700, 300, 400]\n",
    "})\n",
    "\n",
    "clientes_compras = pd.merge(clientes, compras, on='ClienteID', how='inner')\n",
    "\n",
    "total_gasto_por_cliente = clientes_compras.groupby('Nome')['Valor'].sum()\n",
    "\n",
    "display(df, df_datas, vendas_por_categoria, pivot_vendas, clientes_compras, total_gasto_por_cliente)"
   ]
  },
  {
   "cell_type": "markdown",
   "id": "81221080",
   "metadata": {},
   "source": [
    "# **Desafio: 🔒 Gerador de Senhas Personalizadas**\n"
   ]
  },
  {
   "cell_type": "markdown",
   "id": "114e03d5",
   "metadata": {},
   "source": [
    "Você está criando um sistema que gera senhas personalizadas para os usuários com base em suas informações pessoais. As senhas precisam ser únicas e seguras, mas também fáceis de lembrar.\n",
    "\n",
    "1. **Crie um programa que peça ao usuário seu nome e uma data**. O programa deve gerar uma senha usando a seguinte lógica:\n",
    "   - As 3 primeiras letras do nome.\n",
    "   - Os dois primeiros dígitos do ano.\n",
    "   - O número de caracteres do nome completo (incluindo espaços).\n",
    "\n",
    "   **Exemplo**: Para um usuário chamado \"Diego Beatriz Costa\" e \"15/08/1990\", a senha seria: `Diego19 18`.\n",
    "\n",
    "2. **Modifique o programa para transformar as letras da senha gerada em letras maiúsculas e adicionar um caractere especial \"!\" no final da senha**.\n",
    "\n",
    "   **Exemplo modificado**: A senha final seria: `Diego19 18!`.\n"
   ]
  },
  {
   "cell_type": "code",
   "execution_count": null,
   "id": "18395b0c",
   "metadata": {},
   "outputs": [],
   "source": [
    "def gerar_senha():\n",
    "  nome = str(input('Digite seu nome completo: ')).strip().upper()\n",
    "  data = str(input('Digite uma data no formato DD/MM/AAAA: ')).strip.upper()\n",
    "    \n",
    "  \n",
    "  tres_letras = nome[:3]\n",
    "  ano = data.split(\"/\")[-1]\n",
    "  dois_digitos_ano = ano[:2]\n",
    "  num_caracteres = len(nome)\n",
    "  \n",
    "  senha_inicial = '{}{}{}'.format(tres_letras, dois_digitos_ano, num_caracteres)\n",
    "    \n",
    "  senha_final = senha_inicial.upper() + \"!\"\n",
    "    \n",
    "  return senha_final\n",
    "\n",
    "senha_gerada = gerar_senha()\n",
    "senha_gerada\n"
   ]
  }
 ],
 "metadata": {
  "kernelspec": {
   "display_name": "Python 3",
   "language": "python",
   "name": "python3"
  },
  "language_info": {
   "codemirror_mode": {
    "name": "ipython",
    "version": 3
   },
   "file_extension": ".py",
   "mimetype": "text/x-python",
   "name": "python",
   "nbconvert_exporter": "python",
   "pygments_lexer": "ipython3",
   "version": "3.13.0"
  }
 },
 "nbformat": 4,
 "nbformat_minor": 5
}
