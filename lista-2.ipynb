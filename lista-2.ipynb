{
 "cells": [
  {
   "cell_type": "markdown",
   "metadata": {},
   "source": [
    "# <span style=\"color:#ffdf22;\">~Lista de Exercícios~</span>"
   ]
  },
  {
   "cell_type": "markdown",
   "metadata": {},
   "source": [
    "## <span style=\"color:#ffdf22;\">Exercício 1: Aprovação ou Reprovação (Condicional) </span>\n",
    "Você estuda na USP e quer saber se foi aprovado ou não com as notas que você tem, mas seu professor utiliza o seguinte critério para cálcular a média:\n",
    "\n",
    "1. Os alunos precisam fazer apenas uma entre P1 e P2, caso façam as duas somente a de maior nota será considerada.\n",
    "2. P3 é obrigatória.\n",
    "3. Calculo da média é feito por média ponderada.\n",
    "\n",
    "\n",
    "| Prova    | P1 |P2    | P3 |\n",
    "| -------- | ------- |-------- | ------- |\n",
    "| Peso | 4 | 4 | 6 |\n",
    "\n",
    "\n",
    "Se nota maior ou igual a 5, printar **\"Aprovado\"**.\n",
    "\n",
    "Se nota maior ou igual a 3 e menor que 5, printar **\"Reaval\"**.\n",
    "\n",
    "Se nota menor que 3, printar **\"Reprovado\"**."
   ]
  },
  {
   "cell_type": "code",
   "execution_count": 10,
   "metadata": {},
   "outputs": [
    {
     "name": "stdout",
     "output_type": "stream",
     "text": [
      "Parabéns, sua média foi de 6.4 e você está APROVADO!\n"
     ]
    }
   ],
   "source": [
    "p1 = float(input('Digite a nota da P1: '))\n",
    "p2 = float(input('Digite a nota da P2: '))\n",
    "p3 = float(input('Digite a nota da P3: '))\n",
    "\n",
    "maior_nota = p1\n",
    "\n",
    "if maior_nota < p2:\n",
    "  maior_nota = p2\n",
    "\n",
    "media = ((maior_nota * 4) + (p3 * 6)) / 10\n",
    "\n",
    "if media >= 5:\n",
    "  print('Parabéns, sua média foi de {:.1f} e você está APROVADO!'.format(media))\n",
    "elif media >= 3 and media < 5:\n",
    "  print('Sua média foi de {:.1f} e você fará a REAVAL.'.format(media))\n",
    "else:\n",
    "  print('Sua media foi de {:.2f} e você está REPROVADO.'.format(media))\n",
    "\n"
   ]
  },
  {
   "cell_type": "markdown",
   "metadata": {},
   "source": [
    "## <span style=\"color:#ffdf22;\">Exercício 2: Mitose (Loop) </span>\n",
    "\n",
    "Você é um biologo e gostaria de visualizar o quanto uma população de bactéria consegue crescer em poucos segundos.\n",
    "\n",
    "A população de bactérias começa em uma única e **dobra de tamanho a cada segundo**.\n",
    "\n",
    "Utilizando seus conhecimentos de programação, **crie um programa que peça o número de segundos e imprima uma pirâmide, onde cada camada tenha o número de bactérias**, após os segundo inseridos.\n",
    "\n",
    "- #### Exemplo:\n",
    "\n",
    "input: 4\n",
    "\n",
    "output:\n",
    "\n",
    "1\n",
    "\n",
    "11\n",
    "\n",
    "1111\n",
    "\n",
    "11111111"
   ]
  },
  {
   "cell_type": "code",
   "execution_count": 12,
   "metadata": {},
   "outputs": [
    {
     "name": "stdout",
     "output_type": "stream",
     "text": [
      "1\n",
      "11\n",
      "1111\n",
      "11111111\n"
     ]
    }
   ],
   "source": [
    "segundos = int(input('Por quantos segundos você deseja observar? '))\n",
    "\n",
    "bacterias_populacao = 1\n",
    "tempo = 0\n",
    "\n",
    "while tempo < segundos:\n",
    "  print(bacterias_populacao * '1')\n",
    "\n",
    "  bacterias_populacao *= 2\n",
    "\n",
    "  tempo += 1\n",
    "\n"
   ]
  },
  {
   "cell_type": "markdown",
   "metadata": {},
   "source": [
    "## <span style=\"color:#ffdf22;\">Exercício 3: Mínimo Múltiplo Comum (Loop) </span>\n",
    "\n",
    "Seu primo pequeno vai na sua casa e vê você programando, ele, então, diz que programação não tem utilidade alguma. Você sabendo que ele está estudando sobre MMC na escola cria um **programa com Loop que permite ver qual é o MMC entre dois valores**.\n",
    "\n",
    "Para impressiona-lo você deve encontrar o MMC entre a velocidade da Luz e do Som, que são, respectivamente, 1.079.252.847 km/h e 1233 km/h."
   ]
  },
  {
   "cell_type": "code",
   "execution_count": 15,
   "metadata": {},
   "outputs": [
    {
     "name": "stdout",
     "output_type": "stream",
     "text": [
      "O MMC entre a velocidade da luz (299792458 m/s) e a velocidade do som (343 m/s) é: 14689830442\n"
     ]
    }
   ],
   "source": [
    "from math import gcd\n",
    "\n",
    "def calcular_mmc(a, b):\n",
    "  return abs(a * b) // gcd(a, b)\n",
    "\n",
    "velocidade_luz = 299792458\n",
    "velocidade_som = 343\n",
    "\n",
    "mmc = calcular_mmc(velocidade_luz, velocidade_som)\n",
    "\n",
    "print('O MMC entre a velocidade da luz ({} m/s) e a velocidade do som ({} m/s) é: {}'.format(velocidade_luz, velocidade_som, mmc))\n"
   ]
  },
  {
   "cell_type": "markdown",
   "metadata": {},
   "source": [
    "\n",
    "## <span style=\"color:#ffdf22;\">Desafio 1/2: Cercado (Loop) </span>\n",
    "\n",
    "Você tem uma vila no Clash of Clans e gostaria de saber quantas peças serão necessárias para criar um cercado ao redor dela, a proporção da cerca será de 1:3, ou seja, **para cada 1 de largura haverá 3 de comprimento**.\n",
    "\n",
    "Como você não sabe ainda a largura que quer e o valor que será despendido para a construção, você utilizará a programação para construir um **esboço do cercado**.\n",
    "\n",
    "Considere que a representação do cercado será com \"#\".\n",
    "\n",
    "- #### Exemplo:\n",
    "\n",
    "input: 5\n",
    "\n",
    "Output: \n",
    "\n",
    "###############\n",
    "\n",
    "#...................................#\n",
    "\n",
    "#...................................#\n",
    "\n",
    "#...................................#\n",
    "\n",
    "###############\n",
    "\n",
    "(desconsidere os pontos, eles apenas sinalizam o espaçamento)"
   ]
  },
  {
   "cell_type": "code",
   "execution_count": 18,
   "metadata": {},
   "outputs": [
    {
     "name": "stdout",
     "output_type": "stream",
     "text": [
      "########\n",
      "#      #\n",
      "#      #\n",
      "#      #\n",
      "#      #\n",
      "#      #\n",
      "#      #\n",
      "#      #\n",
      "#      #\n",
      "#      #\n",
      "#      #\n",
      "#      #\n",
      "#      #\n",
      "#      #\n",
      "#      #\n",
      "#      #\n",
      "#      #\n",
      "#      #\n",
      "#      #\n",
      "#      #\n",
      "#      #\n",
      "#      #\n",
      "#      #\n",
      "########\n",
      "\n",
      "Quantidade de peças necessárias: 64\n"
     ]
    }
   ],
   "source": [
    "def construir_cerca(largura):\n",
    "  comprimento = largura * 3\n",
    "\n",
    "  quantidade_pecas = 2 * (largura + comprimento)\n",
    "\n",
    "  for i in range(comprimento):\n",
    "    if i == 0 or i == comprimento - 1:\n",
    "      print(\"#\" * largura)\n",
    "    else:\n",
    "      print(\"#\" + \" \" * (largura - 2) + \"#\")\n",
    "\n",
    "  print(\"\\nQuantidade de peças necessárias: {}\".format(quantidade_pecas))\n",
    "\n",
    "largura = int(input('Digite a largura do cercado: '))\n",
    "construir_cerca(largura)\n"
   ]
  },
  {
   "cell_type": "markdown",
   "metadata": {},
   "source": [
    "## <span style=\"color:#ffdf22;\">Desafio 2/2: Recibo de compra (Condicional) </span>\n",
    "Crie um programa que peça produto, número de série e valor, respeitando as instruções abaixo. Caso não siga o padrão, deve-se printar uma mensagem de erro.\n",
    "1. **Produto:** Somente letras; Sem espaços vazios; Sem limite para tamanho.\n",
    "2. **Número de série:** Não podem haver simbolos ou letras; Sem espaços vazios; Devem ter exatamente 4 números inteiros.\n",
    "3. **Valor:** Podem ser números inteiros ou decimais; Todo Valor terá duas casas decimais após a virgula.\n",
    "\n",
    "- #### Exemplo de recibo:\n",
    "\n",
    "Produto: Shampoo\n",
    "\n",
    "Nº de série: 1234\n",
    "\n",
    "Valor: 26,34\n",
    "\n",
    "- #### Exemplo de mensagem de erro:\n",
    "\n",
    "Input: \"Camise6a\"\n",
    "\n",
    "Output: \"ERRO: produto incorreto, escreva o nome do produto somente com letras e sem espaços vazios.\""
   ]
  },
  {
   "cell_type": "code",
   "execution_count": 2,
   "metadata": {},
   "outputs": [
    {
     "name": "stdout",
     "output_type": "stream",
     "text": [
      "Todas as informações estão corretas!\n"
     ]
    }
   ],
   "source": [
    "import re\n",
    "\n",
    "def validar_produto(produto):\n",
    "  if produto.isalpha() and ' ' not in produto:\n",
    "    return True\n",
    "  print('ERRO: produto incorreto, escreva o nome do produto somente com letras e sem espaços vazios.')\n",
    "  return False\n",
    "\n",
    "def validar_numero_serie(numero_serie):\n",
    "  if len(numero_serie) == 4 and numero_serie.isdigit() and ' ' not in numero_serie:\n",
    "    return True\n",
    "  print('ERRO: número de série incorreto, deve conter exatamente 4 números inteiros, sem símbolos ou letras e sem espaços vazios.')\n",
    "  return False\n",
    "\n",
    "def validar_valor(valor):\n",
    "  if re.match(r'^\\d+(\\.\\d{1,2})?$', valor):\n",
    "    return True\n",
    "  print('ERRO: valor incorreto, deve ser um número inteiro ou decimal com duas casas decimais.')\n",
    "  return False\n",
    "\n",
    "def main():\n",
    "  produto = input('Digite o nome do produto: ')\n",
    "  numero_serie = input('Digite o número de série: ')\n",
    "  valor = input('Digite o valor do produto: ')\n",
    "\n",
    "  if validar_produto(produto) and validar_numero_serie(numero_serie) and validar_valor(valor):\n",
    "    print('Todas as informações estão corretas!')\n",
    "  else:\n",
    "    print('Erro nas informações fornecidas.')\n",
    "\n",
    "if __name__ == '__main__':\n",
    "  main()\n"
   ]
  }
 ],
 "metadata": {
  "kernelspec": {
   "display_name": "Python 3",
   "language": "python",
   "name": "python3"
  },
  "language_info": {
   "codemirror_mode": {
    "name": "ipython",
    "version": 3
   },
   "file_extension": ".py",
   "mimetype": "text/x-python",
   "name": "python",
   "nbconvert_exporter": "python",
   "pygments_lexer": "ipython3",
   "version": "3.13.0"
  }
 },
 "nbformat": 4,
 "nbformat_minor": 2
}
