{
 "cells": [
  {
   "cell_type": "markdown",
   "id": "5bf28a15",
   "metadata": {},
   "source": [
    "# Fala devs, blz?? \n",
    "\n"
   ]
  },
  {
   "cell_type": "markdown",
   "id": "770a4249",
   "metadata": {},
   "source": [
    "## Loops (While) + Condicionais:\n",
    "\n",
    "1. Compreender a importância das condicionais para a programação\n",
    "2. Entender como funcionam as condicionais\n",
    "3. Operadores aritméticos (+ ; - ; * ; / ; // ; % ; **)\n",
    "4. Operadores de comparação (> ; >= ; == ; !=)\n",
    "5. Operadores lógicos (and, or, not)\n",
    "6. Operadores dde associação (in, not in)\n",
    "7. Operadores de identidade (is, is not)\n",
    "8. *if, elif, else*\n"
   ]
  },
  {
   "cell_type": "markdown",
   "id": "48c726ad",
   "metadata": {},
   "source": [
    "### 1 - Importância das Condicionais\n"
   ]
  },
  {
   "cell_type": "markdown",
   "id": "e0c77e25",
   "metadata": {},
   "source": [
    "Blocos os quais permitem que um programa tome decisões com base em condições ou estados."
   ]
  },
  {
   "cell_type": "markdown",
   "id": "bd2d5c6f",
   "metadata": {},
   "source": [
    "### 2 - Como funcionam as condicionais"
   ]
  },
  {
   "cell_type": "markdown",
   "id": "4cc0929d",
   "metadata": {},
   "source": [
    "#### float\n"
   ]
  },
  {
   "cell_type": "code",
   "execution_count": 54,
   "id": "d68ab584",
   "metadata": {},
   "outputs": [
    {
     "name": "stdout",
     "output_type": "stream",
     "text": [
      "Você não tem idade para dirigir, aguarde mais um tempo\n"
     ]
    }
   ],
   "source": [
    "idade = float(input(f'Quantos anos você tem?'))\n",
    "if idade >= 18:\n",
    "    print('Você tem idade para dirigir!')\n",
    "else:\n",
    "    print('Você não tem idade para dirigir, aguarde mais um tempo')    \n",
    "    "
   ]
  },
  {
   "cell_type": "markdown",
   "id": "e527460a",
   "metadata": {},
   "source": [
    "#### string\n"
   ]
  },
  {
   "cell_type": "code",
   "execution_count": 56,
   "id": "d07d92c4",
   "metadata": {},
   "outputs": [
    {
     "name": "stdout",
     "output_type": "stream",
     "text": [
      "Acesso liberado!\n"
     ]
    }
   ],
   "source": [
    "senha = 'FEADEV'\n",
    "senha_digitada = input(f'Qual a senha?')\n",
    "\n",
    "if senha_digitada == senha:\n",
    "    print('Acesso liberado!')\n",
    "else:\n",
    "    print('Acesso negado, tente novamente')"
   ]
  },
  {
   "cell_type": "markdown",
   "id": "23c77dd5",
   "metadata": {},
   "source": [
    "#### boleano\n"
   ]
  },
  {
   "cell_type": "code",
   "execution_count": 57,
   "id": "ffcf6d42",
   "metadata": {},
   "outputs": [
    {
     "name": "stdout",
     "output_type": "stream",
     "text": [
      "uhu!\n"
     ]
    }
   ],
   "source": [
    "curtindo_o_curso = True\n",
    "\n",
    "if curtindo_o_curso:\n",
    "    print('uhu!')\n",
    "else:\n",
    "    print('tentaremos melhorar')\n"
   ]
  },
  {
   "cell_type": "markdown",
   "id": "6b941a9d",
   "metadata": {},
   "source": [
    "### 3 - Operadores aritméticos"
   ]
  },
  {
   "cell_type": "code",
   "execution_count": 58,
   "id": "698e222c",
   "metadata": {},
   "outputs": [
    {
     "name": "stdout",
     "output_type": "stream",
     "text": [
      "4\n",
      "0\n",
      "9\n",
      "3.0\n",
      "2\n",
      "1\n",
      "16\n"
     ]
    }
   ],
   "source": [
    "soma = 2 + 2\n",
    "\n",
    "subtração = 2 - 2\n",
    "\n",
    "multiplicação = 3 * 3\n",
    "\n",
    "divisão = 9 / 3\n",
    "\n",
    "divisão_inteira_ = 5 // 2\n",
    "\n",
    "resto = 5 % 2\n",
    "\n",
    "radiaciação = 4**2\n",
    "\n",
    "print(soma)\n",
    "print(subtração)\n",
    "print(multiplicação)\n",
    "print(divisão)\n",
    "print(divisão_inteira_)\n",
    "print(resto)\n",
    "print(radiaciação)\n",
    "\n"
   ]
  },
  {
   "cell_type": "markdown",
   "id": "c2336d31",
   "metadata": {},
   "source": [
    "### 4 - Operadores comparativos"
   ]
  },
  {
   "cell_type": "markdown",
   "id": "f27a8b32",
   "metadata": {},
   "source": [
    "maior que: >\n"
   ]
  },
  {
   "cell_type": "markdown",
   "metadata": {},
   "source": [
    "menor que: <\n"
   ]
  },
  {
   "cell_type": "markdown",
   "id": "363617fc",
   "metadata": {},
   "source": [
    "maior ou igual: >=\n"
   ]
  },
  {
   "cell_type": "markdown",
   "id": "055cc7bf",
   "metadata": {},
   "source": [
    "menor ou igual: <=\n"
   ]
  },
  {
   "cell_type": "markdown",
   "id": "47f84824",
   "metadata": {},
   "source": [
    "igual: ==\n"
   ]
  },
  {
   "cell_type": "markdown",
   "id": "29ab5395",
   "metadata": {},
   "source": [
    "não igual: !="
   ]
  },
  {
   "cell_type": "markdown",
   "id": "04d78cca",
   "metadata": {},
   "source": [
    "### 5 - Operadores lógicos"
   ]
  },
  {
   "cell_type": "markdown",
   "id": "b942c6dd",
   "metadata": {},
   "source": [
    "Or: \"ou\" (um, outro, ambos)\n"
   ]
  },
  {
   "cell_type": "code",
   "execution_count": 60,
   "id": "b6fbf5fb",
   "metadata": {},
   "outputs": [
    {
     "name": "stdout",
     "output_type": "stream",
     "text": [
      "A loja está fechada hoje.\n"
     ]
    }
   ],
   "source": [
    "dia_da_semana = \"segunda\"\n",
    "\n",
    "if dia_da_semana == \"sábado\" or dia_da_semana == \"domingo\":\n",
    "    print(\"A loja está aberta hoje.\")\n",
    "else:\n",
    "    print(\"A loja está fechada hoje.\")"
   ]
  },
  {
   "cell_type": "markdown",
   "id": "612f1392",
   "metadata": {},
   "source": [
    "And: \"e\" (obrigatoriamente ambos)\n"
   ]
  },
  {
   "cell_type": "code",
   "execution_count": 63,
   "id": "2c00bb89",
   "metadata": {},
   "outputs": [
    {
     "name": "stdout",
     "output_type": "stream",
     "text": [
      "Acesso negado.\n"
     ]
    }
   ],
   "source": [
    "idade = 19\n",
    "ingresso_comprado = False\n",
    "\n",
    "if idade >= 18 and idade <= 35 and ingresso_comprado:\n",
    "    print(\"Acesso permitido ao evento.\")\n",
    "else:\n",
    "    print(\"Acesso negado.\")"
   ]
  },
  {
   "cell_type": "markdown",
   "id": "d5fe1890",
   "metadata": {},
   "source": [
    "Not: negação (inverte o valor lógico de uma expressão)"
   ]
  },
  {
   "cell_type": "code",
   "execution_count": 64,
   "id": "39c83fa8",
   "metadata": {},
   "outputs": [
    {
     "name": "stdout",
     "output_type": "stream",
     "text": [
      "O número não está na lista.\n"
     ]
    }
   ],
   "source": [
    "numeros = [1, 2, 3, 4, 5]\n",
    "numero = 7\n",
    "\n",
    "if numero not in numeros:\n",
    "    print(\"O número não está na lista.\")\n",
    "else:\n",
    "    print(\"O número está na lista.\")"
   ]
  },
  {
   "cell_type": "markdown",
   "id": "86aa9cce",
   "metadata": {},
   "source": [
    "### 6 - Operadores de associação"
   ]
  },
  {
   "cell_type": "markdown",
   "id": "d97cf612",
   "metadata": {},
   "source": [
    "#### in, not in"
   ]
  },
  {
   "cell_type": "markdown",
   "id": "37c1af5f",
   "metadata": {},
   "source": [
    "Utilizados em listas, tuplas, dicionários e até strings. Eles verificam se uma variável está ou não em determinada sequência de valores."
   ]
  },
  {
   "cell_type": "markdown",
   "id": "6cb45467",
   "metadata": {},
   "source": [
    "### 7 - Operadores de identidade "
   ]
  },
  {
   "cell_type": "markdown",
   "id": "c2e8c5c7",
   "metadata": {},
   "source": [
    "#### is, is not"
   ]
  },
  {
   "cell_type": "markdown",
   "id": "378c53d8",
   "metadata": {},
   "source": [
    "Verificam se 2 objetos tem a mesma identidade, ou seja, se ocupam o mesmo espaço de memória"
   ]
  },
  {
   "cell_type": "code",
   "execution_count": 65,
   "id": "be402fa9",
   "metadata": {},
   "outputs": [
    {
     "name": "stdout",
     "output_type": "stream",
     "text": [
      "True\n",
      "False\n",
      "True\n",
      "True\n"
     ]
    }
   ],
   "source": [
    "a = [1, 2, 3]\n",
    "b = [1, 2, 3]\n",
    "\n",
    "print(a == b)     \n",
    "print(a is b)    \n",
    "\n",
    "c = a\n",
    "\n",
    "print(c is a)    \n",
    "\n",
    "print(b is not a)"
   ]
  },
  {
   "cell_type": "markdown",
   "id": "3b06194a",
   "metadata": {},
   "source": [
    "### if, elif e else"
   ]
  },
  {
   "cell_type": "code",
   "execution_count": null,
   "id": "291d4bc1",
   "metadata": {},
   "outputs": [],
   "source": [
    "if (condição):\n",
    "    comando 1\n",
    "    comando 2\n",
    "    comando...x\n",
    "    \n",
    "continuação do código"
   ]
  },
  {
   "cell_type": "code",
   "execution_count": null,
   "id": "6293b47d",
   "metadata": {},
   "outputs": [],
   "source": [
    "if (condição):\n",
    "    comando 1\n",
    "    comando...x\n",
    "\n",
    "elif(condição):\n",
    "    comando 2\n",
    "    comando...y\n",
    "\n",
    "continuação do código"
   ]
  },
  {
   "cell_type": "code",
   "execution_count": null,
   "id": "dd9816a0",
   "metadata": {},
   "outputs": [],
   "source": [
    "if (condição):\n",
    "    comando 1\n",
    "    comando...x\n",
    "\n",
    "elif(condição):\n",
    "    comando 2\n",
    "    comando...y\n",
    "else\n",
    "    comando 3 \n",
    "    comando...\n",
    "\n",
    "continuação do código"
   ]
  },
  {
   "cell_type": "code",
   "execution_count": 68,
   "id": "0e09cf40",
   "metadata": {},
   "outputs": [
    {
     "name": "stdout",
     "output_type": "stream",
     "text": [
      "você é uma criança\n"
     ]
    }
   ],
   "source": [
    "a = float(input('qual sua idade?'))\n",
    "\n",
    "if a <= 12:\n",
    "    print('você é uma criança')\n",
    "\n",
    "elif 17 >= a > 12:\n",
    "    print('você é um adolescente')\n",
    "\n",
    "else:\n",
    "    print('você é um adulto')"
   ]
  },
  {
   "cell_type": "markdown",
   "id": "cefa8105",
   "metadata": {},
   "source": [
    "# Loops (While)"
   ]
  },
  {
   "cell_type": "markdown",
   "id": "a571919c",
   "metadata": {},
   "source": [
    "Loops são estruturas de código que se executam repetidamente."
   ]
  },
  {
   "cell_type": "code",
   "execution_count": 70,
   "id": "11b7a12b",
   "metadata": {},
   "outputs": [
    {
     "name": "stdout",
     "output_type": "stream",
     "text": [
      "6\n",
      "5\n",
      "4\n",
      "3\n",
      "2\n",
      "1\n"
     ]
    }
   ],
   "source": [
    "bolinhas = 6\n",
    "while bolinhas > 0:\n",
    "    print (bolinhas)\n",
    "    bolinhas = bolinhas - 1"
   ]
  },
  {
   "cell_type": "code",
   "execution_count": null,
   "id": "78ae25cd",
   "metadata": {},
   "outputs": [],
   "source": [
    "while True:\n",
    "    print('feadev')"
   ]
  },
  {
   "cell_type": "code",
   "execution_count": 73,
   "id": "470cd646",
   "metadata": {},
   "outputs": [
    {
     "name": "stdout",
     "output_type": "stream",
     "text": [
      "obrigada pela sugestão!\n"
     ]
    }
   ],
   "source": [
    "while True:\n",
    "    resposta = input('Está gostando do curso?').lower()\n",
    "    if resposta == \"sim\":\n",
    "        print('uhu!')\n",
    "        break\n",
    "    else:\n",
    "        a = input('o que podemos melhorar?')\n",
    "        print('obrigada pela sugestão!')\n",
    "        break"
   ]
  }
 ],
 "metadata": {
  "kernelspec": {
   "display_name": "Python 3 (ipykernel)",
   "language": "python",
   "name": "python3"
  },
  "language_info": {
   "codemirror_mode": {
    "name": "ipython",
    "version": 3
   },
   "file_extension": ".py",
   "mimetype": "text/x-python",
   "name": "python",
   "nbconvert_exporter": "python",
   "pygments_lexer": "ipython3",
   "version": "3.12.3"
  }
 },
 "nbformat": 4,
 "nbformat_minor": 5
}
