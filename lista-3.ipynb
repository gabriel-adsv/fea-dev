{
 "cells": [
  {
   "cell_type": "markdown",
   "id": "X-jTZsYnE7EV",
   "metadata": {
    "id": "X-jTZsYnE7EV"
   },
   "source": [
    "![dev1.jpg](imgs/dev1.jpg)"
   ]
  },
  {
   "cell_type": "markdown",
   "id": "5cd8efb7",
   "metadata": {
    "id": "5cd8efb7"
   },
   "source": [
    "# Relembrando as principais diferenças entre listas, tuplas, conjuntos (sets) e dicionários:\n",
    "\n",
    "Imagine que você precisa organizar uma festa com diferentes tipos de convidados e objetos de formas específicas. Cada estrutura de dados (listas, tuplas, conjuntos e dicionários) representa uma forma diferença de fazer essa organização. Vejamos exemplos de forma prática:\n",
    "\n",
    "- Lista: O seu caderninho de convidados flexível.\n",
    "Ali vai ser onde você poderá adicionar, remover, ou até mesmo mudar o nome dos convidados sempre que for necessário. Você ter várias pessoas repetidas e a ordem delas importa.\n",
    "\n",
    "- Tupla: Um convite impresso.\n",
    "Imagine a tupla como um convite impresso para a festa. Uma vez que você enviou o convite não pode mais alterar o que está nele. Os detalhes estão definidos e as tuplas imutáveis.\n",
    "\n",
    "- Conjunto: Uma lista de presença única.\n",
    "Podemos dizer que o conjunto é como uma lista de quem realmente compareceu na festa, então não haverá duplicatas e a ordem também não importa.\n",
    "\n",
    "- Dicionário: A lista de convidados VIP.\n",
    "Imagine agora que você possui uma lista de convidados VIP, onde você não só saber quem são esses convidados, assim como guardar informações específicas sobre cada um deles. Nesse caso, o dicionário é como um fichário onde cada convidado tem sua própria ficha com detalhes únicos.\n",
    "\n",
    "\n",
    "Em resumo:\n",
    "- Listas: estruturas ordenadas e mutáveis.\n",
    "- Tuplas: estruturadas ordenadas e Imutáveis, são úteis para garantir consistência das informações.\n",
    "- Conjuntos: estruturas não ordenadas de elementos únicos, ou seja, não importa a ordem, mas não pode haver dados duplicados.\n",
    "- Dicionários: ideias para associar valores a chaves e fazer buscas rápidas por essas chaves. A chave é imutável.\n",
    "\n",
    "\n",
    "Dito isto, vamos praticar?"
   ]
  },
  {
   "cell_type": "markdown",
   "id": "d43a5315",
   "metadata": {
    "id": "d43a5315"
   },
   "source": [
    "## Fixando os conceitos"
   ]
  },
  {
   "cell_type": "markdown",
   "id": "db791de9",
   "metadata": {
    "id": "db791de9"
   },
   "source": [
    "## Exercício 1: Lista [] - O seu caderninho de convidados flexível"
   ]
  },
  {
   "cell_type": "code",
   "execution_count": null,
   "id": "ecac3369",
   "metadata": {
    "id": "ecac3369"
   },
   "outputs": [],
   "source": [
    "#Pense numa lista de convidados que você pode modificar:\n",
    "\n",
    "convidados = [\"Ana\", \"Carlos\", \"Bruno\", \"Ana\"]  # Note que Ana pode aparecer mais de uma vez"
   ]
  },
  {
   "cell_type": "markdown",
   "id": "bfd97fa5",
   "metadata": {
    "id": "bfd97fa5"
   },
   "source": [
    "**1) Você esqueceu de convidar o Pedro! Adicione ele a lista de convidados:**"
   ]
  },
  {
   "cell_type": "code",
   "execution_count": 1,
   "id": "45cc3467",
   "metadata": {
    "id": "45cc3467"
   },
   "outputs": [
    {
     "name": "stdout",
     "output_type": "stream",
     "text": [
      "['Ana', 'Carlos', 'Bruno', 'Ana', 'Pedro']\n"
     ]
    }
   ],
   "source": [
    "convidados = ['Ana', 'Carlos', 'Bruno', 'Ana']\n",
    "\n",
    "convidados.append('Pedro')\n",
    "\n",
    "print(convidados)"
   ]
  },
  {
   "cell_type": "markdown",
   "id": "0071fd89",
   "metadata": {
    "id": "0071fd89"
   },
   "source": [
    "**2) Bruno te ligou e disse que não irá mais na festa, remova ele da lista:**"
   ]
  },
  {
   "cell_type": "code",
   "execution_count": 2,
   "id": "1a47275b",
   "metadata": {
    "id": "1a47275b"
   },
   "outputs": [
    {
     "name": "stdout",
     "output_type": "stream",
     "text": [
      "['Ana', 'Carlos', 'Ana', 'Pedro']\n"
     ]
    }
   ],
   "source": [
    "convidados.remove('Bruno')\n",
    "\n",
    "print(convidados)"
   ]
  },
  {
   "cell_type": "markdown",
   "id": "b556c0b2",
   "metadata": {
    "id": "b556c0b2"
   },
   "source": [
    "**3) Você é uma pessoa organizada, coloque a lista em ordem alfabética:**"
   ]
  },
  {
   "cell_type": "code",
   "execution_count": 3,
   "id": "c4eaa936",
   "metadata": {
    "id": "c4eaa936"
   },
   "outputs": [
    {
     "name": "stdout",
     "output_type": "stream",
     "text": [
      "['Ana', 'Ana', 'Carlos', 'Pedro']\n"
     ]
    }
   ],
   "source": [
    "convidados.sort()\n",
    "\n",
    "print(convidados)"
   ]
  },
  {
   "cell_type": "markdown",
   "id": "a1486e5f",
   "metadata": {
    "id": "a1486e5f"
   },
   "source": [
    "**4) Você gostaria de convidar também o Fabiano e como ele é uma pessoa importante para você, coloque ele na primeira posição da lista:**"
   ]
  },
  {
   "cell_type": "code",
   "execution_count": 4,
   "id": "ceaf6b0d",
   "metadata": {
    "id": "ceaf6b0d"
   },
   "outputs": [
    {
     "name": "stdout",
     "output_type": "stream",
     "text": [
      "['Fabiano', 'Ana', 'Ana', 'Carlos', 'Pedro']\n"
     ]
    }
   ],
   "source": [
    "convidados.insert(0, 'Fabiano')\n",
    "\n",
    "print(convidados)"
   ]
  },
  {
   "cell_type": "markdown",
   "id": "a528c6e9",
   "metadata": {
    "id": "a528c6e9"
   },
   "source": [
    "**5) Você brigou com Pedro e não gostaria mais que ele fosse na festa, remova o nome dele usando pop()**"
   ]
  },
  {
   "cell_type": "code",
   "execution_count": 5,
   "id": "5d8f1983",
   "metadata": {
    "id": "5d8f1983"
   },
   "outputs": [
    {
     "name": "stdout",
     "output_type": "stream",
     "text": [
      "['Fabiano', 'Ana', 'Ana', 'Carlos']\n"
     ]
    }
   ],
   "source": [
    "convidados.pop(4)\n",
    "\n",
    "print(convidados)"
   ]
  },
  {
   "cell_type": "markdown",
   "id": "ac7ec053",
   "metadata": {
    "id": "ac7ec053"
   },
   "source": [
    "**6) Você quer verificar se convidou suas duas amigas chamadas Ana, conte a quantidade de pessoas chamadas Ana presente na lista:**"
   ]
  },
  {
   "cell_type": "code",
   "execution_count": 6,
   "id": "bdc19eb3",
   "metadata": {
    "id": "bdc19eb3"
   },
   "outputs": [
    {
     "name": "stdout",
     "output_type": "stream",
     "text": [
      "2\n"
     ]
    }
   ],
   "source": [
    "print(convidados.count(\"Ana\"))"
   ]
  },
  {
   "cell_type": "markdown",
   "id": "69ad6c95",
   "metadata": {
    "id": "69ad6c95"
   },
   "source": [
    "**7) Por fim, verifique a quantidade final de pessoas presente na lista:**"
   ]
  },
  {
   "cell_type": "code",
   "execution_count": 8,
   "id": "9d6781ca",
   "metadata": {
    "id": "9d6781ca"
   },
   "outputs": [
    {
     "name": "stdout",
     "output_type": "stream",
     "text": [
      "4\n"
     ]
    }
   ],
   "source": [
    "print(len(convidados))"
   ]
  },
  {
   "cell_type": "markdown",
   "id": "1d56d3ce",
   "metadata": {
    "id": "1d56d3ce"
   },
   "source": [
    "Então, as listas são dinâmicas e flexíveis, ideais para coisas que mudam com o tempo"
   ]
  },
  {
   "cell_type": "markdown",
   "id": "572e1c99",
   "metadata": {
    "id": "572e1c99"
   },
   "source": [
    "## Exercício 2: Tupla () - Um convite impresso"
   ]
  },
  {
   "cell_type": "code",
   "execution_count": null,
   "id": "b5819ebd",
   "metadata": {
    "id": "b5819ebd"
   },
   "outputs": [],
   "source": [
    "#Assim como um convite impresso, o que foi definido em uma tupla não pode mudado.\n",
    "\n",
    "#Imagine que você definiu os detalhes principais da festa em uma tupla, pois eles não vão mudar:\n",
    "\n",
    "detalhes_festa = (\"Festa na piscina\", \"18h\", \"Churrasco\")"
   ]
  },
  {
   "cell_type": "markdown",
   "id": "e333c11f",
   "metadata": {
    "id": "e333c11f"
   },
   "source": [
    "**1) Verifique se não esqueceu de adicionar o horário da festa no convite:**"
   ]
  },
  {
   "cell_type": "code",
   "execution_count": 10,
   "id": "52d82181",
   "metadata": {
    "id": "52d82181"
   },
   "outputs": [
    {
     "name": "stdout",
     "output_type": "stream",
     "text": [
      "True\n"
     ]
    }
   ],
   "source": [
    "detalhes_festa = ('Festa na piscina', '18h', 'Churrasco')\n",
    "\n",
    "print('18h' in detalhes_festa)"
   ]
  },
  {
   "cell_type": "markdown",
   "id": "658fd5e8",
   "metadata": {
    "id": "658fd5e8"
   },
   "source": [
    "**2) Poxa! Você acabou de perceber que talvez não tenha adicionado o lembrete \"trazer refrigerante\" no convite, verifique:**"
   ]
  },
  {
   "cell_type": "code",
   "execution_count": 11,
   "id": "fa656c9f",
   "metadata": {
    "id": "fa656c9f"
   },
   "outputs": [
    {
     "name": "stdout",
     "output_type": "stream",
     "text": [
      "True\n"
     ]
    }
   ],
   "source": [
    "detalhes_festa = ('Festa na piscina', '18h', 'Churrasco')\n",
    "\n",
    "print('trazer refrigerante' not in detalhes_festa)"
   ]
  },
  {
   "cell_type": "markdown",
   "id": "b36730c3",
   "metadata": {
    "id": "b36730c3"
   },
   "source": [
    "**3) Tente mudar o horário da festa das 18h para 20h**:\n",
    "\n",
    "Percebeu que deu erro?"
   ]
  },
  {
   "cell_type": "code",
   "execution_count": 13,
   "id": "707704a8",
   "metadata": {
    "id": "707704a8"
   },
   "outputs": [
    {
     "ename": "AttributeError",
     "evalue": "'tuple' object has no attribute 'remove'",
     "output_type": "error",
     "traceback": [
      "\u001b[1;31m---------------------------------------------------------------------------\u001b[0m",
      "\u001b[1;31mAttributeError\u001b[0m                            Traceback (most recent call last)",
      "Cell \u001b[1;32mIn[13], line 4\u001b[0m\n\u001b[0;32m      1\u001b[0m \u001b[38;5;66;03m# Isso dá erro!\u001b[39;00m\n\u001b[0;32m      2\u001b[0m detalhes_festa \u001b[38;5;241m=\u001b[39m (\u001b[38;5;124m'\u001b[39m\u001b[38;5;124mFesta na piscina\u001b[39m\u001b[38;5;124m'\u001b[39m, \u001b[38;5;124m'\u001b[39m\u001b[38;5;124m18h\u001b[39m\u001b[38;5;124m'\u001b[39m, \u001b[38;5;124m'\u001b[39m\u001b[38;5;124mChurrasco\u001b[39m\u001b[38;5;124m'\u001b[39m)\n\u001b[1;32m----> 4\u001b[0m \u001b[43mdetalhes_festa\u001b[49m\u001b[38;5;241;43m.\u001b[39;49m\u001b[43mremove\u001b[49m(\u001b[38;5;124m'\u001b[39m\u001b[38;5;124m18h\u001b[39m\u001b[38;5;124m'\u001b[39m)\n\u001b[0;32m      6\u001b[0m \u001b[38;5;28mprint\u001b[39m(detalhes_festa)\n",
      "\u001b[1;31mAttributeError\u001b[0m: 'tuple' object has no attribute 'remove'"
     ]
    }
   ],
   "source": [
    "# Isso dá erro!\n",
    "detalhes_festa = ('Festa na piscina', '18h', 'Churrasco')\n",
    "\n",
    "detalhes_festa.remove('18h')\n",
    "\n",
    "print(detalhes_festa)"
   ]
  },
  {
   "cell_type": "markdown",
   "id": "57308e52",
   "metadata": {
    "id": "57308e52"
   },
   "source": [
    "Portanto, tuplas são úteis para armazenar coisas que não vão se alterar."
   ]
  },
  {
   "cell_type": "markdown",
   "id": "1cec2e77",
   "metadata": {
    "id": "1cec2e77"
   },
   "source": [
    "## Exercício 3: Conjunto (sets) {} - Uma lista de presença única."
   ]
  },
  {
   "cell_type": "code",
   "execution_count": null,
   "id": "876f56e2",
   "metadata": {
    "id": "876f56e2"
   },
   "outputs": [],
   "source": [
    "presentes = {\"Ana\", \"Carlos\", \"Pedro\", \"Lucas\", \"Ana\"}  # Ana aparece só uma vez\n",
    "\n",
    "# E não importa se Carlos chegou antes de Pedro. A ordem não importa no conjunto."
   ]
  },
  {
   "cell_type": "markdown",
   "id": "d5ab3813",
   "metadata": {
    "id": "d5ab3813"
   },
   "source": [
    "**1) De print no conjunto de convidados.**\n",
    "\n",
    "Note que ainda que tenhamos adicionado Ana duas vezes, ela só irá aparecer uma vez no conjunto"
   ]
  },
  {
   "cell_type": "code",
   "execution_count": 31,
   "id": "d1effe0c",
   "metadata": {
    "id": "d1effe0c"
   },
   "outputs": [
    {
     "name": "stdout",
     "output_type": "stream",
     "text": [
      "{'Bruno', 'Ana', 'Carlos', 'Luana', 'Miguel', 'Pedro'}\n"
     ]
    }
   ],
   "source": [
    "print(presentes)"
   ]
  },
  {
   "cell_type": "markdown",
   "id": "dd421754",
   "metadata": {
    "id": "dd421754"
   },
   "source": [
    "**2) Verifique se Carlos está presente no conjunto**:"
   ]
  },
  {
   "cell_type": "code",
   "execution_count": 32,
   "id": "013b141d",
   "metadata": {
    "id": "013b141d"
   },
   "outputs": [
    {
     "data": {
      "text/plain": [
       "True"
      ]
     },
     "execution_count": 32,
     "metadata": {},
     "output_type": "execute_result"
    }
   ],
   "source": [
    "'Carlos' in presentes"
   ]
  },
  {
   "cell_type": "markdown",
   "id": "cec833e8",
   "metadata": {
    "id": "cec833e8"
   },
   "source": [
    "**3) Agora, verifique se Beatriz está presente no conjunto:**"
   ]
  },
  {
   "cell_type": "code",
   "execution_count": 33,
   "id": "094712c2",
   "metadata": {
    "id": "094712c2"
   },
   "outputs": [
    {
     "data": {
      "text/plain": [
       "False"
      ]
     },
     "execution_count": 33,
     "metadata": {},
     "output_type": "execute_result"
    }
   ],
   "source": [
    "'Beatriz' in presentes"
   ]
  },
  {
   "cell_type": "markdown",
   "id": "5b84265a",
   "metadata": {
    "id": "5b84265a"
   },
   "source": [
    "**3) Um amigo inesperado acabou de chegar. Adicione Bruno a lista de presença**"
   ]
  },
  {
   "cell_type": "code",
   "execution_count": 34,
   "id": "e82589ab",
   "metadata": {
    "id": "e82589ab"
   },
   "outputs": [
    {
     "name": "stdout",
     "output_type": "stream",
     "text": [
      "{'Bruno', 'Ana', 'Carlos', 'Luana', 'Miguel', 'Pedro'}\n"
     ]
    }
   ],
   "source": [
    "presentes.add('Bruno')\n",
    "\n",
    "print(presentes)"
   ]
  },
  {
   "cell_type": "markdown",
   "id": "05fdecaf",
   "metadata": {
    "id": "05fdecaf"
   },
   "source": [
    "**4) Remova Lucas do conjunto, no final ele não foi para festa!**"
   ]
  },
  {
   "cell_type": "code",
   "execution_count": null,
   "id": "3e3c94f0",
   "metadata": {
    "id": "3e3c94f0"
   },
   "outputs": [],
   "source": [
    "presentes.remove('Lucas')\n",
    "\n",
    "print(presentes)"
   ]
  },
  {
   "cell_type": "markdown",
   "id": "af8f547c",
   "metadata": {
    "id": "af8f547c"
   },
   "source": [
    "## Exercício 4: Dicionário - A lista de convidados VIP."
   ]
  },
  {
   "cell_type": "code",
   "execution_count": 41,
   "id": "f4cd893a",
   "metadata": {
    "id": "f4cd893a"
   },
   "outputs": [
    {
     "data": {
      "text/plain": [
       "'Cerveja'"
      ]
     },
     "execution_count": 41,
     "metadata": {},
     "output_type": "execute_result"
    }
   ],
   "source": [
    "#Vamos supor que você guarde o nome de cada convidado e o que irá levar para festa:\n",
    "\n",
    "convidados_vip = {\n",
    "    \"Ana\": \"Salada de frutas\",\n",
    "    \"Carlos\": \"Cerveja\",\n",
    "    \"Bruno\": \"Churrasco\",\n",
    "    \"Você\" : {\"Copos\" : 10, \"Arroz\" : \"1kg\"}\n",
    "}\n",
    "\n",
    "convidados_vip['Carlos']\n",
    "\n",
    "# Aqui, cada nome é uma \"chave\" (key), e o que eles vão levar é o \"valor\" (value)."
   ]
  },
  {
   "cell_type": "markdown",
   "id": "35191a19",
   "metadata": {
    "id": "35191a19"
   },
   "source": [
    "**1) Consulte o Dicionário para verificar o que Carlos irá levar:**"
   ]
  },
  {
   "cell_type": "code",
   "execution_count": 42,
   "id": "345011cc",
   "metadata": {
    "id": "345011cc"
   },
   "outputs": [
    {
     "data": {
      "text/plain": [
       "'Cerveja'"
      ]
     },
     "execution_count": 42,
     "metadata": {},
     "output_type": "execute_result"
    }
   ],
   "source": [
    "convidados_vip = {\n",
    "  'Ana': 'Salada de frutas',\n",
    "  'Carlos': 'Cerveja',\n",
    "  'Bruno': 'Churrasco',\n",
    "  'Você' : {'Copos' : 10, 'Arroz' : '1kg'}\n",
    "}\n",
    "\n",
    "convidados_vip['Carlos']"
   ]
  },
  {
   "cell_type": "markdown",
   "id": "540b5626",
   "metadata": {
    "id": "540b5626"
   },
   "source": [
    "**2) Agora, Ana decidiu que não levará mais salada de frutas, mas sim torta holandesa. Altere a ficha de Ana:**"
   ]
  },
  {
   "cell_type": "code",
   "execution_count": 43,
   "id": "9afb2e67",
   "metadata": {
    "id": "9afb2e67"
   },
   "outputs": [
    {
     "name": "stdout",
     "output_type": "stream",
     "text": [
      "{'Ana': 'Torta holandesa', 'Carlos': 'Cerveja', 'Bruno': 'Churrasco', 'Você': {'Copos': 10, 'Arroz': '1kg'}}\n"
     ]
    }
   ],
   "source": [
    "convidados_vip['Ana'] = 'Torta holandesa'\n",
    "\n",
    "print(convidados_vip)"
   ]
  },
  {
   "cell_type": "markdown",
   "id": "e43dd156",
   "metadata": {
    "id": "e43dd156"
   },
   "source": [
    "**3) Maria decidiu de última hora que iria na festa e decidiu levar refrigerante. Adicione Maria ao dicionário:**"
   ]
  },
  {
   "cell_type": "code",
   "execution_count": 45,
   "id": "baf06763",
   "metadata": {
    "id": "baf06763"
   },
   "outputs": [
    {
     "name": "stdout",
     "output_type": "stream",
     "text": [
      "{'Ana': 'Torta holandesa', 'Carlos': 'Cerveja', 'Bruno': 'Churrasco', 'Você': {'Copos': 10, 'Arroz': '1kg'}, 'Maria': 'Refrigerante'}\n"
     ]
    }
   ],
   "source": [
    "convidados_vip['Maria'] = 'Refrigerante'\n",
    "\n",
    "print(convidados_vip)"
   ]
  },
  {
   "cell_type": "markdown",
   "id": "99e5f118",
   "metadata": {
    "id": "99e5f118"
   },
   "source": [
    "**4) Você foi ao mercado para comprar os Copos, mas não se lembra da quantidade. Crie um código para verificar isso:**"
   ]
  },
  {
   "cell_type": "code",
   "execution_count": 47,
   "id": "096777db",
   "metadata": {
    "id": "096777db"
   },
   "outputs": [
    {
     "data": {
      "text/plain": [
       "10"
      ]
     },
     "execution_count": 47,
     "metadata": {},
     "output_type": "execute_result"
    }
   ],
   "source": [
    "convidados_vip['Você']['Copos']"
   ]
  },
  {
   "cell_type": "markdown",
   "id": "3c828a53",
   "metadata": {
    "id": "3c828a53"
   },
   "source": [
    "**5) Fabiano decidiu que irá ao churrasco e irá levar 1kg de salada de maionese e 6 Cadeiras. Adicione a ficha de Fabiano:**"
   ]
  },
  {
   "cell_type": "code",
   "execution_count": 48,
   "id": "e9427a18",
   "metadata": {
    "id": "e9427a18"
   },
   "outputs": [],
   "source": [
    "convidados_vip['Fabiano'] = {'Salada de maionese': '1k', 'Cadeiras': 6}"
   ]
  },
  {
   "cell_type": "markdown",
   "id": "2baf3080",
   "metadata": {
    "id": "2baf3080"
   },
   "source": [
    "Agora, seu fichário de VIPs tem tudo organizadinho: cada pessoa tem uma função ou responsabilidade específica."
   ]
  },
  {
   "cell_type": "markdown",
   "id": "25c7020a",
   "metadata": {
    "id": "25c7020a"
   },
   "source": [
    "# Relembrando o que é Loops\n",
    "\n",
    "## For\n",
    "\n",
    "O \"For\" como um ajudante que segue uma lista de tarefas\n",
    "O loop \"for\" é como um ajudante de cozinha que recebe uma lista de tarefas e vai repetindo a mesma ação para cada item na lista, sem questionar. Você só dá as instruções uma vez e ele vai executando em sequência para cada item.\n",
    "\n",
    "\n",
    "Que tal praticar?"
   ]
  },
  {
   "cell_type": "markdown",
   "id": "e251b994",
   "metadata": {
    "id": "e251b994"
   },
   "source": [
    "**1) Escreva um código usando o for para contar de 1 a 10 e imprimir cada número na tela. Esse é o mais básico para entender como o for percorre uma sequência.**\n",
    "\n",
    "Dica: Use range(1, 11) para contar de 1 até 10."
   ]
  },
  {
   "cell_type": "code",
   "execution_count": 50,
   "id": "bd3fae71",
   "metadata": {
    "id": "bd3fae71"
   },
   "outputs": [
    {
     "name": "stdout",
     "output_type": "stream",
     "text": [
      "1\n",
      "2\n",
      "3\n",
      "4\n",
      "5\n",
      "6\n",
      "7\n",
      "8\n",
      "9\n",
      "10\n"
     ]
    }
   ],
   "source": [
    "for i in range(1,11):\n",
    "  print(i)"
   ]
  },
  {
   "cell_type": "markdown",
   "id": "494c7b54",
   "metadata": {
    "id": "494c7b54"
   },
   "source": [
    "**2) Dada a lista de pessoas abaixo. Peça para o seu ajudante escrever o nome de cada pessoa presente na lista utilizando 'for':**"
   ]
  },
  {
   "cell_type": "code",
   "execution_count": 54,
   "id": "13694633",
   "metadata": {
    "id": "13694633"
   },
   "outputs": [
    {
     "name": "stdout",
     "output_type": "stream",
     "text": [
      "Ana\n",
      "Carlos\n",
      "Bruno\n",
      "Maria\n"
     ]
    }
   ],
   "source": [
    "# Dada a lista de pessoas:\n",
    "\n",
    "convidados = [\"Ana\", \"Carlos\", \"Bruno\", \"Maria\"]\n",
    "\n",
    "for ajudante in convidados:\n",
    "  print(ajudante)"
   ]
  },
  {
   "cell_type": "markdown",
   "id": "d69aed16",
   "metadata": {
    "id": "d69aed16"
   },
   "source": [
    "## While\n",
    "\n",
    "\"While\" como o enchedor de balões incansável.\n",
    "\n",
    "Pense no while como você enchendo balões: você não sabe exatamente quantas vezes vai soprar cada balão, mas sabe que vai continuar enchendo até que ele atinja o tamanho perfeito.\n",
    "\n",
    "Bora praticar?"
   ]
  },
  {
   "cell_type": "markdown",
   "id": "211b72ba",
   "metadata": {
    "id": "211b72ba"
   },
   "source": [
    "**1) Dado o exemplo acima, imagine que você deseja encher um balão saindo do 'tamanho = 0' até que ele fique do 'tamanho = 10'. Utilize o 'While' para realizar essa tarefa.**"
   ]
  },
  {
   "cell_type": "code",
   "execution_count": 56,
   "id": "192e2126",
   "metadata": {
    "id": "192e2126"
   },
   "outputs": [
    {
     "name": "stdout",
     "output_type": "stream",
     "text": [
      "1\n",
      "2\n",
      "3\n",
      "4\n",
      "5\n",
      "6\n",
      "7\n",
      "8\n",
      "9\n",
      "10\n"
     ]
    }
   ],
   "source": [
    "tamanho_balao = 0\n",
    "\n",
    "while tamanho_balao < 10:\n",
    "  tamanho_balao += 1\n",
    "  print(tamanho_balao)"
   ]
  },
  {
   "cell_type": "markdown",
   "id": "3afd49de",
   "metadata": {
    "id": "3afd49de"
   },
   "source": [
    "**2) Siga o passo a passo e peça para um amigo adivinhar o número secreto:**\n",
    "\n",
    "- Defina um número secreto (por exemplo, 7).\n",
    "- Use um loop while para perguntar ao seu amigo qual número ele acha que é.\n",
    "- Se ele acertar, imprima \"Parabéns! Você acertou!\" e termine o loop.\n",
    "- Se ele errar, peça que tente novamente."
   ]
  },
  {
   "cell_type": "code",
   "execution_count": 62,
   "id": "2e2b18d3",
   "metadata": {
    "id": "2e2b18d3"
   },
   "outputs": [
    {
     "name": "stdout",
     "output_type": "stream",
     "text": [
      "Você errou! Tente novamente!\n",
      "O número que você digitou é menor!\n",
      "Você errou! Tente novamente!\n",
      "O número que você digitou é maior!\n",
      "Parabéns, você acertou! O número é 7\n"
     ]
    }
   ],
   "source": [
    "numero_secreto = 7\n",
    "\n",
    "numero = int(input('Adivinhe um número entre 1 e 10: '))\n",
    "\n",
    "while numero != numero_secreto:\n",
    "  print('Você errou! Tente novamente!')\n",
    "\n",
    "  if numero > numero_secreto:\n",
    "    print('O número que você digitou é maior!')\n",
    "  else:\n",
    "    print('O número que você digitou é menor!')\n",
    "\n",
    "  numero = int(input('Qual número você acha que é?'))\n",
    "\n",
    "\n",
    "\n",
    "print('Parabéns, você acertou! O número é {}'.format(numero))\n"
   ]
  }
 ],
 "metadata": {
  "colab": {
   "provenance": []
  },
  "kernelspec": {
   "display_name": "Python 3",
   "language": "python",
   "name": "python3"
  },
  "language_info": {
   "codemirror_mode": {
    "name": "ipython",
    "version": 3
   },
   "file_extension": ".py",
   "mimetype": "text/x-python",
   "name": "python",
   "nbconvert_exporter": "python",
   "pygments_lexer": "ipython3",
   "version": "3.13.0"
  }
 },
 "nbformat": 4,
 "nbformat_minor": 5
}
