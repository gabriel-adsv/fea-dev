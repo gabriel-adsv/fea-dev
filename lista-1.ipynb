{
 "cells": [
  {
   "cell_type": "markdown",
   "id": "b43b13ea",
   "metadata": {},
   "source": [
    "# 🚀 Vamos para a primeira lista de exercícios?\n",
    "\n",
    "Olá, devs! 🐍\n",
    "\n",
    "A primeira lista de exercícios do curso está no ar! É a sua chance de praticar **variáveis, operadores, tipos de dados e inputs** e fixar o conteúdo inicial. Nada complicado, mas essencial para o que vem pela frente! 💻\n",
    "\n",
    "\n",
    "## O que você vai fazer:\n",
    "- Manipular **variáveis**\n",
    "- Utilizar **operadores** em expressões\n",
    "- Trabalhar com **tipos de dados** em Python\n",
    "- Coletar dados com **inputs** do usuário\n",
    "\n",
    "**Dúvidas? Só mandar no <a href=\"https://forms.gle/Xp77MAWqRv7xjgA56\">formulário de dúvidas</a> que está rodando no canal do WhatsApp! Bora codar! 🚀**\n",
    "<br>\n",
    "\n",
    "**Enviar Lista por <a href=\"https://forms.gle/7wrj3ZLBAVBMpaZp6\">aqui</a>**\n",
    "\n",
    "Abraços,  \n",
    "**Equipe FEA.dev**\n",
    "\n",
    "<br>\n",
    "\n",
    "```python \n",
    "Palavras-chaves: input, f'', variaveis, str, string.upper(), float"
   ]
  },
  {
   "cell_type": "code",
   "execution_count": null,
   "id": "51dd8324",
   "metadata": {},
   "outputs": [],
   "source": []
  },
  {
   "cell_type": "markdown",
   "id": "fabe3da0",
   "metadata": {},
   "source": [
    "## Exercício 1: Planejamento de Viagem (Conversão de Moedas)"
   ]
  },
  {
   "cell_type": "markdown",
   "id": "a9c0e041",
   "metadata": {},
   "source": [
    "\n",
    "Você está planejando uma viagem internacional e precisa converter seu dinheiro para outra moeda.\n",
    "\n",
    "1. **Crie um programa que converta reais (R$) para dólares (USD)**. O programa deve pedir ao usuário a quantidade em reais e usar uma taxa de câmbio fornecida para calcular o valor correspondente em dólares.\n",
    "   - **Exemplo**: Se a taxa de câmbio for 1 USD = 5,30 BRL e você tiver R$ 1.000, qual será o valor em dólares?\n",
    "\n",
    "2. **Modifique o programa** para que o usuário converta reais para euros também (use 1 EUR = 5,80 BRL).\n"
   ]
  },
  {
   "cell_type": "code",
   "execution_count": null,
   "id": "431e4f6f",
   "metadata": {},
   "outputs": [
    {
     "name": "stdout",
     "output_type": "stream",
     "text": [
      "Com R$500.00 você pode comprar: \n",
      "USD $100.00 \n",
      "EUR €100.00\n"
     ]
    }
   ],
   "source": [
    "real = float(input('Digite o valor em reais: R$'))\n",
    "\n",
    "dolar = float(input('Digite o valor atual do dólar: US$'))\n",
    "\n",
    "euro = float(input('Digite o valor atual do euro: €'))\n",
    "\n",
    "conversao_dolar = real / dolar\n",
    "conversao_euro = real / euro\n",
    "\n",
    "print('Com R${:.2f} você pode comprar: \\nUSD ${:.2f} \\nEUR €{:.2f}'.format(real, conversao_dolar, conversao_euro))"
   ]
  },
  {
   "cell_type": "markdown",
   "id": "0b91f96b",
   "metadata": {},
   "source": [
    "## Exercício 2: Cálculo do Consumo de Combustível"
   ]
  },
  {
   "cell_type": "markdown",
   "id": "3bc78eb2",
   "metadata": {},
   "source": [
    "\n",
    "Você está indo em uma viagem de carro e deseja saber quanto combustível gastará.\n",
    "\n",
    "1. **Escreva um programa que calcule o consumo de combustível baseado na distância a ser percorrida e no consumo médio do carro (km por litro)**. O programa deve perguntar ao usuário a distância em quilômetros e o consumo médio do carro.\n",
    "   - **Exemplo**: Se a distância é de 300 km e o carro faz 12 km/L, quantos litros de combustível serão necessários?\n",
    "\n",
    "2. **Adicione um cálculo de custo**, onde o programa pergunta também o preço do litro de combustível e exibe o custo total da viagem.\n"
   ]
  },
  {
   "cell_type": "code",
   "execution_count": 24,
   "id": "d0f7ef3d",
   "metadata": {},
   "outputs": [
    {
     "name": "stdout",
     "output_type": "stream",
     "text": [
      "Serão necessários 20.0 litros. \n",
      "E o custo custo total da sua viagem será de R$120.00.\n"
     ]
    }
   ],
   "source": [
    "km = float(input('Quantos Km você irá percorrer? '))\n",
    "litro = float(input('Quanto km seu carro faz por litro? '))\n",
    "gasolina = float(input('Quanto o valor da gasolina? '))\n",
    "\n",
    "litros_gastos = km / litro\n",
    "consumo = litros_gastos * gasolina\n",
    "\n",
    "print('Serão necessários {} litros. \\nE o custo custo total da sua viagem será de R${:.2f}.'.format(litros_gastos, consumo))"
   ]
  },
  {
   "cell_type": "markdown",
   "id": "9dc54907",
   "metadata": {},
   "source": [
    "## Exercício 3: Gerador de Senhas Personalizadas (Manipulação de Strings)"
   ]
  },
  {
   "cell_type": "markdown",
   "id": "4f51c322",
   "metadata": {},
   "source": [
    "\n",
    "Você está criando um sistema que gera senhas personalizadas para os usuários com base em suas informações pessoais. As senhas precisam ser únicas e seguras, mas também fáceis de lembrar.\n",
    "\n",
    "1. **Crie um programa que peça ao usuário seu nome e uma data**. O programa deve gerar uma senha usando a seguinte lógica:\n",
    "   - As 3 primeiras letras do nome.\n",
    "   - Os dois primeiros dígitos do ano.\n",
    "   - O número de caracteres do nome completo (incluindo espaços).\n",
    "\n",
    "   **Exemplo**: Para um usuário chamado \"Ana Beatriz Costa\" e \"15/08/1990\", a senha seria: `Ana19 18`.\n",
    "\n",
    "2. **Modifique o programa para transformar as letras da senha gerada em letras maiúsculas e adicionar um caractere especial \"!\" no final da senha**.\n",
    "\n",
    "   **Exemplo modificado**: A senha final seria: `ANA19 18!`.\n"
   ]
  },
  {
   "cell_type": "code",
   "execution_count": 25,
   "id": "d2868f56",
   "metadata": {},
   "outputs": [
    {
     "name": "stdout",
     "output_type": "stream",
     "text": [
      "A senha gerada foi: ANA19 18!\n"
     ]
    }
   ],
   "source": [
    "nome = str(input('Digite seu nome completo: ')).strip().upper()\n",
    "ano = str(input('Digite o seu ano de nascimento: '))\n",
    "gerador = nome[:3] + ano[:2] + ' ' + str(len(nome)) + '!'\n",
    "\n",
    "print('A senha gerada foi: {}'.format(gerador))\n"
   ]
  },
  {
   "cell_type": "markdown",
   "id": "c7346ac7",
   "metadata": {},
   "source": [
    "## Exercício 4: Cálculo de Juros Simples (Aplicação Financeira)"
   ]
  },
  {
   "cell_type": "markdown",
   "id": "a9c30d8b",
   "metadata": {},
   "source": [
    "\n",
    "Você está pensando em investir uma quantia em um banco e quer saber quanto receberá ao final de um período.\n",
    "\n",
    "1. **Escreva um programa que calcule o valor final de uma aplicação de juros simples**, com base no capital inicial, taxa de juros e tempo de investimento. A fórmula é \\( M = C \times (1 + i \times t) \\), onde:\n",
    "   - \\( M \\) é o montante final,\n",
    "   - \\( C \\) é o capital inicial,\n",
    "   - \\( i \\) é a taxa de juros anual,\n",
    "   - \\( t \\) é o tempo (em anos).\n",
    "   - **Exemplo**: Um investimento de R$ 1.000 a uma taxa de 5% ao ano por 3 anos.\n",
    "\n",
    "2. **Permita que o usuário escolha o período de tempo (em meses ou anos)** e faça a conversão correta no cálculo.\n"
   ]
  },
  {
   "cell_type": "code",
   "execution_count": null,
   "id": "c1f7f205",
   "metadata": {},
   "outputs": [
    {
     "name": "stdout",
     "output_type": "stream",
     "text": [
      "\n",
      "O valor do montante final será: R$1157.63\n"
     ]
    }
   ],
   "source": [
    "capital_inicial = float(input('Digite o valor do capital inicial? '))\n",
    "tipo_de_taxa = input('Digite \"A\" para taxa anual ou \"M\" para taxa mensal: ').upper()\n",
    "juros = float(input('Qual a porcentagem da taxa de juros?'))\n",
    "tempo_investido = float(input('Por quanto tempo você deseja investir? '))\n",
    "\n",
    "porcentagem_juros = juros / 100\n",
    "\n",
    "if(tipo_de_taxa == 'A'):\n",
    "  porcentagem_juros = porcentagem_juros\n",
    "else:\n",
    "  porcentagem_juros = (1 + porcentagem_juros) ** (1 / 12) - 1\n",
    "\n",
    "montante_final = capital_inicial * (1 + porcentagem_juros) ** (tempo_investido)\n",
    "\n",
    "print('\\nO valor do montante final será: R${:.2f}'.format(montante_final))"
   ]
  },
  {
   "cell_type": "markdown",
   "id": "81221080",
   "metadata": {},
   "source": [
    "# Desafio: Verificação de ID Válido"
   ]
  },
  {
   "cell_type": "markdown",
   "id": "114e03d5",
   "metadata": {},
   "source": [
    "\n",
    "Você está trabalhando com um sistema de verificação de identidade, e precisa validar se um número de identificação segue uma regra específica.\n",
    "\n",
    "1. **Crie um programa que valide se um número de CPF é válido**, baseado no formato \"XXX.XXX.XXX-XX\". O programa deve verificar se a entrada tem o número correto de dígitos e o formato correto (não é necessário validar os dígitos verificadores).\n",
    "   - **Exemplo**: O programa deve aceitar \"123.456.789-00\" e rejeitar \"12345678900\".\n",
    "\n",
    "2. **Adicione uma funcionalidade** onde o programa também valida um CNPJ no formato \"XX.XXX.XXX/0001-XX\".\n"
   ]
  },
  {
   "cell_type": "code",
   "execution_count": 10,
   "id": "18c5c878",
   "metadata": {},
   "outputs": [
    {
     "name": "stdout",
     "output_type": "stream",
     "text": [
      "Este documento não serve para verificação.\n"
     ]
    }
   ],
   "source": [
    "tipo_documento = str(input('Deseja digitar um CPF ou CNPJ? ')).upper().strip()\n",
    "\n",
    "if(tipo_documento == 'CPF'):\n",
    "  cpf = str(input('Digite o CPF que deseja verificar a validade: ')).strip()\n",
    "\n",
    "  comprimento_cpf = len(cpf) == 14\n",
    "\n",
    "  pontuacao_cpf = cpf[3] == '.' and cpf[7] == '.' and cpf[11] == '-'\n",
    "\n",
    "  if(comprimento_cpf and pontuacao_cpf):\n",
    "    print('CPF válido!')\n",
    "  else:\n",
    "    print('CPF inválido!')\n",
    "\n",
    "elif(tipo_documento == 'CNPJ'):\n",
    "  cnpj = str(input('Digite o CNPJ que deseja verificar a validade: ')).upper().strip()\n",
    "  \n",
    "  comprimento_cnpj = len(cnpj) == 18\n",
    "\n",
    "  pontuacao_cnpj = cnpj[2] == '.' and cnpj[6] == '.' and cnpj[10:15] == '/0001' and cnpj[15] == '-'\n",
    "  \n",
    "  if(comprimento_cnpj and pontuacao_cnpj):\n",
    "    print('CNPJ válido!')\n",
    "  else:\n",
    "    print('CNPJ inválido!')\n",
    "\n",
    "else:\n",
    "  print('Este documento não serve para verificação.')\n"
   ]
  }
 ],
 "metadata": {
  "kernelspec": {
   "display_name": "Python 3",
   "language": "python",
   "name": "python3"
  },
  "language_info": {
   "codemirror_mode": {
    "name": "ipython",
    "version": 3
   },
   "file_extension": ".py",
   "mimetype": "text/x-python",
   "name": "python",
   "nbconvert_exporter": "python",
   "pygments_lexer": "ipython3",
   "version": "3.13.0"
  }
 },
 "nbformat": 4,
 "nbformat_minor": 5
}
