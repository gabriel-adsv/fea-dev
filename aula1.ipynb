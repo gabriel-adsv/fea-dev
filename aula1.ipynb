{
 "cells": [
  {
   "cell_type": "markdown",
   "id": "bc692ed4",
   "metadata": {},
   "source": [
    "# Meu primeiro programa em Python\n",
    "\n",
    ">**Aula 1** \n",
    "\n",
    "> - Tipos de dados fundamentais\n",
    "> - Operações numéricas\n",
    "> - Operações com \"string\"\n",
    "> - Inputs e Outputs"
   ]
  },
  {
   "cell_type": "markdown",
   "id": "a9cabb02",
   "metadata": {},
   "source": [
    "### Tipos de dados\n",
    "\n",
    "- **int (integer)**\n",
    "   - são os números inteiros (1, 2, 3 , 4 , 5...., 23, etc) \n",
    "   \n",
    "    \n",
    "- **float** \n",
    "    - são números de \"ponto flutuante\", contínuos, os números racionais (3.14, raiz de 2, 115/9, 1.0000091, 44.2386, etc)\n",
    "    - o Python entende números não inteiros apenas separados por ponto (.) e não por vírgula (,)\n",
    "    \n",
    "    \n",
    "- **str (strings)**\n",
    "    - são textos, palavras (Julia, Fea.dev, USP, Corinthians, amor, programação, etc)\n",
    "    - no Python utilizamos aspas 'simples' ou \"duplas\" para trabalhar com as strings (textos) em nossos programas\n",
    "    \n",
    "    \n",
    "- **bool (booleanos)**\n",
    "    - retornam verdadeiro ou falso (True, False)\n",
    "    - servem para checar condições (se verdadeiras ou falsas) em nossos códigos de programação"
   ]
  },
  {
   "cell_type": "markdown",
   "id": "2ba59140",
   "metadata": {},
   "source": [
    "### Operações básicas\n",
    "\n",
    "- Adição: (+)\n",
    "\n",
    "- Subtração: (-)\n",
    "\n",
    "- Multiplicação: (*)\n",
    "\n",
    "- Divisão: (/)\n",
    "\n",
    "- Exponenciação: ( ** )\n",
    "\n",
    "- Divisão inteira: (//), retorna a parte inteira da divisão\n",
    "\n",
    "- Módulo: (%), retorna o resto da divisão"
   ]
  },
  {
   "cell_type": "markdown",
   "id": "77127f97",
   "metadata": {},
   "source": [
    "### Operadores comparativos\n",
    "\n",
    "- Igual a: (==)\n",
    "    - (=) é símbolo para **atribuição**. Não confundir com (==)\n",
    "\n",
    "- Maior que: (>)\n",
    "\n",
    "- Menor que: (<)\n",
    "\n",
    "- Maior ou igual: (>=)\n",
    "\n",
    "- Menor ou igual: (<=)\n",
    "\n",
    "- Diferente de: (!=)"
   ]
  },
  {
   "cell_type": "markdown",
   "id": "098bbe05",
   "metadata": {},
   "source": [
    "## Métodos de strings\n",
    "\n",
    "- **len(exemplo):** Retorna o comprimento da string 'exemplo'\n",
    "- **exemplo.split(delimiter):** Divide a string 'exemplo' em uma lista de substrings com base em um delimitador\n",
    "- **exemplo.upper():** Retorna a string 'exemplo' toda em letras maiúsculas\n",
    "- **exemplo.lower():** Retorna a string 'exemplo' toda em letras minúsculas\n",
    "- **exemplo.strip():** Retorna a string 'exemplo' retirando possíveis espaços em branco no início e no fim da string\n",
    "- **exemplo.startswith('xyz'):** Testa se a string 'exemplo' começa com a string 'xyz'\n",
    "- **exemplo.endswith('xyz'):** Testa se a string 'str_examplexemplo' termina com a string 'xyz'\n",
    "- **exemplo.find('xyz'):** Procura a string 'xyz' dentro de 'exemplo' e retorna o primeiro índice onde 'xyz' começa ou retorna -1 se nada for encontrado\n",
    "- **exemplo.replace('old','new'):** Retorna uma string nova onde todas as ocorrências de 'old' encontradas em 'exemplo' serão substituídas por 'new'"
   ]
  },
  {
   "cell_type": "code",
   "execution_count": 10,
   "id": "aaf05e8a",
   "metadata": {},
   "outputs": [
    {
     "data": {
      "text/plain": [
       "'JuliaCerqueira'"
      ]
     },
     "execution_count": 10,
     "metadata": {},
     "output_type": "execute_result"
    }
   ],
   "source": [
    "# Exemplos utilizando operações numéricas com cada tipo de dados\n",
    "\n",
    "# int\n",
    "2 + 2\n",
    "10 - 10\n",
    "347 * 26\n",
    "9 / 3\n",
    "10 ** 2\n",
    "25 // 4\n",
    "2 % 1\n",
    "(8 * 2) + 7\n",
    "8 * (2 + 7)\n",
    "10 ** 1/2\n",
    "\n",
    "# float\n",
    "2.99 + 11.1\n",
    "3.14 - 12.17\n",
    "0.05 * 2.1369\n",
    "10.12 / 100.49\n",
    "0.1 ** 0\n",
    "16.5 // 4\n",
    "403.97 % 8.18\n",
    "2 ** (1/2)\n",
    "\n",
    "# bool (sim, podemos fazer operações numéricas com booleanos pois o Python os reconhece como True=1 e False=0 !)\n",
    "True + True\n",
    "True - False\n",
    "False * False\n",
    "0 == 0\n",
    "1 > 2\n",
    "4 <= 4\n",
    "3 != 3.000001\n",
    "\n",
    "# str\n",
    "'Julia' + 'Cerqueira'"
   ]
  },
  {
   "cell_type": "markdown",
   "id": "6271e996",
   "metadata": {},
   "source": [
    "### Variáveis"
   ]
  },
  {
   "cell_type": "code",
   "execution_count": 16,
   "id": "a092abc0",
   "metadata": {},
   "outputs": [
    {
     "name": "stdout",
     "output_type": "stream",
     "text": [
      "5.0\n",
      "<class 'float'>\n"
     ]
    }
   ],
   "source": [
    "# \"sofisticando\" as operações utilizando variáveis (isto é, facilitando manipulações no código)\n",
    "v1 =  2 + 2\n",
    "v6 = 25 // 4\n",
    "v7 = 403.97 % 8.1\n",
    "v8 = 10 ** 1/2\n",
    "v9 = 0.05 * 2.1369\n",
    "bool1 = True + True\n",
    "bool2 = 3 != 3.000001\n",
    "\n",
    "nome = 'Julia'\n",
    "sobrenome = 'Cerqueira'\n",
    "nome_completo = nome + ' ' + sobrenome\n",
    "idade = 22\n",
    "\n",
    "print(v8)\n",
    "print(type(v8))"
   ]
  },
  {
   "cell_type": "code",
   "execution_count": 11,
   "id": "d20a37eb",
   "metadata": {},
   "outputs": [
    {
     "name": "stdout",
     "output_type": "stream",
     "text": [
      "Julia Cerqueira\n"
     ]
    }
   ],
   "source": [
    "# Exibição 1\n",
    "print(nome_completo)"
   ]
  },
  {
   "cell_type": "code",
   "execution_count": 12,
   "id": "a195af2f",
   "metadata": {},
   "outputs": [
    {
     "name": "stdout",
     "output_type": "stream",
     "text": [
      "Julia Cerqueira\n"
     ]
    }
   ],
   "source": [
    "# Exibição 2\n",
    "print(nome + ' ' + sobrenome)"
   ]
  },
  {
   "cell_type": "code",
   "execution_count": 15,
   "id": "5681ca06",
   "metadata": {},
   "outputs": [
    {
     "name": "stdout",
     "output_type": "stream",
     "text": [
      "Seu nome completo é Julia Cerqueira e você tem 22 anos.\n"
     ]
    }
   ],
   "source": [
    "# Exibição 3\n",
    "print('Seu nome completo é {} e você tem {} anos.'.format(nome_completo, idade))"
   ]
  },
  {
   "cell_type": "code",
   "execution_count": 17,
   "id": "996a5535",
   "metadata": {},
   "outputs": [
    {
     "name": "stdout",
     "output_type": "stream",
     "text": [
      "Seu nome completo é Julia Cerqueira e você tem 22 anos.\n"
     ]
    }
   ],
   "source": [
    "# Exibição 4\n",
    "print(f'Seu nome completo é {nome_completo} e você tem {idade} anos.')"
   ]
  },
  {
   "cell_type": "code",
   "execution_count": 19,
   "id": "88a4b3a1",
   "metadata": {},
   "outputs": [
    {
     "name": "stdout",
     "output_type": "stream",
     "text": [
      "O resultado da multiplicação 0.05 x 2.1369 com duas casas decimais é 0.11\n"
     ]
    }
   ],
   "source": [
    "# Exibição 5\n",
    "print(f'O resultado da multiplicação 0.05 x 2.1369 com duas casas decimais é {v9:.2f}')"
   ]
  },
  {
   "cell_type": "code",
   "execution_count": 20,
   "id": "c9698d1d",
   "metadata": {},
   "outputs": [
    {
     "ename": "TypeError",
     "evalue": "can only concatenate str (not \"bool\") to str",
     "output_type": "error",
     "traceback": [
      "\u001b[1;31m---------------------------------------------------------------------------\u001b[0m",
      "\u001b[1;31mTypeError\u001b[0m                                 Traceback (most recent call last)",
      "Cell \u001b[1;32mIn[20], line 2\u001b[0m\n\u001b[0;32m      1\u001b[0m \u001b[38;5;66;03m# não podemos realizar operações entre strings e outros tipos de dados\u001b[39;00m\n\u001b[1;32m----> 2\u001b[0m \u001b[38;5;28mprint\u001b[39m(nome \u001b[38;5;241m+\u001b[39m bool2)\n",
      "\u001b[1;31mTypeError\u001b[0m: can only concatenate str (not \"bool\") to str"
     ]
    }
   ],
   "source": [
    "# não podemos realizar operações entre strings e outros tipos de dados\n",
    "print(nome + bool2)"
   ]
  },
  {
   "cell_type": "code",
   "execution_count": 24,
   "id": "c1935823",
   "metadata": {},
   "outputs": [
    {
     "name": "stdout",
     "output_type": "stream",
     "text": [
      "FEA.dev5\n"
     ]
    }
   ],
   "source": [
    "# não podemos transformar strings em int ou float (mas o oposto é verdadeiro)\n",
    "x = 'FEA.dev'\n",
    "y = 5\n",
    "z = '5'\n",
    "\n",
    "# transformação possível\n",
    "print(x + z)\n",
    "\n",
    "#transformação não permitida\n",
    "#print(int(x) + y)"
   ]
  },
  {
   "cell_type": "code",
   "execution_count": 25,
   "id": "cd4fbe65",
   "metadata": {},
   "outputs": [
    {
     "name": "stdout",
     "output_type": "stream",
     "text": [
      "Das Utopias\n",
      "Se as coisas são inatingíveis...ora!\n",
      "Não é motivo para não querê-las...\n",
      "Que tristes os caminhos, se não fora\n",
      "A presença distante das estrelas!\n",
      "\n",
      "Mario Quintana\n",
      "\n",
      "<class 'str'>\n"
     ]
    }
   ],
   "source": [
    "# Extra: docstrings\n",
    "\n",
    "str1 = \"\"\"Das Utopias\n",
    "Se as coisas são inatingíveis...ora!\n",
    "Não é motivo para não querê-las...\n",
    "Que tristes os caminhos, se não fora\n",
    "A presença distante das estrelas!\n",
    "\n",
    "Mario Quintana\n",
    "\"\"\"\n",
    "print(str1)\n",
    "print(type(str1))"
   ]
  },
  {
   "cell_type": "code",
   "execution_count": 41,
   "id": "1761c527",
   "metadata": {},
   "outputs": [
    {
     "data": {
      "text/plain": [
       "'rC'"
      ]
     },
     "execution_count": 41,
     "metadata": {},
     "output_type": "execute_result"
    }
   ],
   "source": [
    "# slicing com strings\n",
    "str2 = 'Curso de Python FEA.dev'\n",
    "\n",
    "str2[2::-2] #start, stop, step"
   ]
  },
  {
   "cell_type": "code",
   "execution_count": 35,
   "id": "e36fa7a7",
   "metadata": {},
   "outputs": [
    {
     "name": "stdout",
     "output_type": "stream",
     "text": [
      "Digite seu primeiro nome: Julia\n",
      "Qual a sua idade? 23\n",
      "Oi JULIA! Bem-vinda ao Curso de Python do FEA.dev. Você tem 23 anos, correto?\n"
     ]
    }
   ],
   "source": [
    "# Aplicação de inputs e outputs\n",
    "\n",
    "# input\n",
    "nome = input('Digite seu primeiro nome: ')\n",
    "idade = int(input('Qual a sua idade? '))\n",
    "\n",
    "#output com formatação\n",
    "print(f'Oi {nome.upper()}! Bem-vinda ao Curso de Python do FEA.dev. Você tem {idade} anos, correto?')\n"
   ]
  },
  {
   "cell_type": "code",
   "execution_count": 43,
   "id": "7d128a13",
   "metadata": {},
   "outputs": [
    {
     "data": {
      "text/plain": [
       "'Curso de R FEA.dev'"
      ]
     },
     "execution_count": 43,
     "metadata": {},
     "output_type": "execute_result"
    }
   ],
   "source": [
    "# exemplos utilizando métodos de strings\n",
    "str2.replace('Python', 'R')"
   ]
  },
  {
   "cell_type": "markdown",
   "id": "22b67f53",
   "metadata": {},
   "source": [
    "## Desafio\n",
    "\n",
    "- Escreva um programa seguindo as instruções:\n",
    "\n",
    "1. Receba como uma entrada a renda e como outra entrada a despesa estimada do usuário para cada um dos últimos 3 meses \n",
    "\n",
    "2. Calcule a média da despesa nesses 3 meses\n",
    "\n",
    "3. Calcule qual seria o saldo anual deste usuário até o final do ano baseado em seu salário mensal e na média das despesas\n",
    "\n",
    "4. Exiba o resultado na tela informando ao usuário o VALOR de seu saldo final, especificando também qual o VALOR da média da despesa que foi utilizada como base para calcular o saldo\n",
    "\n",
    "> Dica: use os métodos de strings e formatação de *output* mostrados em aula para caprichar na exibição do resultado final!"
   ]
  },
  {
   "cell_type": "code",
   "execution_count": 2,
   "id": "882a8536",
   "metadata": {},
   "outputs": [
    {
     "ename": "KeyboardInterrupt",
     "evalue": "Interrupted by user",
     "output_type": "error",
     "traceback": [
      "\u001b[1;31m---------------------------------------------------------------------------\u001b[0m",
      "\u001b[1;31mKeyboardInterrupt\u001b[0m                         Traceback (most recent call last)",
      "Cell \u001b[1;32mIn[2], line 2\u001b[0m\n\u001b[0;32m      1\u001b[0m \u001b[38;5;66;03m# Passo 1: Receba como entrada a renda\u001b[39;00m\n\u001b[1;32m----> 2\u001b[0m renda \u001b[38;5;241m=\u001b[39m \u001b[38;5;28minput\u001b[39m(\u001b[38;5;124m\"\u001b[39m\u001b[38;5;124mQual a sua renda salarial?\u001b[39m\u001b[38;5;124m\"\u001b[39m)\n",
      "File \u001b[1;32mC:\\ProgramData\\anaconda3\\Lib\\site-packages\\ipykernel\\kernelbase.py:1262\u001b[0m, in \u001b[0;36mKernel.raw_input\u001b[1;34m(self, prompt)\u001b[0m\n\u001b[0;32m   1260\u001b[0m     msg \u001b[38;5;241m=\u001b[39m \u001b[38;5;124m\"\u001b[39m\u001b[38;5;124mraw_input was called, but this frontend does not support input requests.\u001b[39m\u001b[38;5;124m\"\u001b[39m\n\u001b[0;32m   1261\u001b[0m     \u001b[38;5;28;01mraise\u001b[39;00m StdinNotImplementedError(msg)\n\u001b[1;32m-> 1262\u001b[0m \u001b[38;5;28;01mreturn\u001b[39;00m \u001b[38;5;28mself\u001b[39m\u001b[38;5;241m.\u001b[39m_input_request(\n\u001b[0;32m   1263\u001b[0m     \u001b[38;5;28mstr\u001b[39m(prompt),\n\u001b[0;32m   1264\u001b[0m     \u001b[38;5;28mself\u001b[39m\u001b[38;5;241m.\u001b[39m_parent_ident[\u001b[38;5;124m\"\u001b[39m\u001b[38;5;124mshell\u001b[39m\u001b[38;5;124m\"\u001b[39m],\n\u001b[0;32m   1265\u001b[0m     \u001b[38;5;28mself\u001b[39m\u001b[38;5;241m.\u001b[39mget_parent(\u001b[38;5;124m\"\u001b[39m\u001b[38;5;124mshell\u001b[39m\u001b[38;5;124m\"\u001b[39m),\n\u001b[0;32m   1266\u001b[0m     password\u001b[38;5;241m=\u001b[39m\u001b[38;5;28;01mFalse\u001b[39;00m,\n\u001b[0;32m   1267\u001b[0m )\n",
      "File \u001b[1;32mC:\\ProgramData\\anaconda3\\Lib\\site-packages\\ipykernel\\kernelbase.py:1305\u001b[0m, in \u001b[0;36mKernel._input_request\u001b[1;34m(self, prompt, ident, parent, password)\u001b[0m\n\u001b[0;32m   1302\u001b[0m \u001b[38;5;28;01mexcept\u001b[39;00m \u001b[38;5;167;01mKeyboardInterrupt\u001b[39;00m:\n\u001b[0;32m   1303\u001b[0m     \u001b[38;5;66;03m# re-raise KeyboardInterrupt, to truncate traceback\u001b[39;00m\n\u001b[0;32m   1304\u001b[0m     msg \u001b[38;5;241m=\u001b[39m \u001b[38;5;124m\"\u001b[39m\u001b[38;5;124mInterrupted by user\u001b[39m\u001b[38;5;124m\"\u001b[39m\n\u001b[1;32m-> 1305\u001b[0m     \u001b[38;5;28;01mraise\u001b[39;00m \u001b[38;5;167;01mKeyboardInterrupt\u001b[39;00m(msg) \u001b[38;5;28;01mfrom\u001b[39;00m \u001b[38;5;28;01mNone\u001b[39;00m\n\u001b[0;32m   1306\u001b[0m \u001b[38;5;28;01mexcept\u001b[39;00m \u001b[38;5;167;01mException\u001b[39;00m:\n\u001b[0;32m   1307\u001b[0m     \u001b[38;5;28mself\u001b[39m\u001b[38;5;241m.\u001b[39mlog\u001b[38;5;241m.\u001b[39mwarning(\u001b[38;5;124m\"\u001b[39m\u001b[38;5;124mInvalid Message:\u001b[39m\u001b[38;5;124m\"\u001b[39m, exc_info\u001b[38;5;241m=\u001b[39m\u001b[38;5;28;01mTrue\u001b[39;00m)\n",
      "\u001b[1;31mKeyboardInterrupt\u001b[0m: Interrupted by user"
     ]
    },
    {
     "name": "stdin",
     "output_type": "stream",
     "text": [
      "Qual a sua renda salarial? 1500\n"
     ]
    }
   ],
   "source": [
    "# Passo 1: Receba como entrada a renda\n",
    "renda = input(\"Qual a sua renda salarial?\")\n",
    "\n",
    "# Passo 2: Receba como entrada a despesa estimada do usuário para cada um dos últimos 3 meses\n",
    "\n",
    "# Passo 3: Calcule a média da despesa nesses 3 meses\n",
    "\n",
    "# Passo 4: Calcule qual seria o saldo anual deste usuário até o final do ano baseado em seu salário mensal e na média das despesas\n",
    "\n",
    "# Passo 5: Exiba o resultado na tela informando ao usuário o VALOR de seu saldo final, especificando também qual o VALOR da média da despesa que foi\n",
    "# utilizada como base para calcular o saldo\n",
    "# Dica: use os métodos de strings e formatação de output mostrados em aula para caprichar na exibição do resultado final!"
   ]
  },
  {
   "cell_type": "code",
   "execution_count": null,
   "id": "b3d8828f-e4dd-492d-aa96-79a3513f58d5",
   "metadata": {},
   "outputs": [],
   "source": []
  }
 ],
 "metadata": {
  "kernelspec": {
   "display_name": "Python 3 (ipykernel)",
   "language": "python",
   "name": "python3"
  },
  "language_info": {
   "codemirror_mode": {
    "name": "ipython",
    "version": 3
   },
   "file_extension": ".py",
   "mimetype": "text/x-python",
   "name": "python",
   "nbconvert_exporter": "python",
   "pygments_lexer": "ipython3",
   "version": "3.12.7"
  }
 },
 "nbformat": 4,
 "nbformat_minor": 5
}
